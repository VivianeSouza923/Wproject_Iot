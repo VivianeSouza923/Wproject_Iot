{
  "cells": [
    {
      "cell_type": "markdown",
      "metadata": {
        "id": "view-in-github",
        "colab_type": "text"
      },
      "source": [
        "<a href=\"https://colab.research.google.com/github/VivianeSouza923/Wproject_Iot/blob/main/Treinamento_Bot_Iot.ipynb\" target=\"_parent\"><img src=\"https://colab.research.google.com/assets/colab-badge.svg\" alt=\"Open In Colab\"/></a>"
      ]
    },
    {
      "cell_type": "code",
      "execution_count": 1,
      "metadata": {
        "colab": {
          "base_uri": "https://localhost:8080/"
        },
        "id": "0b435a5e",
        "outputId": "5206576a-4a74-4617-d259-f05ddd9ee5f3"
      },
      "outputs": [
        {
          "output_type": "stream",
          "name": "stdout",
          "text": [
            "Collecting pycaret\n",
            "  Downloading pycaret-3.0.3-py3-none-any.whl (484 kB)\n",
            "\u001b[2K     \u001b[90m━━━━━━━━━━━━━━━━━━━━━━━━━━━━━━━━━━━━━━\u001b[0m \u001b[32m484.7/484.7 kB\u001b[0m \u001b[31m10.8 MB/s\u001b[0m eta \u001b[36m0:00:00\u001b[0m\n",
            "\u001b[?25hRequirement already satisfied: ipython>=5.5.0 in /usr/local/lib/python3.10/dist-packages (from pycaret) (7.34.0)\n",
            "Requirement already satisfied: ipywidgets>=7.6.5 in /usr/local/lib/python3.10/dist-packages (from pycaret) (7.7.1)\n",
            "Requirement already satisfied: tqdm>=4.62.0 in /usr/local/lib/python3.10/dist-packages (from pycaret) (4.65.0)\n",
            "Requirement already satisfied: numpy<1.24,>=1.21 in /usr/local/lib/python3.10/dist-packages (from pycaret) (1.22.4)\n",
            "Requirement already satisfied: pandas<2.0.0,>=1.3.0 in /usr/local/lib/python3.10/dist-packages (from pycaret) (1.5.3)\n",
            "Requirement already satisfied: jinja2>=1.2 in /usr/local/lib/python3.10/dist-packages (from pycaret) (3.1.2)\n",
            "Requirement already satisfied: scipy<2.0.0 in /usr/local/lib/python3.10/dist-packages (from pycaret) (1.10.1)\n",
            "Requirement already satisfied: joblib>=1.2.0 in /usr/local/lib/python3.10/dist-packages (from pycaret) (1.2.0)\n",
            "Requirement already satisfied: scikit-learn>=1.0 in /usr/local/lib/python3.10/dist-packages (from pycaret) (1.2.2)\n",
            "Collecting pyod>=1.0.8 (from pycaret)\n",
            "  Downloading pyod-1.1.0.tar.gz (153 kB)\n",
            "\u001b[2K     \u001b[90m━━━━━━━━━━━━━━━━━━━━━━━━━━━━━━━━━━━━━━\u001b[0m \u001b[32m153.4/153.4 kB\u001b[0m \u001b[31m20.1 MB/s\u001b[0m eta \u001b[36m0:00:00\u001b[0m\n",
            "\u001b[?25h  Preparing metadata (setup.py) ... \u001b[?25l\u001b[?25hdone\n",
            "Requirement already satisfied: imbalanced-learn>=0.8.1 in /usr/local/lib/python3.10/dist-packages (from pycaret) (0.10.1)\n",
            "Collecting category-encoders>=2.4.0 (from pycaret)\n",
            "  Downloading category_encoders-2.6.1-py2.py3-none-any.whl (81 kB)\n",
            "\u001b[2K     \u001b[90m━━━━━━━━━━━━━━━━━━━━━━━━━━━━━━━━━━━━━━━━\u001b[0m \u001b[32m81.9/81.9 kB\u001b[0m \u001b[31m11.8 MB/s\u001b[0m eta \u001b[36m0:00:00\u001b[0m\n",
            "\u001b[?25hRequirement already satisfied: lightgbm>=3.0.0 in /usr/local/lib/python3.10/dist-packages (from pycaret) (3.3.5)\n",
            "Requirement already satisfied: numba>=0.55.0 in /usr/local/lib/python3.10/dist-packages (from pycaret) (0.56.4)\n",
            "Requirement already satisfied: requests>=2.27.1 in /usr/local/lib/python3.10/dist-packages (from pycaret) (2.27.1)\n",
            "Requirement already satisfied: psutil>=5.9.0 in /usr/local/lib/python3.10/dist-packages (from pycaret) (5.9.5)\n",
            "Requirement already satisfied: markupsafe>=2.0.1 in /usr/local/lib/python3.10/dist-packages (from pycaret) (2.1.3)\n",
            "Collecting importlib-metadata>=4.12.0 (from pycaret)\n",
            "  Downloading importlib_metadata-6.7.0-py3-none-any.whl (22 kB)\n",
            "Requirement already satisfied: nbformat>=4.2.0 in /usr/local/lib/python3.10/dist-packages (from pycaret) (5.9.0)\n",
            "Requirement already satisfied: cloudpickle in /usr/local/lib/python3.10/dist-packages (from pycaret) (2.2.1)\n",
            "Collecting deprecation>=2.1.0 (from pycaret)\n",
            "  Downloading deprecation-2.1.0-py2.py3-none-any.whl (11 kB)\n",
            "Collecting xxhash (from pycaret)\n",
            "  Downloading xxhash-3.2.0-cp310-cp310-manylinux_2_17_x86_64.manylinux2014_x86_64.whl (212 kB)\n",
            "\u001b[2K     \u001b[90m━━━━━━━━━━━━━━━━━━━━━━━━━━━━━━━━━━━━━━\u001b[0m \u001b[32m212.5/212.5 kB\u001b[0m \u001b[31m29.1 MB/s\u001b[0m eta \u001b[36m0:00:00\u001b[0m\n",
            "\u001b[?25hRequirement already satisfied: matplotlib>=3.3.0 in /usr/local/lib/python3.10/dist-packages (from pycaret) (3.7.1)\n",
            "Collecting scikit-plot>=0.3.7 (from pycaret)\n",
            "  Downloading scikit_plot-0.3.7-py3-none-any.whl (33 kB)\n",
            "Requirement already satisfied: yellowbrick>=1.4 in /usr/local/lib/python3.10/dist-packages (from pycaret) (1.5)\n",
            "Requirement already satisfied: plotly>=5.0.0 in /usr/local/lib/python3.10/dist-packages (from pycaret) (5.13.1)\n",
            "Collecting kaleido>=0.2.1 (from pycaret)\n",
            "  Downloading kaleido-0.2.1-py2.py3-none-manylinux1_x86_64.whl (79.9 MB)\n",
            "\u001b[2K     \u001b[90m━━━━━━━━━━━━━━━━━━━━━━━━━━━━━━━━━━━━━━━━\u001b[0m \u001b[32m79.9/79.9 MB\u001b[0m \u001b[31m11.7 MB/s\u001b[0m eta \u001b[36m0:00:00\u001b[0m\n",
            "\u001b[?25hCollecting schemdraw==0.15 (from pycaret)\n",
            "  Downloading schemdraw-0.15-py3-none-any.whl (106 kB)\n",
            "\u001b[2K     \u001b[90m━━━━━━━━━━━━━━━━━━━━━━━━━━━━━━━━━━━━━━\u001b[0m \u001b[32m106.8/106.8 kB\u001b[0m \u001b[31m15.2 MB/s\u001b[0m eta \u001b[36m0:00:00\u001b[0m\n",
            "\u001b[?25hCollecting plotly-resampler>=0.8.3.1 (from pycaret)\n",
            "  Downloading plotly_resampler-0.8.3.2.tar.gz (46 kB)\n",
            "\u001b[2K     \u001b[90m━━━━━━━━━━━━━━━━━━━━━━━━━━━━━━━━━━━━━━━━\u001b[0m \u001b[32m46.4/46.4 kB\u001b[0m \u001b[31m6.3 MB/s\u001b[0m eta \u001b[36m0:00:00\u001b[0m\n",
            "\u001b[?25h  Installing build dependencies ... \u001b[?25l\u001b[?25hdone\n",
            "  Getting requirements to build wheel ... \u001b[?25l\u001b[?25hdone\n",
            "  Preparing metadata (pyproject.toml) ... \u001b[?25l\u001b[?25hdone\n",
            "Requirement already satisfied: statsmodels>=0.12.1 in /usr/local/lib/python3.10/dist-packages (from pycaret) (0.13.5)\n",
            "Collecting sktime!=0.17.1,!=0.17.2,!=0.18.0,>=0.16.1 (from pycaret)\n",
            "  Downloading sktime-0.20.0-py3-none-any.whl (17.0 MB)\n",
            "\u001b[2K     \u001b[90m━━━━━━━━━━━━━━━━━━━━━━━━━━━━━━━━━━━━━━━━\u001b[0m \u001b[32m17.0/17.0 MB\u001b[0m \u001b[31m60.8 MB/s\u001b[0m eta \u001b[36m0:00:00\u001b[0m\n",
            "\u001b[?25hCollecting tbats>=1.1.3 (from pycaret)\n",
            "  Downloading tbats-1.1.3-py3-none-any.whl (44 kB)\n",
            "\u001b[2K     \u001b[90m━━━━━━━━━━━━━━━━━━━━━━━━━━━━━━━━━━━━━━━━\u001b[0m \u001b[32m44.0/44.0 kB\u001b[0m \u001b[31m5.4 MB/s\u001b[0m eta \u001b[36m0:00:00\u001b[0m\n",
            "\u001b[?25hCollecting pmdarima!=1.8.1,<3.0.0,>=1.8.0 (from pycaret)\n",
            "  Downloading pmdarima-2.0.3-cp310-cp310-manylinux_2_17_x86_64.manylinux2014_x86_64.manylinux_2_28_x86_64.whl (1.8 MB)\n",
            "\u001b[2K     \u001b[90m━━━━━━━━━━━━━━━━━━━━━━━━━━━━━━━━━━━━━━━━\u001b[0m \u001b[32m1.8/1.8 MB\u001b[0m \u001b[31m69.9 MB/s\u001b[0m eta \u001b[36m0:00:00\u001b[0m\n",
            "\u001b[?25hCollecting wurlitzer (from pycaret)\n",
            "  Downloading wurlitzer-3.0.3-py3-none-any.whl (7.3 kB)\n",
            "Requirement already satisfied: patsy>=0.5.1 in /usr/local/lib/python3.10/dist-packages (from category-encoders>=2.4.0->pycaret) (0.5.3)\n",
            "Requirement already satisfied: packaging in /usr/local/lib/python3.10/dist-packages (from deprecation>=2.1.0->pycaret) (23.1)\n",
            "Requirement already satisfied: threadpoolctl>=2.0.0 in /usr/local/lib/python3.10/dist-packages (from imbalanced-learn>=0.8.1->pycaret) (3.1.0)\n",
            "Requirement already satisfied: zipp>=0.5 in /usr/local/lib/python3.10/dist-packages (from importlib-metadata>=4.12.0->pycaret) (3.15.0)\n",
            "Requirement already satisfied: setuptools>=18.5 in /usr/local/lib/python3.10/dist-packages (from ipython>=5.5.0->pycaret) (67.7.2)\n",
            "Collecting jedi>=0.16 (from ipython>=5.5.0->pycaret)\n",
            "  Downloading jedi-0.18.2-py2.py3-none-any.whl (1.6 MB)\n",
            "\u001b[2K     \u001b[90m━━━━━━━━━━━━━━━━━━━━━━━━━━━━━━━━━━━━━━━━\u001b[0m \u001b[32m1.6/1.6 MB\u001b[0m \u001b[31m70.5 MB/s\u001b[0m eta \u001b[36m0:00:00\u001b[0m\n",
            "\u001b[?25hRequirement already satisfied: decorator in /usr/local/lib/python3.10/dist-packages (from ipython>=5.5.0->pycaret) (4.4.2)\n",
            "Requirement already satisfied: pickleshare in /usr/local/lib/python3.10/dist-packages (from ipython>=5.5.0->pycaret) (0.7.5)\n",
            "Requirement already satisfied: traitlets>=4.2 in /usr/local/lib/python3.10/dist-packages (from ipython>=5.5.0->pycaret) (5.7.1)\n",
            "Requirement already satisfied: prompt-toolkit!=3.0.0,!=3.0.1,<3.1.0,>=2.0.0 in /usr/local/lib/python3.10/dist-packages (from ipython>=5.5.0->pycaret) (3.0.38)\n",
            "Requirement already satisfied: pygments in /usr/local/lib/python3.10/dist-packages (from ipython>=5.5.0->pycaret) (2.14.0)\n",
            "Requirement already satisfied: backcall in /usr/local/lib/python3.10/dist-packages (from ipython>=5.5.0->pycaret) (0.2.0)\n",
            "Requirement already satisfied: matplotlib-inline in /usr/local/lib/python3.10/dist-packages (from ipython>=5.5.0->pycaret) (0.1.6)\n",
            "Requirement already satisfied: pexpect>4.3 in /usr/local/lib/python3.10/dist-packages (from ipython>=5.5.0->pycaret) (4.8.0)\n",
            "Requirement already satisfied: ipykernel>=4.5.1 in /usr/local/lib/python3.10/dist-packages (from ipywidgets>=7.6.5->pycaret) (5.5.6)\n",
            "Requirement already satisfied: ipython-genutils~=0.2.0 in /usr/local/lib/python3.10/dist-packages (from ipywidgets>=7.6.5->pycaret) (0.2.0)\n",
            "Requirement already satisfied: widgetsnbextension~=3.6.0 in /usr/local/lib/python3.10/dist-packages (from ipywidgets>=7.6.5->pycaret) (3.6.4)\n",
            "Requirement already satisfied: jupyterlab-widgets>=1.0.0 in /usr/local/lib/python3.10/dist-packages (from ipywidgets>=7.6.5->pycaret) (3.0.7)\n",
            "Requirement already satisfied: wheel in /usr/local/lib/python3.10/dist-packages (from lightgbm>=3.0.0->pycaret) (0.40.0)\n",
            "Requirement already satisfied: contourpy>=1.0.1 in /usr/local/lib/python3.10/dist-packages (from matplotlib>=3.3.0->pycaret) (1.1.0)\n",
            "Requirement already satisfied: cycler>=0.10 in /usr/local/lib/python3.10/dist-packages (from matplotlib>=3.3.0->pycaret) (0.11.0)\n",
            "Requirement already satisfied: fonttools>=4.22.0 in /usr/local/lib/python3.10/dist-packages (from matplotlib>=3.3.0->pycaret) (4.40.0)\n",
            "Requirement already satisfied: kiwisolver>=1.0.1 in /usr/local/lib/python3.10/dist-packages (from matplotlib>=3.3.0->pycaret) (1.4.4)\n",
            "Requirement already satisfied: pillow>=6.2.0 in /usr/local/lib/python3.10/dist-packages (from matplotlib>=3.3.0->pycaret) (8.4.0)\n",
            "Requirement already satisfied: pyparsing>=2.3.1 in /usr/local/lib/python3.10/dist-packages (from matplotlib>=3.3.0->pycaret) (3.1.0)\n",
            "Requirement already satisfied: python-dateutil>=2.7 in /usr/local/lib/python3.10/dist-packages (from matplotlib>=3.3.0->pycaret) (2.8.2)\n",
            "Requirement already satisfied: fastjsonschema in /usr/local/lib/python3.10/dist-packages (from nbformat>=4.2.0->pycaret) (2.17.1)\n",
            "Requirement already satisfied: jsonschema>=2.6 in /usr/local/lib/python3.10/dist-packages (from nbformat>=4.2.0->pycaret) (4.3.3)\n",
            "Requirement already satisfied: jupyter-core in /usr/local/lib/python3.10/dist-packages (from nbformat>=4.2.0->pycaret) (5.3.1)\n",
            "Requirement already satisfied: llvmlite<0.40,>=0.39.0dev0 in /usr/local/lib/python3.10/dist-packages (from numba>=0.55.0->pycaret) (0.39.1)\n",
            "Requirement already satisfied: pytz>=2020.1 in /usr/local/lib/python3.10/dist-packages (from pandas<2.0.0,>=1.3.0->pycaret) (2022.7.1)\n",
            "Requirement already satisfied: tenacity>=6.2.0 in /usr/local/lib/python3.10/dist-packages (from plotly>=5.0.0->pycaret) (8.2.2)\n",
            "Collecting dash<3.0.0,>=2.2.0 (from plotly-resampler>=0.8.3.1->pycaret)\n",
            "  Downloading dash-2.11.0-py3-none-any.whl (10.4 MB)\n",
            "\u001b[2K     \u001b[90m━━━━━━━━━━━━━━━━━━━━━━━━━━━━━━━━━━━━━━━━\u001b[0m \u001b[32m10.4/10.4 MB\u001b[0m \u001b[31m89.9 MB/s\u001b[0m eta \u001b[36m0:00:00\u001b[0m\n",
            "\u001b[?25hCollecting jupyter-dash>=0.4.2 (from plotly-resampler>=0.8.3.1->pycaret)\n",
            "  Downloading jupyter_dash-0.4.2-py3-none-any.whl (23 kB)\n",
            "Collecting orjson<4.0.0,>=3.8.0 (from plotly-resampler>=0.8.3.1->pycaret)\n",
            "  Downloading orjson-3.9.1-cp310-cp310-manylinux_2_17_x86_64.manylinux2014_x86_64.whl (136 kB)\n",
            "\u001b[2K     \u001b[90m━━━━━━━━━━━━━━━━━━━━━━━━━━━━━━━━━━━━━━\u001b[0m \u001b[32m137.0/137.0 kB\u001b[0m \u001b[31m10.9 MB/s\u001b[0m eta \u001b[36m0:00:00\u001b[0m\n",
            "\u001b[?25hCollecting trace-updater>=0.0.8 (from plotly-resampler>=0.8.3.1->pycaret)\n",
            "  Downloading trace_updater-0.0.9.1-py3-none-any.whl (185 kB)\n",
            "\u001b[2K     \u001b[90m━━━━━━━━━━━━━━━━━━━━━━━━━━━━━━━━━━━━━━\u001b[0m \u001b[32m185.2/185.2 kB\u001b[0m \u001b[31m20.5 MB/s\u001b[0m eta \u001b[36m0:00:00\u001b[0m\n",
            "\u001b[?25hRequirement already satisfied: Cython!=0.29.18,!=0.29.31,>=0.29 in /usr/local/lib/python3.10/dist-packages (from pmdarima!=1.8.1,<3.0.0,>=1.8.0->pycaret) (0.29.35)\n",
            "Requirement already satisfied: urllib3 in /usr/local/lib/python3.10/dist-packages (from pmdarima!=1.8.1,<3.0.0,>=1.8.0->pycaret) (1.26.16)\n",
            "Requirement already satisfied: six in /usr/local/lib/python3.10/dist-packages (from pyod>=1.0.8->pycaret) (1.16.0)\n",
            "Requirement already satisfied: certifi>=2017.4.17 in /usr/local/lib/python3.10/dist-packages (from requests>=2.27.1->pycaret) (2023.5.7)\n",
            "Requirement already satisfied: charset-normalizer~=2.0.0 in /usr/local/lib/python3.10/dist-packages (from requests>=2.27.1->pycaret) (2.0.12)\n",
            "Requirement already satisfied: idna<4,>=2.5 in /usr/local/lib/python3.10/dist-packages (from requests>=2.27.1->pycaret) (3.4)\n",
            "Collecting deprecated>=1.2.13 (from sktime!=0.17.1,!=0.17.2,!=0.18.0,>=0.16.1->pycaret)\n",
            "  Downloading Deprecated-1.2.14-py2.py3-none-any.whl (9.6 kB)\n",
            "Collecting scikit-base<0.6.0 (from sktime!=0.17.1,!=0.17.2,!=0.18.0,>=0.16.1->pycaret)\n",
            "  Downloading scikit_base-0.5.0-py3-none-any.whl (118 kB)\n",
            "\u001b[2K     \u001b[90m━━━━━━━━━━━━━━━━━━━━━━━━━━━━━━━━━━━━━━\u001b[0m \u001b[32m118.2/118.2 kB\u001b[0m \u001b[31m15.9 MB/s\u001b[0m eta \u001b[36m0:00:00\u001b[0m\n",
            "\u001b[?25hRequirement already satisfied: Flask<2.3.0,>=1.0.4 in /usr/local/lib/python3.10/dist-packages (from dash<3.0.0,>=2.2.0->plotly-resampler>=0.8.3.1->pycaret) (2.2.5)\n",
            "Collecting Werkzeug<2.3.0 (from dash<3.0.0,>=2.2.0->plotly-resampler>=0.8.3.1->pycaret)\n",
            "  Downloading Werkzeug-2.2.3-py3-none-any.whl (233 kB)\n",
            "\u001b[2K     \u001b[90m━━━━━━━━━━━━━━━━━━━━━━━━━━━━━━━━━━━━━━\u001b[0m \u001b[32m233.6/233.6 kB\u001b[0m \u001b[31m29.7 MB/s\u001b[0m eta \u001b[36m0:00:00\u001b[0m\n",
            "\u001b[?25hCollecting dash-html-components==2.0.0 (from dash<3.0.0,>=2.2.0->plotly-resampler>=0.8.3.1->pycaret)\n",
            "  Downloading dash_html_components-2.0.0-py3-none-any.whl (4.1 kB)\n",
            "Collecting dash-core-components==2.0.0 (from dash<3.0.0,>=2.2.0->plotly-resampler>=0.8.3.1->pycaret)\n",
            "  Downloading dash_core_components-2.0.0-py3-none-any.whl (3.8 kB)\n",
            "Collecting dash-table==5.0.0 (from dash<3.0.0,>=2.2.0->plotly-resampler>=0.8.3.1->pycaret)\n",
            "  Downloading dash_table-5.0.0-py3-none-any.whl (3.9 kB)\n",
            "Requirement already satisfied: typing-extensions>=4.1.1 in /usr/local/lib/python3.10/dist-packages (from dash<3.0.0,>=2.2.0->plotly-resampler>=0.8.3.1->pycaret) (4.6.3)\n",
            "Collecting retrying (from dash<3.0.0,>=2.2.0->plotly-resampler>=0.8.3.1->pycaret)\n",
            "  Downloading retrying-1.3.4-py3-none-any.whl (11 kB)\n",
            "Collecting ansi2html (from dash<3.0.0,>=2.2.0->plotly-resampler>=0.8.3.1->pycaret)\n",
            "  Downloading ansi2html-1.8.0-py3-none-any.whl (16 kB)\n",
            "Requirement already satisfied: nest-asyncio in /usr/local/lib/python3.10/dist-packages (from dash<3.0.0,>=2.2.0->plotly-resampler>=0.8.3.1->pycaret) (1.5.6)\n",
            "Requirement already satisfied: wrapt<2,>=1.10 in /usr/local/lib/python3.10/dist-packages (from deprecated>=1.2.13->sktime!=0.17.1,!=0.17.2,!=0.18.0,>=0.16.1->pycaret) (1.14.1)\n",
            "Requirement already satisfied: jupyter-client in /usr/local/lib/python3.10/dist-packages (from ipykernel>=4.5.1->ipywidgets>=7.6.5->pycaret) (6.1.12)\n",
            "Requirement already satisfied: tornado>=4.2 in /usr/local/lib/python3.10/dist-packages (from ipykernel>=4.5.1->ipywidgets>=7.6.5->pycaret) (6.3.1)\n",
            "Requirement already satisfied: parso<0.9.0,>=0.8.0 in /usr/local/lib/python3.10/dist-packages (from jedi>=0.16->ipython>=5.5.0->pycaret) (0.8.3)\n",
            "Requirement already satisfied: attrs>=17.4.0 in /usr/local/lib/python3.10/dist-packages (from jsonschema>=2.6->nbformat>=4.2.0->pycaret) (23.1.0)\n",
            "Requirement already satisfied: pyrsistent!=0.17.0,!=0.17.1,!=0.17.2,>=0.14.0 in /usr/local/lib/python3.10/dist-packages (from jsonschema>=2.6->nbformat>=4.2.0->pycaret) (0.19.3)\n",
            "Requirement already satisfied: ptyprocess>=0.5 in /usr/local/lib/python3.10/dist-packages (from pexpect>4.3->ipython>=5.5.0->pycaret) (0.7.0)\n",
            "Requirement already satisfied: wcwidth in /usr/local/lib/python3.10/dist-packages (from prompt-toolkit!=3.0.0,!=3.0.1,<3.1.0,>=2.0.0->ipython>=5.5.0->pycaret) (0.2.6)\n",
            "Requirement already satisfied: notebook>=4.4.1 in /usr/local/lib/python3.10/dist-packages (from widgetsnbextension~=3.6.0->ipywidgets>=7.6.5->pycaret) (6.4.8)\n",
            "Requirement already satisfied: platformdirs>=2.5 in /usr/local/lib/python3.10/dist-packages (from jupyter-core->nbformat>=4.2.0->pycaret) (3.7.0)\n",
            "Requirement already satisfied: itsdangerous>=2.0 in /usr/local/lib/python3.10/dist-packages (from Flask<2.3.0,>=1.0.4->dash<3.0.0,>=2.2.0->plotly-resampler>=0.8.3.1->pycaret) (2.1.2)\n",
            "Requirement already satisfied: click>=8.0 in /usr/local/lib/python3.10/dist-packages (from Flask<2.3.0,>=1.0.4->dash<3.0.0,>=2.2.0->plotly-resampler>=0.8.3.1->pycaret) (8.1.3)\n",
            "Requirement already satisfied: pyzmq>=17 in /usr/local/lib/python3.10/dist-packages (from notebook>=4.4.1->widgetsnbextension~=3.6.0->ipywidgets>=7.6.5->pycaret) (23.2.1)\n",
            "Requirement already satisfied: argon2-cffi in /usr/local/lib/python3.10/dist-packages (from notebook>=4.4.1->widgetsnbextension~=3.6.0->ipywidgets>=7.6.5->pycaret) (21.3.0)\n",
            "Requirement already satisfied: nbconvert in /usr/local/lib/python3.10/dist-packages (from notebook>=4.4.1->widgetsnbextension~=3.6.0->ipywidgets>=7.6.5->pycaret) (6.5.4)\n",
            "Requirement already satisfied: Send2Trash>=1.8.0 in /usr/local/lib/python3.10/dist-packages (from notebook>=4.4.1->widgetsnbextension~=3.6.0->ipywidgets>=7.6.5->pycaret) (1.8.2)\n",
            "Requirement already satisfied: terminado>=0.8.3 in /usr/local/lib/python3.10/dist-packages (from notebook>=4.4.1->widgetsnbextension~=3.6.0->ipywidgets>=7.6.5->pycaret) (0.17.1)\n",
            "Requirement already satisfied: prometheus-client in /usr/local/lib/python3.10/dist-packages (from notebook>=4.4.1->widgetsnbextension~=3.6.0->ipywidgets>=7.6.5->pycaret) (0.17.0)\n",
            "Requirement already satisfied: argon2-cffi-bindings in /usr/local/lib/python3.10/dist-packages (from argon2-cffi->notebook>=4.4.1->widgetsnbextension~=3.6.0->ipywidgets>=7.6.5->pycaret) (21.2.0)\n",
            "Requirement already satisfied: lxml in /usr/local/lib/python3.10/dist-packages (from nbconvert->notebook>=4.4.1->widgetsnbextension~=3.6.0->ipywidgets>=7.6.5->pycaret) (4.9.2)\n",
            "Requirement already satisfied: beautifulsoup4 in /usr/local/lib/python3.10/dist-packages (from nbconvert->notebook>=4.4.1->widgetsnbextension~=3.6.0->ipywidgets>=7.6.5->pycaret) (4.11.2)\n",
            "Requirement already satisfied: bleach in /usr/local/lib/python3.10/dist-packages (from nbconvert->notebook>=4.4.1->widgetsnbextension~=3.6.0->ipywidgets>=7.6.5->pycaret) (6.0.0)\n",
            "Requirement already satisfied: defusedxml in /usr/local/lib/python3.10/dist-packages (from nbconvert->notebook>=4.4.1->widgetsnbextension~=3.6.0->ipywidgets>=7.6.5->pycaret) (0.7.1)\n",
            "Requirement already satisfied: entrypoints>=0.2.2 in /usr/local/lib/python3.10/dist-packages (from nbconvert->notebook>=4.4.1->widgetsnbextension~=3.6.0->ipywidgets>=7.6.5->pycaret) (0.4)\n",
            "Requirement already satisfied: jupyterlab-pygments in /usr/local/lib/python3.10/dist-packages (from nbconvert->notebook>=4.4.1->widgetsnbextension~=3.6.0->ipywidgets>=7.6.5->pycaret) (0.2.2)\n",
            "Requirement already satisfied: mistune<2,>=0.8.1 in /usr/local/lib/python3.10/dist-packages (from nbconvert->notebook>=4.4.1->widgetsnbextension~=3.6.0->ipywidgets>=7.6.5->pycaret) (0.8.4)\n",
            "Requirement already satisfied: nbclient>=0.5.0 in /usr/local/lib/python3.10/dist-packages (from nbconvert->notebook>=4.4.1->widgetsnbextension~=3.6.0->ipywidgets>=7.6.5->pycaret) (0.8.0)\n",
            "Requirement already satisfied: pandocfilters>=1.4.1 in /usr/local/lib/python3.10/dist-packages (from nbconvert->notebook>=4.4.1->widgetsnbextension~=3.6.0->ipywidgets>=7.6.5->pycaret) (1.5.0)\n",
            "Requirement already satisfied: tinycss2 in /usr/local/lib/python3.10/dist-packages (from nbconvert->notebook>=4.4.1->widgetsnbextension~=3.6.0->ipywidgets>=7.6.5->pycaret) (1.2.1)\n",
            "Requirement already satisfied: cffi>=1.0.1 in /usr/local/lib/python3.10/dist-packages (from argon2-cffi-bindings->argon2-cffi->notebook>=4.4.1->widgetsnbextension~=3.6.0->ipywidgets>=7.6.5->pycaret) (1.15.1)\n",
            "Requirement already satisfied: soupsieve>1.2 in /usr/local/lib/python3.10/dist-packages (from beautifulsoup4->nbconvert->notebook>=4.4.1->widgetsnbextension~=3.6.0->ipywidgets>=7.6.5->pycaret) (2.4.1)\n",
            "Requirement already satisfied: webencodings in /usr/local/lib/python3.10/dist-packages (from bleach->nbconvert->notebook>=4.4.1->widgetsnbextension~=3.6.0->ipywidgets>=7.6.5->pycaret) (0.5.1)\n",
            "Requirement already satisfied: pycparser in /usr/local/lib/python3.10/dist-packages (from cffi>=1.0.1->argon2-cffi-bindings->argon2-cffi->notebook>=4.4.1->widgetsnbextension~=3.6.0->ipywidgets>=7.6.5->pycaret) (2.21)\n",
            "Building wheels for collected packages: plotly-resampler, pyod\n",
            "  Building wheel for plotly-resampler (pyproject.toml) ... \u001b[?25l\u001b[?25hdone\n",
            "  Created wheel for plotly-resampler: filename=plotly_resampler-0.8.3.2-cp310-cp310-manylinux_2_31_x86_64.whl size=75235 sha256=73f61609ada2b36a060a5bafd9a9f0df2447d9c31ee3497ea32b0ae0c89f12fe\n",
            "  Stored in directory: /root/.cache/pip/wheels/a9/19/e2/ec856d98cf9b617511fff0abae1dfed5bf1f6093ce65126b45\n",
            "  Building wheel for pyod (setup.py) ... \u001b[?25l\u001b[?25hdone\n",
            "  Created wheel for pyod: filename=pyod-1.1.0-py3-none-any.whl size=185331 sha256=0422940df170e3e92cbdfebdeafa236e0db18d84be763d258ac2fdd2833645c9\n",
            "  Stored in directory: /root/.cache/pip/wheels/36/8e/e2/e932956b10b843eb6be9eefa70b5c1bee7b561be14c423b136\n",
            "Successfully built plotly-resampler pyod\n",
            "Installing collected packages: trace-updater, kaleido, dash-table, dash-html-components, dash-core-components, xxhash, wurlitzer, Werkzeug, scikit-base, schemdraw, retrying, orjson, jedi, importlib-metadata, deprecation, deprecated, ansi2html, sktime, scikit-plot, pyod, dash, pmdarima, jupyter-dash, category-encoders, tbats, plotly-resampler, pycaret\n",
            "  Attempting uninstall: Werkzeug\n",
            "    Found existing installation: Werkzeug 2.3.6\n",
            "    Uninstalling Werkzeug-2.3.6:\n",
            "      Successfully uninstalled Werkzeug-2.3.6\n",
            "Successfully installed Werkzeug-2.2.3 ansi2html-1.8.0 category-encoders-2.6.1 dash-2.11.0 dash-core-components-2.0.0 dash-html-components-2.0.0 dash-table-5.0.0 deprecated-1.2.14 deprecation-2.1.0 importlib-metadata-6.7.0 jedi-0.18.2 jupyter-dash-0.4.2 kaleido-0.2.1 orjson-3.9.1 plotly-resampler-0.8.3.2 pmdarima-2.0.3 pycaret-3.0.3 pyod-1.1.0 retrying-1.3.4 schemdraw-0.15 scikit-base-0.5.0 scikit-plot-0.3.7 sktime-0.20.0 tbats-1.1.3 trace-updater-0.0.9.1 wurlitzer-3.0.3 xxhash-3.2.0\n",
            "Collecting shap\n",
            "  Downloading shap-0.41.0-cp310-cp310-manylinux_2_12_x86_64.manylinux2010_x86_64.whl (572 kB)\n",
            "\u001b[2K     \u001b[90m━━━━━━━━━━━━━━━━━━━━━━━━━━━━━━━━━━━━━━\u001b[0m \u001b[32m572.6/572.6 kB\u001b[0m \u001b[31m12.2 MB/s\u001b[0m eta \u001b[36m0:00:00\u001b[0m\n",
            "\u001b[?25hRequirement already satisfied: numpy in /usr/local/lib/python3.10/dist-packages (from shap) (1.22.4)\n",
            "Requirement already satisfied: scipy in /usr/local/lib/python3.10/dist-packages (from shap) (1.10.1)\n",
            "Requirement already satisfied: scikit-learn in /usr/local/lib/python3.10/dist-packages (from shap) (1.2.2)\n",
            "Requirement already satisfied: pandas in /usr/local/lib/python3.10/dist-packages (from shap) (1.5.3)\n",
            "Requirement already satisfied: tqdm>4.25.0 in /usr/local/lib/python3.10/dist-packages (from shap) (4.65.0)\n",
            "Requirement already satisfied: packaging>20.9 in /usr/local/lib/python3.10/dist-packages (from shap) (23.1)\n",
            "Collecting slicer==0.0.7 (from shap)\n",
            "  Downloading slicer-0.0.7-py3-none-any.whl (14 kB)\n",
            "Requirement already satisfied: numba in /usr/local/lib/python3.10/dist-packages (from shap) (0.56.4)\n",
            "Requirement already satisfied: cloudpickle in /usr/local/lib/python3.10/dist-packages (from shap) (2.2.1)\n",
            "Requirement already satisfied: llvmlite<0.40,>=0.39.0dev0 in /usr/local/lib/python3.10/dist-packages (from numba->shap) (0.39.1)\n",
            "Requirement already satisfied: setuptools in /usr/local/lib/python3.10/dist-packages (from numba->shap) (67.7.2)\n",
            "Requirement already satisfied: python-dateutil>=2.8.1 in /usr/local/lib/python3.10/dist-packages (from pandas->shap) (2.8.2)\n",
            "Requirement already satisfied: pytz>=2020.1 in /usr/local/lib/python3.10/dist-packages (from pandas->shap) (2022.7.1)\n",
            "Requirement already satisfied: joblib>=1.1.1 in /usr/local/lib/python3.10/dist-packages (from scikit-learn->shap) (1.2.0)\n",
            "Requirement already satisfied: threadpoolctl>=2.0.0 in /usr/local/lib/python3.10/dist-packages (from scikit-learn->shap) (3.1.0)\n",
            "Requirement already satisfied: six>=1.5 in /usr/local/lib/python3.10/dist-packages (from python-dateutil>=2.8.1->pandas->shap) (1.16.0)\n",
            "Installing collected packages: slicer, shap\n",
            "Successfully installed shap-0.41.0 slicer-0.0.7\n",
            "Requirement already satisfied: NumPy in /usr/local/lib/python3.10/dist-packages (1.22.4)\n"
          ]
        }
      ],
      "source": [
        "!pip install pycaret\n",
        "!pip install shap\n",
        "!pip install NumPy\n"
      ],
      "id": "0b435a5e"
    },
    {
      "cell_type": "code",
      "execution_count": 2,
      "metadata": {
        "colab": {
          "base_uri": "https://localhost:8080/"
        },
        "id": "46cacbef",
        "outputId": "839c4115-9f6d-4856-b0bd-f3a2e9975869"
      },
      "outputs": [
        {
          "output_type": "stream",
          "name": "stdout",
          "text": [
            "Pycaret:3.0.3\n"
          ]
        }
      ],
      "source": [
        "# importando o pandas, que a gente vai precisar.\n",
        "import pandas as pd\n",
        "# importando o pycaret. te conhecendo agora, amigo\n",
        "from pycaret.utils import version\n",
        "\n",
        "\n",
        "# qual a versão?\n",
        "print('Pycaret:'+version())\n",
        "\n"
      ],
      "id": "46cacbef"
    },
    {
      "cell_type": "code",
      "execution_count": 3,
      "metadata": {
        "colab": {
          "base_uri": "https://localhost:8080/",
          "height": 270
        },
        "id": "cd9a9e2c",
        "outputId": "afc1d63e-94ab-4dbe-fc07-a4e78e580c14"
      },
      "outputs": [
        {
          "output_type": "execute_result",
          "data": {
            "text/plain": [
              "  proto            saddr  sport            daddr  dport   seq    stddev  \\\n",
              "0   tcp  192.168.100.147  49960    192.168.100.7     80   9.0  0.068909   \n",
              "1   arp    192.168.100.7     -1  192.168.100.147     -1  10.0  0.000000   \n",
              "2   tcp  192.168.100.147  49962    192.168.100.7     80  11.0  0.064494   \n",
              "3   tcp  192.168.100.147  49964    192.168.100.7     80  12.0  0.064189   \n",
              "4   tcp  192.168.100.147  49966    192.168.100.7     80  13.0  0.063887   \n",
              "\n",
              "   N_IN_Conn_P_SrcIP       min  state_number      mean  N_IN_Conn_P_DstIP  \\\n",
              "0               75.0  0.000000           1.0  0.068909               96.0   \n",
              "1                2.0  0.000131           2.0  0.000131                1.0   \n",
              "2               75.0  0.000000           1.0  0.064494               96.0   \n",
              "3               75.0  0.000000           1.0  0.064189               96.0   \n",
              "4               75.0  0.000000           1.0  0.063887               96.0   \n",
              "\n",
              "       drate     srate       max  attack  \n",
              "0  14.511893  0.566862  0.137818     1.0  \n",
              "1   0.000000  0.000000  0.000131     1.0  \n",
              "2  15.505319  0.567549  0.128988     1.0  \n",
              "3  15.578993  0.567570  0.128378     1.0  \n",
              "4  15.652637  0.567630  0.127774     1.0  "
            ],
            "text/html": [
              "\n",
              "  <div id=\"df-02ff375b-f2a2-456d-ad1a-1a210a50db15\">\n",
              "    <div class=\"colab-df-container\">\n",
              "      <div>\n",
              "<style scoped>\n",
              "    .dataframe tbody tr th:only-of-type {\n",
              "        vertical-align: middle;\n",
              "    }\n",
              "\n",
              "    .dataframe tbody tr th {\n",
              "        vertical-align: top;\n",
              "    }\n",
              "\n",
              "    .dataframe thead th {\n",
              "        text-align: right;\n",
              "    }\n",
              "</style>\n",
              "<table border=\"1\" class=\"dataframe\">\n",
              "  <thead>\n",
              "    <tr style=\"text-align: right;\">\n",
              "      <th></th>\n",
              "      <th>proto</th>\n",
              "      <th>saddr</th>\n",
              "      <th>sport</th>\n",
              "      <th>daddr</th>\n",
              "      <th>dport</th>\n",
              "      <th>seq</th>\n",
              "      <th>stddev</th>\n",
              "      <th>N_IN_Conn_P_SrcIP</th>\n",
              "      <th>min</th>\n",
              "      <th>state_number</th>\n",
              "      <th>mean</th>\n",
              "      <th>N_IN_Conn_P_DstIP</th>\n",
              "      <th>drate</th>\n",
              "      <th>srate</th>\n",
              "      <th>max</th>\n",
              "      <th>attack</th>\n",
              "    </tr>\n",
              "  </thead>\n",
              "  <tbody>\n",
              "    <tr>\n",
              "      <th>0</th>\n",
              "      <td>tcp</td>\n",
              "      <td>192.168.100.147</td>\n",
              "      <td>49960</td>\n",
              "      <td>192.168.100.7</td>\n",
              "      <td>80</td>\n",
              "      <td>9.0</td>\n",
              "      <td>0.068909</td>\n",
              "      <td>75.0</td>\n",
              "      <td>0.000000</td>\n",
              "      <td>1.0</td>\n",
              "      <td>0.068909</td>\n",
              "      <td>96.0</td>\n",
              "      <td>14.511893</td>\n",
              "      <td>0.566862</td>\n",
              "      <td>0.137818</td>\n",
              "      <td>1.0</td>\n",
              "    </tr>\n",
              "    <tr>\n",
              "      <th>1</th>\n",
              "      <td>arp</td>\n",
              "      <td>192.168.100.7</td>\n",
              "      <td>-1</td>\n",
              "      <td>192.168.100.147</td>\n",
              "      <td>-1</td>\n",
              "      <td>10.0</td>\n",
              "      <td>0.000000</td>\n",
              "      <td>2.0</td>\n",
              "      <td>0.000131</td>\n",
              "      <td>2.0</td>\n",
              "      <td>0.000131</td>\n",
              "      <td>1.0</td>\n",
              "      <td>0.000000</td>\n",
              "      <td>0.000000</td>\n",
              "      <td>0.000131</td>\n",
              "      <td>1.0</td>\n",
              "    </tr>\n",
              "    <tr>\n",
              "      <th>2</th>\n",
              "      <td>tcp</td>\n",
              "      <td>192.168.100.147</td>\n",
              "      <td>49962</td>\n",
              "      <td>192.168.100.7</td>\n",
              "      <td>80</td>\n",
              "      <td>11.0</td>\n",
              "      <td>0.064494</td>\n",
              "      <td>75.0</td>\n",
              "      <td>0.000000</td>\n",
              "      <td>1.0</td>\n",
              "      <td>0.064494</td>\n",
              "      <td>96.0</td>\n",
              "      <td>15.505319</td>\n",
              "      <td>0.567549</td>\n",
              "      <td>0.128988</td>\n",
              "      <td>1.0</td>\n",
              "    </tr>\n",
              "    <tr>\n",
              "      <th>3</th>\n",
              "      <td>tcp</td>\n",
              "      <td>192.168.100.147</td>\n",
              "      <td>49964</td>\n",
              "      <td>192.168.100.7</td>\n",
              "      <td>80</td>\n",
              "      <td>12.0</td>\n",
              "      <td>0.064189</td>\n",
              "      <td>75.0</td>\n",
              "      <td>0.000000</td>\n",
              "      <td>1.0</td>\n",
              "      <td>0.064189</td>\n",
              "      <td>96.0</td>\n",
              "      <td>15.578993</td>\n",
              "      <td>0.567570</td>\n",
              "      <td>0.128378</td>\n",
              "      <td>1.0</td>\n",
              "    </tr>\n",
              "    <tr>\n",
              "      <th>4</th>\n",
              "      <td>tcp</td>\n",
              "      <td>192.168.100.147</td>\n",
              "      <td>49966</td>\n",
              "      <td>192.168.100.7</td>\n",
              "      <td>80</td>\n",
              "      <td>13.0</td>\n",
              "      <td>0.063887</td>\n",
              "      <td>75.0</td>\n",
              "      <td>0.000000</td>\n",
              "      <td>1.0</td>\n",
              "      <td>0.063887</td>\n",
              "      <td>96.0</td>\n",
              "      <td>15.652637</td>\n",
              "      <td>0.567630</td>\n",
              "      <td>0.127774</td>\n",
              "      <td>1.0</td>\n",
              "    </tr>\n",
              "  </tbody>\n",
              "</table>\n",
              "</div>\n",
              "      <button class=\"colab-df-convert\" onclick=\"convertToInteractive('df-02ff375b-f2a2-456d-ad1a-1a210a50db15')\"\n",
              "              title=\"Convert this dataframe to an interactive table.\"\n",
              "              style=\"display:none;\">\n",
              "        \n",
              "  <svg xmlns=\"http://www.w3.org/2000/svg\" height=\"24px\"viewBox=\"0 0 24 24\"\n",
              "       width=\"24px\">\n",
              "    <path d=\"M0 0h24v24H0V0z\" fill=\"none\"/>\n",
              "    <path d=\"M18.56 5.44l.94 2.06.94-2.06 2.06-.94-2.06-.94-.94-2.06-.94 2.06-2.06.94zm-11 1L8.5 8.5l.94-2.06 2.06-.94-2.06-.94L8.5 2.5l-.94 2.06-2.06.94zm10 10l.94 2.06.94-2.06 2.06-.94-2.06-.94-.94-2.06-.94 2.06-2.06.94z\"/><path d=\"M17.41 7.96l-1.37-1.37c-.4-.4-.92-.59-1.43-.59-.52 0-1.04.2-1.43.59L10.3 9.45l-7.72 7.72c-.78.78-.78 2.05 0 2.83L4 21.41c.39.39.9.59 1.41.59.51 0 1.02-.2 1.41-.59l7.78-7.78 2.81-2.81c.8-.78.8-2.07 0-2.86zM5.41 20L4 18.59l7.72-7.72 1.47 1.35L5.41 20z\"/>\n",
              "  </svg>\n",
              "      </button>\n",
              "      \n",
              "  <style>\n",
              "    .colab-df-container {\n",
              "      display:flex;\n",
              "      flex-wrap:wrap;\n",
              "      gap: 12px;\n",
              "    }\n",
              "\n",
              "    .colab-df-convert {\n",
              "      background-color: #E8F0FE;\n",
              "      border: none;\n",
              "      border-radius: 50%;\n",
              "      cursor: pointer;\n",
              "      display: none;\n",
              "      fill: #1967D2;\n",
              "      height: 32px;\n",
              "      padding: 0 0 0 0;\n",
              "      width: 32px;\n",
              "    }\n",
              "\n",
              "    .colab-df-convert:hover {\n",
              "      background-color: #E2EBFA;\n",
              "      box-shadow: 0px 1px 2px rgba(60, 64, 67, 0.3), 0px 1px 3px 1px rgba(60, 64, 67, 0.15);\n",
              "      fill: #174EA6;\n",
              "    }\n",
              "\n",
              "    [theme=dark] .colab-df-convert {\n",
              "      background-color: #3B4455;\n",
              "      fill: #D2E3FC;\n",
              "    }\n",
              "\n",
              "    [theme=dark] .colab-df-convert:hover {\n",
              "      background-color: #434B5C;\n",
              "      box-shadow: 0px 1px 3px 1px rgba(0, 0, 0, 0.15);\n",
              "      filter: drop-shadow(0px 1px 2px rgba(0, 0, 0, 0.3));\n",
              "      fill: #FFFFFF;\n",
              "    }\n",
              "  </style>\n",
              "\n",
              "      <script>\n",
              "        const buttonEl =\n",
              "          document.querySelector('#df-02ff375b-f2a2-456d-ad1a-1a210a50db15 button.colab-df-convert');\n",
              "        buttonEl.style.display =\n",
              "          google.colab.kernel.accessAllowed ? 'block' : 'none';\n",
              "\n",
              "        async function convertToInteractive(key) {\n",
              "          const element = document.querySelector('#df-02ff375b-f2a2-456d-ad1a-1a210a50db15');\n",
              "          const dataTable =\n",
              "            await google.colab.kernel.invokeFunction('convertToInteractive',\n",
              "                                                     [key], {});\n",
              "          if (!dataTable) return;\n",
              "\n",
              "          const docLinkHtml = 'Like what you see? Visit the ' +\n",
              "            '<a target=\"_blank\" href=https://colab.research.google.com/notebooks/data_table.ipynb>data table notebook</a>'\n",
              "            + ' to learn more about interactive tables.';\n",
              "          element.innerHTML = '';\n",
              "          dataTable['output_type'] = 'display_data';\n",
              "          await google.colab.output.renderOutput(dataTable, element);\n",
              "          const docLink = document.createElement('div');\n",
              "          docLink.innerHTML = docLinkHtml;\n",
              "          element.appendChild(docLink);\n",
              "        }\n",
              "      </script>\n",
              "    </div>\n",
              "  </div>\n",
              "  "
            ]
          },
          "metadata": {},
          "execution_count": 3
        }
      ],
      "source": [
        "# ler base de dados\n",
        "data = pd.read_csv('dset.csv')\n",
        "# mostra um gostinho da base de dados\n",
        "data.head()"
      ],
      "id": "cd9a9e2c"
    },
    {
      "cell_type": "code",
      "execution_count": 4,
      "metadata": {
        "colab": {
          "base_uri": "https://localhost:8080/"
        },
        "id": "db67d5d4",
        "outputId": "12182560-35bc-471d-e270-8b52ec0d2968"
      },
      "outputs": [
        {
          "output_type": "stream",
          "name": "stdout",
          "text": [
            "Wed Jun 28 20:49:48 2023       \n",
            "+-----------------------------------------------------------------------------+\n",
            "| NVIDIA-SMI 525.85.12    Driver Version: 525.85.12    CUDA Version: 12.0     |\n",
            "|-------------------------------+----------------------+----------------------+\n",
            "| GPU  Name        Persistence-M| Bus-Id        Disp.A | Volatile Uncorr. ECC |\n",
            "| Fan  Temp  Perf  Pwr:Usage/Cap|         Memory-Usage | GPU-Util  Compute M. |\n",
            "|                               |                      |               MIG M. |\n",
            "|===============================+======================+======================|\n",
            "|   0  Tesla T4            Off  | 00000000:00:04.0 Off |                    0 |\n",
            "| N/A   41C    P8     8W /  70W |      0MiB / 15360MiB |      0%      Default |\n",
            "|                               |                      |                  N/A |\n",
            "+-------------------------------+----------------------+----------------------+\n",
            "                                                                               \n",
            "+-----------------------------------------------------------------------------+\n",
            "| Processes:                                                                  |\n",
            "|  GPU   GI   CI        PID   Type   Process name                  GPU Memory |\n",
            "|        ID   ID                                                   Usage      |\n",
            "|=============================================================================|\n",
            "|  No running processes found                                                 |\n",
            "+-----------------------------------------------------------------------------+\n"
          ]
        }
      ],
      "source": [
        "\n",
        "# pegar a informação da GPU\n",
        "# esse comando que a gente tá usando é uma linha de comando fornecida pela NVIDIA para monitorar e gerenciar dispositivos NVIDIA GPU em um sistema. Ele fornece informações detalhadas sobre o status da GPU, uso da memória, processos em execução e várias métricas relacionadas à GPU.\n",
        "gpu_info = !nvidia-smi\n",
        "# juntar\n",
        "gpu_info = '\\n'.join(gpu_info)\n",
        "if gpu_info.find('failed') >= 0:\n",
        "  print('Not connected to a GPU')\n",
        "else:\n",
        "  print(gpu_info)\n"
      ],
      "id": "db67d5d4"
    },
    {
      "cell_type": "code",
      "source": [
        "# preencher as linhas que tem valores ausentes em attack\n",
        "data['attack'].fillna(data['attack'].mean(), inplace=True)"
      ],
      "metadata": {
        "id": "DpUKLTXBiXvm"
      },
      "id": "DpUKLTXBiXvm",
      "execution_count": 8,
      "outputs": []
    },
    {
      "cell_type": "code",
      "execution_count": 9,
      "metadata": {
        "colab": {
          "base_uri": "https://localhost:8080/",
          "height": 1000
        },
        "id": "a7640e35",
        "outputId": "bf0f20d6-a419-498a-ffc1-e414e6e11536"
      },
      "outputs": [
        {
          "output_type": "display_data",
          "data": {
            "text/plain": [
              "<pandas.io.formats.style.Styler at 0x7fc1161685e0>"
            ],
            "text/html": [
              "<style type=\"text/css\">\n",
              "#T_727ef_row12_col1, #T_727ef_row21_col1 {\n",
              "  background-color: lightgreen;\n",
              "}\n",
              "</style>\n",
              "<table id=\"T_727ef\" class=\"dataframe\">\n",
              "  <thead>\n",
              "    <tr>\n",
              "      <th class=\"blank level0\" >&nbsp;</th>\n",
              "      <th id=\"T_727ef_level0_col0\" class=\"col_heading level0 col0\" >Description</th>\n",
              "      <th id=\"T_727ef_level0_col1\" class=\"col_heading level0 col1\" >Value</th>\n",
              "    </tr>\n",
              "  </thead>\n",
              "  <tbody>\n",
              "    <tr>\n",
              "      <th id=\"T_727ef_level0_row0\" class=\"row_heading level0 row0\" >0</th>\n",
              "      <td id=\"T_727ef_row0_col0\" class=\"data row0 col0\" >Session id</td>\n",
              "      <td id=\"T_727ef_row0_col1\" class=\"data row0 col1\" >5029</td>\n",
              "    </tr>\n",
              "    <tr>\n",
              "      <th id=\"T_727ef_level0_row1\" class=\"row_heading level0 row1\" >1</th>\n",
              "      <td id=\"T_727ef_row1_col0\" class=\"data row1 col0\" >Target</td>\n",
              "      <td id=\"T_727ef_row1_col1\" class=\"data row1 col1\" >attack</td>\n",
              "    </tr>\n",
              "    <tr>\n",
              "      <th id=\"T_727ef_level0_row2\" class=\"row_heading level0 row2\" >2</th>\n",
              "      <td id=\"T_727ef_row2_col0\" class=\"data row2 col0\" >Target type</td>\n",
              "      <td id=\"T_727ef_row2_col1\" class=\"data row2 col1\" >Multiclass</td>\n",
              "    </tr>\n",
              "    <tr>\n",
              "      <th id=\"T_727ef_level0_row3\" class=\"row_heading level0 row3\" >3</th>\n",
              "      <td id=\"T_727ef_row3_col0\" class=\"data row3 col0\" >Target mapping</td>\n",
              "      <td id=\"T_727ef_row3_col1\" class=\"data row3 col1\" >1.0: 0</td>\n",
              "    </tr>\n",
              "    <tr>\n",
              "      <th id=\"T_727ef_level0_row4\" class=\"row_heading level0 row4\" >4</th>\n",
              "      <td id=\"T_727ef_row4_col0\" class=\"data row4 col0\" >Original data shape</td>\n",
              "      <td id=\"T_727ef_row4_col1\" class=\"data row4 col1\" >(21613, 16)</td>\n",
              "    </tr>\n",
              "    <tr>\n",
              "      <th id=\"T_727ef_level0_row5\" class=\"row_heading level0 row5\" >5</th>\n",
              "      <td id=\"T_727ef_row5_col0\" class=\"data row5 col0\" >Transformed data shape</td>\n",
              "      <td id=\"T_727ef_row5_col1\" class=\"data row5 col1\" >(21613, 28)</td>\n",
              "    </tr>\n",
              "    <tr>\n",
              "      <th id=\"T_727ef_level0_row6\" class=\"row_heading level0 row6\" >6</th>\n",
              "      <td id=\"T_727ef_row6_col0\" class=\"data row6 col0\" >Transformed train set shape</td>\n",
              "      <td id=\"T_727ef_row6_col1\" class=\"data row6 col1\" >(15129, 28)</td>\n",
              "    </tr>\n",
              "    <tr>\n",
              "      <th id=\"T_727ef_level0_row7\" class=\"row_heading level0 row7\" >7</th>\n",
              "      <td id=\"T_727ef_row7_col0\" class=\"data row7 col0\" >Transformed test set shape</td>\n",
              "      <td id=\"T_727ef_row7_col1\" class=\"data row7 col1\" >(6484, 28)</td>\n",
              "    </tr>\n",
              "    <tr>\n",
              "      <th id=\"T_727ef_level0_row8\" class=\"row_heading level0 row8\" >8</th>\n",
              "      <td id=\"T_727ef_row8_col0\" class=\"data row8 col0\" >Ordinal features</td>\n",
              "      <td id=\"T_727ef_row8_col1\" class=\"data row8 col1\" >1</td>\n",
              "    </tr>\n",
              "    <tr>\n",
              "      <th id=\"T_727ef_level0_row9\" class=\"row_heading level0 row9\" >9</th>\n",
              "      <td id=\"T_727ef_row9_col0\" class=\"data row9 col0\" >Numeric features</td>\n",
              "      <td id=\"T_727ef_row9_col1\" class=\"data row9 col1\" >12</td>\n",
              "    </tr>\n",
              "    <tr>\n",
              "      <th id=\"T_727ef_level0_row10\" class=\"row_heading level0 row10\" >10</th>\n",
              "      <td id=\"T_727ef_row10_col0\" class=\"data row10 col0\" >Categorical features</td>\n",
              "      <td id=\"T_727ef_row10_col1\" class=\"data row10 col1\" >3</td>\n",
              "    </tr>\n",
              "    <tr>\n",
              "      <th id=\"T_727ef_level0_row11\" class=\"row_heading level0 row11\" >11</th>\n",
              "      <td id=\"T_727ef_row11_col0\" class=\"data row11 col0\" >Rows with missing values</td>\n",
              "      <td id=\"T_727ef_row11_col1\" class=\"data row11 col1\" >0.0%</td>\n",
              "    </tr>\n",
              "    <tr>\n",
              "      <th id=\"T_727ef_level0_row12\" class=\"row_heading level0 row12\" >12</th>\n",
              "      <td id=\"T_727ef_row12_col0\" class=\"data row12 col0\" >Preprocess</td>\n",
              "      <td id=\"T_727ef_row12_col1\" class=\"data row12 col1\" >True</td>\n",
              "    </tr>\n",
              "    <tr>\n",
              "      <th id=\"T_727ef_level0_row13\" class=\"row_heading level0 row13\" >13</th>\n",
              "      <td id=\"T_727ef_row13_col0\" class=\"data row13 col0\" >Imputation type</td>\n",
              "      <td id=\"T_727ef_row13_col1\" class=\"data row13 col1\" >simple</td>\n",
              "    </tr>\n",
              "    <tr>\n",
              "      <th id=\"T_727ef_level0_row14\" class=\"row_heading level0 row14\" >14</th>\n",
              "      <td id=\"T_727ef_row14_col0\" class=\"data row14 col0\" >Numeric imputation</td>\n",
              "      <td id=\"T_727ef_row14_col1\" class=\"data row14 col1\" >mean</td>\n",
              "    </tr>\n",
              "    <tr>\n",
              "      <th id=\"T_727ef_level0_row15\" class=\"row_heading level0 row15\" >15</th>\n",
              "      <td id=\"T_727ef_row15_col0\" class=\"data row15 col0\" >Categorical imputation</td>\n",
              "      <td id=\"T_727ef_row15_col1\" class=\"data row15 col1\" >mode</td>\n",
              "    </tr>\n",
              "    <tr>\n",
              "      <th id=\"T_727ef_level0_row16\" class=\"row_heading level0 row16\" >16</th>\n",
              "      <td id=\"T_727ef_row16_col0\" class=\"data row16 col0\" >Maximum one-hot encoding</td>\n",
              "      <td id=\"T_727ef_row16_col1\" class=\"data row16 col1\" >25</td>\n",
              "    </tr>\n",
              "    <tr>\n",
              "      <th id=\"T_727ef_level0_row17\" class=\"row_heading level0 row17\" >17</th>\n",
              "      <td id=\"T_727ef_row17_col0\" class=\"data row17 col0\" >Encoding method</td>\n",
              "      <td id=\"T_727ef_row17_col1\" class=\"data row17 col1\" >None</td>\n",
              "    </tr>\n",
              "    <tr>\n",
              "      <th id=\"T_727ef_level0_row18\" class=\"row_heading level0 row18\" >18</th>\n",
              "      <td id=\"T_727ef_row18_col0\" class=\"data row18 col0\" >Fold Generator</td>\n",
              "      <td id=\"T_727ef_row18_col1\" class=\"data row18 col1\" >StratifiedKFold</td>\n",
              "    </tr>\n",
              "    <tr>\n",
              "      <th id=\"T_727ef_level0_row19\" class=\"row_heading level0 row19\" >19</th>\n",
              "      <td id=\"T_727ef_row19_col0\" class=\"data row19 col0\" >Fold Number</td>\n",
              "      <td id=\"T_727ef_row19_col1\" class=\"data row19 col1\" >10</td>\n",
              "    </tr>\n",
              "    <tr>\n",
              "      <th id=\"T_727ef_level0_row20\" class=\"row_heading level0 row20\" >20</th>\n",
              "      <td id=\"T_727ef_row20_col0\" class=\"data row20 col0\" >CPU Jobs</td>\n",
              "      <td id=\"T_727ef_row20_col1\" class=\"data row20 col1\" >-1</td>\n",
              "    </tr>\n",
              "    <tr>\n",
              "      <th id=\"T_727ef_level0_row21\" class=\"row_heading level0 row21\" >21</th>\n",
              "      <td id=\"T_727ef_row21_col0\" class=\"data row21 col0\" >Use GPU</td>\n",
              "      <td id=\"T_727ef_row21_col1\" class=\"data row21 col1\" >True</td>\n",
              "    </tr>\n",
              "    <tr>\n",
              "      <th id=\"T_727ef_level0_row22\" class=\"row_heading level0 row22\" >22</th>\n",
              "      <td id=\"T_727ef_row22_col0\" class=\"data row22 col0\" >Log Experiment</td>\n",
              "      <td id=\"T_727ef_row22_col1\" class=\"data row22 col1\" >False</td>\n",
              "    </tr>\n",
              "    <tr>\n",
              "      <th id=\"T_727ef_level0_row23\" class=\"row_heading level0 row23\" >23</th>\n",
              "      <td id=\"T_727ef_row23_col0\" class=\"data row23 col0\" >Experiment Name</td>\n",
              "      <td id=\"T_727ef_row23_col1\" class=\"data row23 col1\" >clf-default-name</td>\n",
              "    </tr>\n",
              "    <tr>\n",
              "      <th id=\"T_727ef_level0_row24\" class=\"row_heading level0 row24\" >24</th>\n",
              "      <td id=\"T_727ef_row24_col0\" class=\"data row24 col0\" >USI</td>\n",
              "      <td id=\"T_727ef_row24_col1\" class=\"data row24 col1\" >14b6</td>\n",
              "    </tr>\n",
              "  </tbody>\n",
              "</table>\n"
            ]
          },
          "metadata": {}
        },
        {
          "output_type": "stream",
          "name": "stdout",
          "text": [
            "                                     Name  \\\n",
            "ID                                          \n",
            "lr                    Logistic Regression   \n",
            "knn                K Neighbors Classifier   \n",
            "nb                            Naive Bayes   \n",
            "dt               Decision Tree Classifier   \n",
            "svm                   SVM - Linear Kernel   \n",
            "rbfsvm                SVM - Radial Kernel   \n",
            "gpc           Gaussian Process Classifier   \n",
            "mlp                        MLP Classifier   \n",
            "ridge                    Ridge Classifier   \n",
            "rf               Random Forest Classifier   \n",
            "qda       Quadratic Discriminant Analysis   \n",
            "ada                  Ada Boost Classifier   \n",
            "gbc          Gradient Boosting Classifier   \n",
            "lda          Linear Discriminant Analysis   \n",
            "et                 Extra Trees Classifier   \n",
            "xgboost         Extreme Gradient Boosting   \n",
            "lightgbm  Light Gradient Boosting Machine   \n",
            "dummy                    Dummy Classifier   \n",
            "\n",
            "                                                  Reference  Turbo  \n",
            "ID                                                                  \n",
            "lr        sklearn.linear_model._logistic.LogisticRegression   True  \n",
            "knn       sklearn.neighbors._classification.KNeighborsCl...   True  \n",
            "nb                           sklearn.naive_bayes.GaussianNB   True  \n",
            "dt             sklearn.tree._classes.DecisionTreeClassifier   True  \n",
            "svm       sklearn.linear_model._stochastic_gradient.SGDC...   True  \n",
            "rbfsvm                             sklearn.svm._classes.SVC  False  \n",
            "gpc       sklearn.gaussian_process._gpc.GaussianProcessC...  False  \n",
            "mlp       sklearn.neural_network._multilayer_perceptron....  False  \n",
            "ridge           sklearn.linear_model._ridge.RidgeClassifier   True  \n",
            "rf          sklearn.ensemble._forest.RandomForestClassifier   True  \n",
            "qda       sklearn.discriminant_analysis.QuadraticDiscrim...   True  \n",
            "ada       sklearn.ensemble._weight_boosting.AdaBoostClas...   True  \n",
            "gbc         sklearn.ensemble._gb.GradientBoostingClassifier   True  \n",
            "lda       sklearn.discriminant_analysis.LinearDiscrimina...   True  \n",
            "et            sklearn.ensemble._forest.ExtraTreesClassifier   True  \n",
            "xgboost                       xgboost.sklearn.XGBClassifier   True  \n",
            "lightgbm                    lightgbm.sklearn.LGBMClassifier   True  \n",
            "dummy                         sklearn.dummy.DummyClassifier   True  \n"
          ]
        }
      ],
      "source": [
        "# imports\n",
        "from pycaret.classification import *\n",
        "from pycaret.classification import compare_models\n",
        "\n",
        "# MELHOR?\n",
        "best = setup(data=data, target='attack', use_gpu=True)\n",
        "\n",
        "available_estimators = models()\n",
        "print(available_estimators)\n"
      ],
      "id": "a7640e35"
    },
    {
      "cell_type": "code",
      "execution_count": 11,
      "metadata": {
        "colab": {
          "base_uri": "https://localhost:8080/",
          "height": 143,
          "referenced_widgets": [
            "b5d0481c704a4ac3babab10decc19bbf",
            "323e096d03154f36b29e68c1f0bfbced",
            "1a57f12c47d54f619b586116ef5b5a82",
            "7d153734446146b1888124b9ebfa4829",
            "dc4faaf2ca8146258bf8b7411c6f3d34",
            "d87e85966ac54b54842e7e26e28f5707",
            "87e050e91ac342fcb8b32b9ac9b7c55c",
            "38d78296178d41369ed55c7014164d5f",
            "42117bb011e94bdea9be9c0b2801255a",
            "4c6d07b4583e4c3cac669e7310d219dc",
            "3d79f1be36584be28b11fdd7cd61bcc3"
          ]
        },
        "id": "e6614144",
        "outputId": "7bd20f3a-adb1-4ea4-d2f0-b2db63f5725d"
      },
      "outputs": [
        {
          "output_type": "display_data",
          "data": {
            "text/plain": [
              "<IPython.core.display.HTML object>"
            ],
            "text/html": []
          },
          "metadata": {}
        },
        {
          "output_type": "display_data",
          "data": {
            "text/plain": [
              "<pandas.io.formats.style.Styler at 0x7fc12723f6d0>"
            ],
            "text/html": [
              "<style type=\"text/css\">\n",
              "#T_a303a th {\n",
              "  text-align: left;\n",
              "}\n",
              "#T_a303a_row0_col0, #T_a303a_row0_col6, #T_a303a_row1_col0, #T_a303a_row1_col6, #T_a303a_row2_col0, #T_a303a_row2_col6 {\n",
              "  text-align: left;\n",
              "}\n",
              "#T_a303a_row0_col1, #T_a303a_row0_col2, #T_a303a_row0_col3, #T_a303a_row0_col4, #T_a303a_row0_col5, #T_a303a_row0_col7, #T_a303a_row1_col1, #T_a303a_row1_col2, #T_a303a_row1_col3, #T_a303a_row1_col4, #T_a303a_row1_col5, #T_a303a_row1_col7, #T_a303a_row2_col1, #T_a303a_row2_col2, #T_a303a_row2_col3, #T_a303a_row2_col4, #T_a303a_row2_col5, #T_a303a_row2_col7 {\n",
              "  text-align: left;\n",
              "  background-color: yellow;\n",
              "}\n",
              "#T_a303a_row0_col8, #T_a303a_row2_col8 {\n",
              "  text-align: left;\n",
              "  background-color: lightgrey;\n",
              "}\n",
              "#T_a303a_row1_col8 {\n",
              "  text-align: left;\n",
              "  background-color: yellow;\n",
              "  background-color: lightgrey;\n",
              "}\n",
              "</style>\n",
              "<table id=\"T_a303a\" class=\"dataframe\">\n",
              "  <thead>\n",
              "    <tr>\n",
              "      <th class=\"blank level0\" >&nbsp;</th>\n",
              "      <th id=\"T_a303a_level0_col0\" class=\"col_heading level0 col0\" >Model</th>\n",
              "      <th id=\"T_a303a_level0_col1\" class=\"col_heading level0 col1\" >Accuracy</th>\n",
              "      <th id=\"T_a303a_level0_col2\" class=\"col_heading level0 col2\" >AUC</th>\n",
              "      <th id=\"T_a303a_level0_col3\" class=\"col_heading level0 col3\" >Recall</th>\n",
              "      <th id=\"T_a303a_level0_col4\" class=\"col_heading level0 col4\" >Prec.</th>\n",
              "      <th id=\"T_a303a_level0_col5\" class=\"col_heading level0 col5\" >F1</th>\n",
              "      <th id=\"T_a303a_level0_col6\" class=\"col_heading level0 col6\" >Kappa</th>\n",
              "      <th id=\"T_a303a_level0_col7\" class=\"col_heading level0 col7\" >MCC</th>\n",
              "      <th id=\"T_a303a_level0_col8\" class=\"col_heading level0 col8\" >TT (Sec)</th>\n",
              "    </tr>\n",
              "  </thead>\n",
              "  <tbody>\n",
              "    <tr>\n",
              "      <th id=\"T_a303a_level0_row0\" class=\"row_heading level0 row0\" >knn</th>\n",
              "      <td id=\"T_a303a_row0_col0\" class=\"data row0 col0\" >K Neighbors Classifier</td>\n",
              "      <td id=\"T_a303a_row0_col1\" class=\"data row0 col1\" >1.0000</td>\n",
              "      <td id=\"T_a303a_row0_col2\" class=\"data row0 col2\" >0.0000</td>\n",
              "      <td id=\"T_a303a_row0_col3\" class=\"data row0 col3\" >1.0000</td>\n",
              "      <td id=\"T_a303a_row0_col4\" class=\"data row0 col4\" >1.0000</td>\n",
              "      <td id=\"T_a303a_row0_col5\" class=\"data row0 col5\" >1.0000</td>\n",
              "      <td id=\"T_a303a_row0_col6\" class=\"data row0 col6\" >nan</td>\n",
              "      <td id=\"T_a303a_row0_col7\" class=\"data row0 col7\" >0.0000</td>\n",
              "      <td id=\"T_a303a_row0_col8\" class=\"data row0 col8\" >0.7230</td>\n",
              "    </tr>\n",
              "    <tr>\n",
              "      <th id=\"T_a303a_level0_row1\" class=\"row_heading level0 row1\" >nb</th>\n",
              "      <td id=\"T_a303a_row1_col0\" class=\"data row1 col0\" >Naive Bayes</td>\n",
              "      <td id=\"T_a303a_row1_col1\" class=\"data row1 col1\" >1.0000</td>\n",
              "      <td id=\"T_a303a_row1_col2\" class=\"data row1 col2\" >0.0000</td>\n",
              "      <td id=\"T_a303a_row1_col3\" class=\"data row1 col3\" >1.0000</td>\n",
              "      <td id=\"T_a303a_row1_col4\" class=\"data row1 col4\" >1.0000</td>\n",
              "      <td id=\"T_a303a_row1_col5\" class=\"data row1 col5\" >1.0000</td>\n",
              "      <td id=\"T_a303a_row1_col6\" class=\"data row1 col6\" >nan</td>\n",
              "      <td id=\"T_a303a_row1_col7\" class=\"data row1 col7\" >0.0000</td>\n",
              "      <td id=\"T_a303a_row1_col8\" class=\"data row1 col8\" >0.2510</td>\n",
              "    </tr>\n",
              "    <tr>\n",
              "      <th id=\"T_a303a_level0_row2\" class=\"row_heading level0 row2\" >dt</th>\n",
              "      <td id=\"T_a303a_row2_col0\" class=\"data row2 col0\" >Decision Tree Classifier</td>\n",
              "      <td id=\"T_a303a_row2_col1\" class=\"data row2 col1\" >1.0000</td>\n",
              "      <td id=\"T_a303a_row2_col2\" class=\"data row2 col2\" >0.0000</td>\n",
              "      <td id=\"T_a303a_row2_col3\" class=\"data row2 col3\" >1.0000</td>\n",
              "      <td id=\"T_a303a_row2_col4\" class=\"data row2 col4\" >1.0000</td>\n",
              "      <td id=\"T_a303a_row2_col5\" class=\"data row2 col5\" >1.0000</td>\n",
              "      <td id=\"T_a303a_row2_col6\" class=\"data row2 col6\" >nan</td>\n",
              "      <td id=\"T_a303a_row2_col7\" class=\"data row2 col7\" >0.0000</td>\n",
              "      <td id=\"T_a303a_row2_col8\" class=\"data row2 col8\" >0.4090</td>\n",
              "    </tr>\n",
              "  </tbody>\n",
              "</table>\n"
            ]
          },
          "metadata": {}
        },
        {
          "output_type": "display_data",
          "data": {
            "text/plain": [
              "Processing:   0%|          | 0/25 [00:00<?, ?it/s]"
            ],
            "application/vnd.jupyter.widget-view+json": {
              "version_major": 2,
              "version_minor": 0,
              "model_id": "b5d0481c704a4ac3babab10decc19bbf"
            }
          },
          "metadata": {
            "application/vnd.jupyter.widget-view+json": {
              "colab": {
                "custom_widget_manager": {
                  "url": "https://ssl.gstatic.com/colaboratory-static/widgets/colab-cdn-widget-manager/b3e629b1971e1542/manager.min.js"
                }
              }
            }
          }
        },
        {
          "output_type": "display_data",
          "data": {
            "text/plain": [
              "<IPython.core.display.HTML object>"
            ],
            "text/html": []
          },
          "metadata": {}
        }
      ],
      "source": [
        "# COMPARAR OS MODELOS\n",
        "best = compare_models(include = ['knn','lr','svm','nb','dt'])"
      ],
      "id": "e6614144"
    },
    {
      "cell_type": "code",
      "execution_count": 12,
      "metadata": {
        "id": "313a92d2",
        "outputId": "c60b5332-7e04-498c-fda3-7569fe4e4664",
        "colab": {
          "base_uri": "https://localhost:8080/"
        }
      },
      "outputs": [
        {
          "output_type": "stream",
          "name": "stdout",
          "text": [
            "KNeighborsClassifier(algorithm='auto', leaf_size=30, metric='minkowski',\n",
            "                     metric_params=None, n_jobs=-1, n_neighbors=5, p=2,\n",
            "                     weights='uniform')\n"
          ]
        }
      ],
      "source": [
        "print(best)"
      ],
      "id": "313a92d2"
    },
    {
      "cell_type": "code",
      "execution_count": 13,
      "metadata": {
        "colab": {
          "referenced_widgets": [
            "10ed2fd29bfc436a86da0bdf89b69da0",
            "cdf6808ad51548e485360a9f7af8710d",
            "28c8ae0378ac4f0f996722b7f62c9201",
            "caf8cb9295114c9d85d589da5ddce8c5",
            "585ce8e2872f479bb420a24afa0c8e9c",
            "87c1cce3598a410386807b6956a59012",
            "9f09b424b7ba4b7a9a65c785729439cf"
          ],
          "base_uri": "https://localhost:8080/",
          "height": 244
        },
        "id": "74289ee7",
        "outputId": "94bd68e6-e5df-4dc6-ebdf-3c398efbe550"
      },
      "outputs": [
        {
          "output_type": "display_data",
          "data": {
            "text/plain": [
              "interactive(children=(ToggleButtons(description='Plot Type:', icons=('',), options=(('Pipeline Plot', 'pipelin…"
            ],
            "application/vnd.jupyter.widget-view+json": {
              "version_major": 2,
              "version_minor": 0,
              "model_id": "10ed2fd29bfc436a86da0bdf89b69da0"
            }
          },
          "metadata": {
            "application/vnd.jupyter.widget-view+json": {
              "colab": {
                "custom_widget_manager": {
                  "url": "https://ssl.gstatic.com/colaboratory-static/widgets/colab-cdn-widget-manager/b3e629b1971e1542/manager.min.js"
                }
              }
            }
          }
        },
        {
          "output_type": "display_data",
          "data": {
            "text/plain": [
              "<Figure size 800x550 with 0 Axes>"
            ]
          },
          "metadata": {}
        },
        {
          "output_type": "display_data",
          "data": {
            "text/plain": [
              "<Figure size 800x550 with 0 Axes>"
            ]
          },
          "metadata": {}
        },
        {
          "output_type": "display_data",
          "data": {
            "text/plain": [
              "<Figure size 800x550 with 0 Axes>"
            ]
          },
          "metadata": {}
        }
      ],
      "source": [
        "evaluate_model(best)"
      ],
      "id": "74289ee7"
    },
    {
      "cell_type": "code",
      "execution_count": 20,
      "metadata": {
        "id": "22fe55ef",
        "outputId": "e73f2a44-7a64-444a-eb8e-65061b454fac",
        "colab": {
          "base_uri": "https://localhost:8080/",
          "height": 551
        }
      },
      "outputs": [
        {
          "output_type": "display_data",
          "data": {
            "text/plain": [
              "<IPython.core.display.HTML object>"
            ],
            "text/html": []
          },
          "metadata": {}
        },
        {
          "output_type": "display_data",
          "data": {
            "text/plain": [
              "<Figure size 800x550 with 1 Axes>"
            ],
            "image/png": "[encoded data removed]"
          },
          "metadata": {}
        }
      ],
      "source": [
        "plot_model(best, plot='error')"
      ],
      "id": "22fe55ef"
    },
    {
      "cell_type": "code",
      "execution_count": 21,
      "metadata": {
        "id": "b5eb9e5e",
        "outputId": "9b0557a7-6f50-4bc1-a6f3-36daf95f72ec",
        "colab": {
          "base_uri": "https://localhost:8080/",
          "height": 551
        }
      },
      "outputs": [
        {
          "output_type": "display_data",
          "data": {
            "text/plain": [
              "<IPython.core.display.HTML object>"
            ],
            "text/html": []
          },
          "metadata": {}
        },
        {
          "output_type": "display_data",
          "data": {
            "text/plain": [
              "<Figure size 800x550 with 2 Axes>"
            ],
            "image/png": "[encoded data removed]"
          },
          "metadata": {}
        }
      ],
      "source": [
        "plot_model(best, plot = 'class_report')"
      ],
      "id": "b5eb9e5e"
    },
    {
      "cell_type": "code",
      "execution_count": 26,
      "metadata": {
        "id": "fda2f386",
        "outputId": "f196c333-3b64-47bf-b797-04bfcd345954",
        "colab": {
          "base_uri": "https://localhost:8080/",
          "height": 551
        }
      },
      "outputs": [
        {
          "output_type": "display_data",
          "data": {
            "text/plain": [
              "<IPython.core.display.HTML object>"
            ],
            "text/html": []
          },
          "metadata": {}
        },
        {
          "output_type": "display_data",
          "data": {
            "text/plain": [
              "<Figure size 800x550 with 1 Axes>"
            ],
            "image/png": "[encoded data removed]"
          },
          "metadata": {}
        }
      ],
      "source": [
        "plot_model(best, plot = 'confusion_matrix')"
      ],
      "id": "fda2f386"
    }
  ],
  "metadata": {
    "colab": {
      "provenance": [],
      "gpuType": "T4",
      "include_colab_link": true
    },
    "kernelspec": {
      "display_name": "Python 3",
      "name": "python3"
    },
    "language_info": {
      "codemirror_mode": {
        "name": "ipython",
        "version": 3
      },
      "file_extension": ".py",
      "mimetype": "text/x-python",
      "name": "python",
      "nbconvert_exporter": "python",
      "pygments_lexer": "ipython3",
      "version": "3.10.9"
    },
    "accelerator": "GPU",
    "widgets": {
      "application/vnd.jupyter.widget-state+json": {
        "b5d0481c704a4ac3babab10decc19bbf": {
          "model_module": "@jupyter-widgets/controls",
          "model_name": "HBoxModel",
          "model_module_version": "1.5.0",
          "state": {
            "_dom_classes": [],
            "_model_module": "@jupyter-widgets/controls",
            "_model_module_version": "1.5.0",
            "_model_name": "HBoxModel",
            "_view_count": null,
            "_view_module": "@jupyter-widgets/controls",
            "_view_module_version": "1.5.0",
            "_view_name": "HBoxView",
            "box_style": "",
            "children": [
              "IPY_MODEL_323e096d03154f36b29e68c1f0bfbced",
              "IPY_MODEL_1a57f12c47d54f619b586116ef5b5a82",
              "IPY_MODEL_7d153734446146b1888124b9ebfa4829"
            ],
            "layout": "IPY_MODEL_dc4faaf2ca8146258bf8b7411c6f3d34"
          }
        },
        "323e096d03154f36b29e68c1f0bfbced": {
          "model_module": "@jupyter-widgets/controls",
          "model_name": "HTMLModel",
          "model_module_version": "1.5.0",
          "state": {
            "_dom_classes": [],
            "_model_module": "@jupyter-widgets/controls",
            "_model_module_version": "1.5.0",
            "_model_name": "HTMLModel",
            "_view_count": null,
            "_view_module": "@jupyter-widgets/controls",
            "_view_module_version": "1.5.0",
            "_view_name": "HTMLView",
            "description": "",
            "description_tooltip": null,
            "layout": "IPY_MODEL_d87e85966ac54b54842e7e26e28f5707",
            "placeholder": "​",
            "style": "IPY_MODEL_87e050e91ac342fcb8b32b9ac9b7c55c",
            "value": "Processing: 100%"
          }
        },
        "1a57f12c47d54f619b586116ef5b5a82": {
          "model_module": "@jupyter-widgets/controls",
          "model_name": "FloatProgressModel",
          "model_module_version": "1.5.0",
          "state": {
            "_dom_classes": [],
            "_model_module": "@jupyter-widgets/controls",
            "_model_module_version": "1.5.0",
            "_model_name": "FloatProgressModel",
            "_view_count": null,
            "_view_module": "@jupyter-widgets/controls",
            "_view_module_version": "1.5.0",
            "_view_name": "ProgressView",
            "bar_style": "",
            "description": "",
            "description_tooltip": null,
            "layout": "IPY_MODEL_38d78296178d41369ed55c7014164d5f",
            "max": 25,
            "min": 0,
            "orientation": "horizontal",
            "style": "IPY_MODEL_42117bb011e94bdea9be9c0b2801255a",
            "value": 25
          }
        },
        "7d153734446146b1888124b9ebfa4829": {
          "model_module": "@jupyter-widgets/controls",
          "model_name": "HTMLModel",
          "model_module_version": "1.5.0",
          "state": {
            "_dom_classes": [],
            "_model_module": "@jupyter-widgets/controls",
            "_model_module_version": "1.5.0",
            "_model_name": "HTMLModel",
            "_view_count": null,
            "_view_module": "@jupyter-widgets/controls",
            "_view_module_version": "1.5.0",
            "_view_name": "HTMLView",
            "description": "",
            "description_tooltip": null,
            "layout": "IPY_MODEL_4c6d07b4583e4c3cac669e7310d219dc",
            "placeholder": "​",
            "style": "IPY_MODEL_3d79f1be36584be28b11fdd7cd61bcc3",
            "value": " 25/25 [00:20&lt;00:00,  1.67it/s]"
          }
        },
        "dc4faaf2ca8146258bf8b7411c6f3d34": {
          "model_module": "@jupyter-widgets/base",
          "model_name": "LayoutModel",
          "model_module_version": "1.2.0",
          "state": {
            "_model_module": "@jupyter-widgets/base",
            "_model_module_version": "1.2.0",
            "_model_name": "LayoutModel",
            "_view_count": null,
            "_view_module": "@jupyter-widgets/base",
            "_view_module_version": "1.2.0",
            "_view_name": "LayoutView",
            "align_content": null,
            "align_items": null,
            "align_self": null,
            "border": null,
            "bottom": null,
            "display": null,
            "flex": null,
            "flex_flow": null,
            "grid_area": null,
            "grid_auto_columns": null,
            "grid_auto_flow": null,
            "grid_auto_rows": null,
            "grid_column": null,
            "grid_gap": null,
            "grid_row": null,
            "grid_template_areas": null,
            "grid_template_columns": null,
            "grid_template_rows": null,
            "height": null,
            "justify_content": null,
            "justify_items": null,
            "left": null,
            "margin": null,
            "max_height": null,
            "max_width": null,
            "min_height": null,
            "min_width": null,
            "object_fit": null,
            "object_position": null,
            "order": null,
            "overflow": null,
            "overflow_x": null,
            "overflow_y": null,
            "padding": null,
            "right": null,
            "top": null,
            "visibility": "hidden",
            "width": null
          }
        },
        "d87e85966ac54b54842e7e26e28f5707": {
          "model_module": "@jupyter-widgets/base",
          "model_name": "LayoutModel",
          "model_module_version": "1.2.0",
          "state": {
            "_model_module": "@jupyter-widgets/base",
            "_model_module_version": "1.2.0",
            "_model_name": "LayoutModel",
            "_view_count": null,
            "_view_module": "@jupyter-widgets/base",
            "_view_module_version": "1.2.0",
            "_view_name": "LayoutView",
            "align_content": null,
            "align_items": null,
            "align_self": null,
            "border": null,
            "bottom": null,
            "display": null,
            "flex": null,
            "flex_flow": null,
            "grid_area": null,
            "grid_auto_columns": null,
            "grid_auto_flow": null,
            "grid_auto_rows": null,
            "grid_column": null,
            "grid_gap": null,
            "grid_row": null,
            "grid_template_areas": null,
            "grid_template_columns": null,
            "grid_template_rows": null,
            "height": null,
            "justify_content": null,
            "justify_items": null,
            "left": null,
            "margin": null,
            "max_height": null,
            "max_width": null,
            "min_height": null,
            "min_width": null,
            "object_fit": null,
            "object_position": null,
            "order": null,
            "overflow": null,
            "overflow_x": null,
            "overflow_y": null,
            "padding": null,
            "right": null,
            "top": null,
            "visibility": null,
            "width": null
          }
        },
        "87e050e91ac342fcb8b32b9ac9b7c55c": {
          "model_module": "@jupyter-widgets/controls",
          "model_name": "DescriptionStyleModel",
          "model_module_version": "1.5.0",
          "state": {
            "_model_module": "@jupyter-widgets/controls",
            "_model_module_version": "1.5.0",
            "_model_name": "DescriptionStyleModel",
            "_view_count": null,
            "_view_module": "@jupyter-widgets/base",
            "_view_module_version": "1.2.0",
            "_view_name": "StyleView",
            "description_width": ""
          }
        },
        "38d78296178d41369ed55c7014164d5f": {
          "model_module": "@jupyter-widgets/base",
          "model_name": "LayoutModel",
          "model_module_version": "1.2.0",
          "state": {
            "_model_module": "@jupyter-widgets/base",
            "_model_module_version": "1.2.0",
            "_model_name": "LayoutModel",
            "_view_count": null,
            "_view_module": "@jupyter-widgets/base",
            "_view_module_version": "1.2.0",
            "_view_name": "LayoutView",
            "align_content": null,
            "align_items": null,
            "align_self": null,
            "border": null,
            "bottom": null,
            "display": null,
            "flex": null,
            "flex_flow": null,
            "grid_area": null,
            "grid_auto_columns": null,
            "grid_auto_flow": null,
            "grid_auto_rows": null,
            "grid_column": null,
            "grid_gap": null,
            "grid_row": null,
            "grid_template_areas": null,
            "grid_template_columns": null,
            "grid_template_rows": null,
            "height": null,
            "justify_content": null,
            "justify_items": null,
            "left": null,
            "margin": null,
            "max_height": null,
            "max_width": null,
            "min_height": null,
            "min_width": null,
            "object_fit": null,
            "object_position": null,
            "order": null,
            "overflow": null,
            "overflow_x": null,
            "overflow_y": null,
            "padding": null,
            "right": null,
            "top": null,
            "visibility": null,
            "width": null
          }
        },
        "42117bb011e94bdea9be9c0b2801255a": {
          "model_module": "@jupyter-widgets/controls",
          "model_name": "ProgressStyleModel",
          "model_module_version": "1.5.0",
          "state": {
            "_model_module": "@jupyter-widgets/controls",
            "_model_module_version": "1.5.0",
            "_model_name": "ProgressStyleModel",
            "_view_count": null,
            "_view_module": "@jupyter-widgets/base",
            "_view_module_version": "1.2.0",
            "_view_name": "StyleView",
            "bar_color": null,
            "description_width": ""
          }
        },
        "4c6d07b4583e4c3cac669e7310d219dc": {
          "model_module": "@jupyter-widgets/base",
          "model_name": "LayoutModel",
          "model_module_version": "1.2.0",
          "state": {
            "_model_module": "@jupyter-widgets/base",
            "_model_module_version": "1.2.0",
            "_model_name": "LayoutModel",
            "_view_count": null,
            "_view_module": "@jupyter-widgets/base",
            "_view_module_version": "1.2.0",
            "_view_name": "LayoutView",
            "align_content": null,
            "align_items": null,
            "align_self": null,
            "border": null,
            "bottom": null,
            "display": null,
            "flex": null,
            "flex_flow": null,
            "grid_area": null,
            "grid_auto_columns": null,
            "grid_auto_flow": null,
            "grid_auto_rows": null,
            "grid_column": null,
            "grid_gap": null,
            "grid_row": null,
            "grid_template_areas": null,
            "grid_template_columns": null,
            "grid_template_rows": null,
            "height": null,
            "justify_content": null,
            "justify_items": null,
            "left": null,
            "margin": null,
            "max_height": null,
            "max_width": null,
            "min_height": null,
            "min_width": null,
            "object_fit": null,
            "object_position": null,
            "order": null,
            "overflow": null,
            "overflow_x": null,
            "overflow_y": null,
            "padding": null,
            "right": null,
            "top": null,
            "visibility": null,
            "width": null
          }
        },
        "3d79f1be36584be28b11fdd7cd61bcc3": {
          "model_module": "@jupyter-widgets/controls",
          "model_name": "DescriptionStyleModel",
          "model_module_version": "1.5.0",
          "state": {
            "_model_module": "@jupyter-widgets/controls",
            "_model_module_version": "1.5.0",
            "_model_name": "DescriptionStyleModel",
            "_view_count": null,
            "_view_module": "@jupyter-widgets/base",
            "_view_module_version": "1.2.0",
            "_view_name": "StyleView",
            "description_width": ""
          }
        },
        "10ed2fd29bfc436a86da0bdf89b69da0": {
          "model_module": "@jupyter-widgets/controls",
          "model_name": "VBoxModel",
          "model_module_version": "1.5.0",
          "state": {
            "_dom_classes": [
              "widget-interact"
            ],
            "_model_module": "@jupyter-widgets/controls",
            "_model_module_version": "1.5.0",
            "_model_name": "VBoxModel",
            "_view_count": null,
            "_view_module": "@jupyter-widgets/controls",
            "_view_module_version": "1.5.0",
            "_view_name": "VBoxView",
            "box_style": "",
            "children": [
              "IPY_MODEL_cdf6808ad51548e485360a9f7af8710d",
              "IPY_MODEL_28c8ae0378ac4f0f996722b7f62c9201"
            ],
            "layout": "IPY_MODEL_caf8cb9295114c9d85d589da5ddce8c5"
          }
        },
        "cdf6808ad51548e485360a9f7af8710d": {
          "model_module": "@jupyter-widgets/controls",
          "model_name": "ToggleButtonsModel",
          "model_module_version": "1.5.0",
          "state": {
            "_dom_classes": [],
            "_model_module": "@jupyter-widgets/controls",
            "_model_module_version": "1.5.0",
            "_model_name": "ToggleButtonsModel",
            "_options_labels": [
              "Pipeline Plot",
              "Hyperparameters",
              "AUC",
              "Confusion Matrix",
              "Threshold",
              "Precision Recall",
              "Prediction Error",
              "Class Report",
              "Feature Selection",
              "Learning Curve",
              "Manifold Learning",
              "Calibration Curve",
              "Validation Curve",
              "Dimensions",
              "Feature Importance",
              "Feature Importance (All)",
              "Decision Boundary",
              "Lift Chart",
              "Gain Chart",
              "Decision Tree",
              "KS Statistic Plot"
            ],
            "_view_count": null,
            "_view_module": "@jupyter-widgets/controls",
            "_view_module_version": "1.5.0",
            "_view_name": "ToggleButtonsView",
            "button_style": "",
            "description": "Plot Type:",
            "description_tooltip": null,
            "disabled": false,
            "icons": [
              ""
            ],
            "index": 0,
            "layout": "IPY_MODEL_585ce8e2872f479bb420a24afa0c8e9c",
            "style": "IPY_MODEL_87c1cce3598a410386807b6956a59012",
            "tooltips": []
          }
        },
        "28c8ae0378ac4f0f996722b7f62c9201": {
          "model_module": "@jupyter-widgets/output",
          "model_name": "OutputModel",
          "model_module_version": "1.0.0",
          "state": {
            "_dom_classes": [],
            "_model_module": "@jupyter-widgets/output",
            "_model_module_version": "1.0.0",
            "_model_name": "OutputModel",
            "_view_count": null,
            "_view_module": "@jupyter-widgets/output",
            "_view_module_version": "1.0.0",
            "_view_name": "OutputView",
            "layout": "IPY_MODEL_9f09b424b7ba4b7a9a65c785729439cf",
            "msg_id": "",
            "outputs": [
              {
                "output_type": "display_data",
                "data": {
                  "text/plain": "<Figure size 2700x600 with 1 Axes>",
                  "image/png": "iVBORw0KGgoAAAANSUhEUgAACnwAAACJCAYAAAAM7gSQAAAAOXRFWHRTb2Z0d2FyZQBNYXRwbG90bGliIHZlcnNpb24zLjcuMSwgaHR0cHM6Ly9tYXRwbG90bGliLm9yZy/bCgiHAAAACXBIWXMAAA9hAAAPYQGoP6dpAABkxElEQVR4nO3dd3QU1f/G8WcT0kiAkFClgyC9N+lViiBdFERApIoUQUEQQUFUEBHEL4ioiICAiCigokiRjnTpvUqREkIJSUju74/8Mu6SAAETZpO8X+dwzu7sZPfZ1b0ze+dz73UYY4wAAAAAAAAAAAAAAAAAAADgtjzsDgAAAAAAAAAAAAAAAAAAAIC7o+ATAAAAAAAAAAAAAAAAAADAzVHwCQAAAAAAAAAAAAAAAAAA4OYo+AQAAAAAAAAAAAAAAAAAAHBzFHwCAAAAAAAAAAAAAAAAAAC4OQo+AQAAAAAAAAAAAAAAAAAA3BwFnwAAAAAAAAAAAAAAAAAAAG6Ogk8AAAAAAAAAAAAAAAAAAAA3R8EnAAAAAAAAAAAAAAAAAACAm6PgEwAAAAAAAAAAAAAAAAAAwM1R8AkAAAAAAAAAAAAAAAAAAODmKPgEAAAAAAAAAAAAAAAAAABwc2nsDgAAwJ2cPn1amzdv1r59+3Tq1CmFhIQoIiLC7lhAiuTr66vg4GDlzp1bxYoVU7ly5RQUFGR3rFQrOjpaBw4c0LZt23Tw4EGdOXNGV65cUVRUlN3RACSQt7e3MmbMqFy5cqlw4cIqX768smfPbnesVMsYo+PHj2vr1q3av3+/Tp8+rZCQEEVGRtodDUACpUmTRoGBgcqRI4cKFSqksmXLKl++fHI4HHZHS7XOnTunzZs3a+/evTp58qQuX76s8PBwu2MBsJHD4ZCfn58yZ86svHnzqnjx4ipbtqwCAgLsjpZq3bp1S7t27dKOHTt06NAhnTt3TlevXlV0dLTd0QAkkHO/bdGiRVW+fHn6bRPZ3LlztXDhQtpGAIDbq1y5svr160d/GOQwxhi7Q8B+3377rd58801dvXo10Z4zLCxMV69eVbp06eTn55dozwskhaT6/zVdunQaOXKkWrdunWjPmZIZY7Rp0yZ98803Wrx4sQ4fPmx3JCBVK1OmjJ566im1b99eBQsWtDtOihcZGalffvlF8+bN0y+//KILFy7YHQlAIitUqJCaNGmidu3aqWzZsnTKJDFjjFavXq05c+ZoyZIlOnHihN2RACSyHDlyqHHjxnrmmWdUq1YteXiwmFFS2759u2bPnq1FixZp3759dscBkAx4enrq8ccfV/PmzfXss8/qkUcesTtSinfjxg19//33mj9/vn7//fdEve4DwD2ULl1azZo1o982EZw+fVp58uRhoD0AINlYv369KleubHcM2IyCT0iSihQpQictkEQKFy6svXv32h3DrUVFRWnOnDkaO3asduzYYXccAPGoX7++Bg8erDp16tgdJcW5evWqPvnkE3388cf6+++/7Y4D4CEpV66cXnvtNbVu3ZoCpUQWERGhr776SuPGjdP+/fvtjgPgIXn00Uf1yiuv6IUXXpCPj4/dcVIUY4wWLlyo999/Xxs3brQ7DoBkzNPTUy1bttSQIUNUunRpu+OkOOfOndO4ceM0depUXblyxe44AB6SevXqWf22DCy9f7///rvq1atndwwAABJs7dq1qlKlit0xYDMKPiFJypkzp06fPi0PD49EW2bwzJkzio6OTtTnBJJKUvz/GvucOXLk0KlTpxLlOVOi5cuXq0+fPtq9e7fL9jRp0qhKlSqqWrWqSpQoobx58yo4OFje3t50WgCJzBijmzdv6vz58zp8+LB27NihP/74Q9u2bYuzb/369TVhwgQVKVLEhqQpS3R0tD7//HMNHTpU//zzj8tj6dKlU61atVS5cmUVLVpUuXLlUmBgoNKkSWNTWgD3wxijiIgIXbhwQUePHtVff/2lNWvWaMOGDXFmjChTpowmTpyoatWq2ZQ2ZVm0aJH69+8fZ6Z4Hx8fVatWTVWqVFHx4sWVJ08eBQUFydvb26akAO5XZGSkLl26pOPHj2v37t1at26dVq9erZs3b7rslzdvXn3wwQdq2bIlvx0TwcaNG/Xyyy/rzz//dNnu4eGhSpUqqVq1aipZsqTy5cunTJkyycfHh88dSMWMMbp+/brOnj2rQ4cOaevWrVq5cqUOHDgQZ9/27dtr7NixXDtIBOHh4Ro7dqzee+89Xb9+3eWxzJkzq3bt2qpYsaIKFy6sHDlyKH369PL09LQpLYD74dxve+TIEW3fvv2O/bb16tXTxIkT6be9TzNnzlSHDh0kScOHD1fnzp1tTgQAQFw9e/bUzz//LEk6cuSI8uXLZ3Mi2I2CT0j6t+AzMQvTkuI5gaTCd+Dhu379ul555RVNnTrVZXvFihXVo0cPtWzZUhkyZLApHQApZjmb2bNna8qUKTpy5Ii13dvbWyNHjtTAgQOZle4BnThxQs8//7xWrVplbXM4HHrqqaf04osv6oknnqAICUiBLl26pPnz5+vTTz/V1q1bXR7r06eP3n//ffn6+tqULnkLCQlRr1699M0337hsr1Gjhrp3766nnnpKAQEBNqUDkFRu3LihRYsW6bPPPtPvv//u8ljLli01depUBQcH25QueYuIiNDQoUM1btw4OXcflyxZUj169FCbNm2UKVMmGxMCSE4OHDigGTNm6LPPPtP58+et7RkyZND//vc/tWvXzsZ0ydv27dv13HPPuQym9/b21rPPPqsXXnhB1apVo+8GSIFOnz6tb775RlOmTHEZ8Ei/7f0bM2aMBg0aJEmaN2+e2rRpY3MiAADiqlatmtauXStJCgsL4zoCxJkeAOChO3LkiCpXruxS7FmxYkUtX75cGzduVOfOnSn2BNxAjhw59Oqrr+rAgQOaOXOm8ubNKynm4u+gQYPUrFkzhYaG2hsyGVq+fLnKlCnjUuz59NNPa9++fVq4cKGaNGlCsSeQQgUFBalbt27avHmzli5dqjJlyliPTZw4UVWrVmWg0APYvXu3ypcv71LsWatWLW3YsEGrVq1Su3btKPYEUqi0adOqbdu2WrZsmTZv3qz69etbjy1YsEBly5bV9u3b7QuYTJ05c0Y1a9bUBx98YBV7lihRQosXL9b27dvVs2dPij0B3JdChQpp1KhROn78uD766COrGP/KlStq3769evXqpcjISJtTJj8zZsxQ5cqVrWJPT09PvfTSSzp27JimT5+uGjVqUPAFpFA5cuTQwIEDtX//fs2aNStOv+1TTz1Fv20C/f3339ZtZp0GALir2ONVxowZKfaEJAo+AQAP2fbt2/X4449r165dkiR/f39NnjxZ69evV+3atW1OByA+np6eat++vfbs2aNXX33VWqJx8eLFqlmzpsvsHLi7OXPmqEGDBrp06ZIkKXfu3Fq2bJnmzp2rQoUK2ZwOwMPicDj0xBNP6M8//9T48eOtDpqtW7eqcuXK2rt3r80Jk481a9aoatWq1owmgYGB+vrrr7V8+XJVqlTJ5nQAHqZy5cpp6dKlmjt3rlVIdOLECVWvXl3Lly+3OV3ycejQIVWpUkUbNmyQFDNL1Pvvv6+tW7fqySefZLl2AP+Jr6+v+vbtq/3796t9+/bW9smTJ6tZs2YKCwuzMV3yMnr0aHXs2FHh4eGSpNKlS2vLli2aNGkSBUtAKuLp6al27dppz549eu2116xztSVLlqhGjRo6d+6czQnd35kzZ6zbjzzyiI1JAACInzHGOl5xrEIsCj4BAA/Nrl27VLduXas47LHHHtPmzZvVo0cPRpsDyYCfn5/GjBmjpUuXKmPGjJJiirjr1Kmjixcv2pzO/c2dO1ft27fXrVu3JEmNGzfWjh07VLduXZuTAbCLp6en+vXrp40bNyp//vySYpZlq1Wrlg4cOGBzOve3fv16NWzYUFeuXJEklSlTxlrSkoIkIHVyOBx6+umntWPHDqvo+9q1a3ryySddZldH/I4ePapatWrp2LFjkqRcuXJp3bp1eu2115QmTRp7wwFIUYKDgzVz5kx9+eWX1goXP//8s5o3b24VMOLORo8eraFDh1r3u3fvrg0bNqhUqVI2pgJgJz8/P73//vv69ddfFRQUJEnasWMH/bYJwAyfAAB3FxISops3b0qi4BP/oroGAPBQ/P3332rYsKE1q93jjz+u9evXq3DhwjYnA3C/6tevr3Xr1ilnzpySYpbS5aLM3f3xxx/q0KGDoqOjJUndunXTjz/+qMDAQHuDAXALJUuW1IYNG1S2bFlJ0vnz59WwYUNduHDB5mTu69ChQ2rSpImuX78uSXriiSe0evVq5cmTx+ZkANxBjhw5tGLFCjVt2lSSdPPmTTVr1owZlO8iJCREjRo10unTpyVJxYsX18aNG1WuXDmbkwFIyTp16qTffvtN6dKlkyT9+uuvevHFF2WMsTmZ+5oxY4ZLsef777+vyZMny8fHx8ZUANxFvXr1tH79euXKlUuStGfPHjVr1ox+27uInTEtMDBQfn5+NqcBACAu59moGZyAWBR8AgCS3K1bt9S2bVvrwlGFChVcZggEkPwULlxYK1euVLZs2STFLKk7YMAAm1O5pzNnzqhNmzaKjIyUJL344ouaMmWKPD09bU4GwJ1kzpxZy5YtU8mSJSXFzLLWrl07q1Ac/woLC1OrVq2sgUR169bVDz/8IH9/f5uTAXAnfn5+mj9/vho3bixJunLlilq0aKFr167ZnMz9GGPUsWNH7d+/X1LMuf7y5cu5iADgoahRo4Z+/vlnq8hm5syZmjRpks2p3NP27dvVrVs36/7777/vsoQzAEhSoUKFXPpt165dq1deecXmVO7JGGPN8MmMaQAAd+U8GzXHK8Si4BMAkOTee+89rVmzRlLMknCLFi2yRu4DSL4KFCigRYsWWbNIfPLJJ/r5559tTuVejDHq0qWLzp8/LylmdtTJkydzMQZAvDJmzKglS5Yoa9askqTffvtNEydOtDmV+xkyZIh27twpKaYo6bvvvpOvr6/NqQC4I29vb82bN88qpt+/f78GDhxocyr3M3XqVP3444+SYpZZ/umnn5Q5c2abUwFITapWraqvv/7auj9w4EDt2bPHxkTuJzw8XO3atbNm6evRo4deffVVm1MBcFf58+fX4sWLrd/K//vf//TTTz/ZnMr9XLlyRWFhYZKYMQ0A4L6cCz45XiEWBZ8AgCR16NAhjRw5UpLk6empuXPnWkUMAJK/8uXL66OPPrLu9+zZUzdu3LAvkJuZN2+eVQSbPXt2zZ49W2nSpLE5FQB3ljNnTs2ePdu6P3ToUJ08edLGRO5l69atmjBhgiTJ19dX8+fPV4YMGWxOBcCd+fv767vvvrNmAf7000+1bt06m1O5j3Pnzum1116z7s+YMUP58uWzMRGA1KpVq1bq37+/JCkiIkLdu3dnaXcnY8aM0d69eyVJZcqU0UcffcRgUgB3Va5cOev3s0S/bXycl8hlxjQAgLvieIX4UPAJAEhSgwcPVkREhCRpwIABevzxx21OBCCxde/eXXXr1pUkHT9+3KUjMTULDw/XoEGDrPuTJ09WpkyZbEwEILmoU6eOevXqJUm6ceOGhg0bZnMi92CM0YABA6wL/2+99ZaKFStmcyoAycGjjz6qd99917rv3JakdiNGjFBoaKgkqXPnzmrcuLHNiQCkZu+8844effRRSdKaNWv0/fff25zIPZw9e1bvvfeepJgB9V999ZW12goA3E3Xrl1Vr149SdKJEydcBu6DGdMAAMkDS7ojPhR8AgCSzK5du/Tdd99JkrJmzUqxApBCORwOTZw4UR4eMaeWH3zwga5fv25zKvvNmDFDx48flyQ1aNBAzZo1szkRgORk1KhRypgxoyTp66+/1uHDh21OZL/Vq1dr5cqVkmKKt/r162drHgDJS69evawi8Q0bNujXX3+1OZH9Tp06pc8//1ySFBAQYBUTAYBd/Pz8NH78eOv+W2+9RYG+YvpZYmfl69Wrl0qUKGFzIgDJhcPh0Mcff+zSb3vt2jWbU7kPZkwDACQHzscrBiggFgWfAIAkM3HiROv24MGDFRAQYGMaAEmpaNGiateunSTp0qVLmjlzps2J7GWMcRkxP3LkSPvCAEiWMmbMqAEDBkiSoqOjNWnSJJsT2c95Buk333xT3t7eNqYBkNx4enpqxIgR1n1mN5L+97//KTIyUpLUp08fZcmSxeZEACA9+eSTqlixoiRp586d1oCf1Or69ev67LPPJEk+Pj4aMmSIzYkAJDeFCxdW+/btJUmXL1/W119/bXMi98GMaQCA5IAZqREfCj4BAEnixo0b+uabbyRJ6dKlU5cuXWxOBCCp9e/f37r9xRdf2JjEfps2bdKePXskSVWrVlWFChVsTgQgOerRo4d8fX0lxczyGVuUkxpduHBBP/74oyQpW7ZseuaZZ2xOBCA5atGihfLmzStJWrp0qU6fPm1vIBtFRUVp+vTpkqQ0adLo5ZdftjcQAPw/h8OhV155xbqf2vsXFixYoNDQUElS+/btlS1bNpsTAUiOaFfjRwENACA5iD1eZcyY0bpeAFDwCQBIEkuXLrWWBmnTpo3SpUtncyIASa1s2bIqVaqUpJiCxxMnTticyD7ffvutdfuFF16wMQmA5Cw4OFjNmjWTJF28eDFVz260cOFC3bp1S5LUoUMHeXl52ZwIQHLk6empjh07SoqZkX3BggU2J7LP+vXrrSXBGjduTAERALfSvHlzBQYGSpJ++OEHRURE2BvIRs79C507d7YxCYDkrHTp0ipTpowkafPmzTp+/LjNidwDS7oDANydMcY6XnGsgjMKPgEASWLp0qXW7VatWtmYBMDD5Px9d24HUpvY9+7h4WEVawHAg6BdjcG5JYDE0rJlS+s27WoM588EANyBj4+PmjRpIkm6evWqNmzYYHMie0RGRmr58uWSpKxZs6pKlSo2JwKQnHEeHBczfAIA3F1ISIhu3rwpiYJPuKLgEwCQJNauXSspZgaVmjVr2pwGwMNSt25d63ZsO5DaXLlyRbt27ZIklSlTRsHBwTYnApCc1alTx7qdWttV6d/3nj59epUvX97mNACSsxIlSihLliySYtoWY4zNiezhfEypV6+ejUkAIH7O/Qtr1qyxMYl9duzYoevXr0uK+Tw8PLikB+DBOZ/zpeb+BWexM6YFBgbKz8/P5jQAAMTlPBs1gxPgjF+HAIBEFx4err1790qSihUrJn9/f5sTAXhYypYtK09PT0kxFyZSo7/++su6XbFiRRuTAEgJgoODVaBAAUnSzp07FR0dbXOih++ff/6xOrbKlStnHWcA4EE4HA5VqFBBUswsCSdPnrQ50cNnjLHO1R955BHlyJHD5kQAEJfz7+nU2r/g/L5jj10A8KDKlCmjNGnSSEq97aozY4w1wyczpgEA3JXzbNQcr+CMgk8AQKI7fvy4oqKiJElFihSxOQ2Ah8nX11f58uWTJB0+fNjmNPY4dOiQdbtw4cI2JgGQUsS2JTdu3NDZs2dtTvPwObernFsCSAzO52jObUxqERISokuXLknifBWA+ypYsKA1oyX9C5wHA/jvfHx8rH7bQ4cOpdqZ7mOFhoYqLCxMEjOmAQDcl3PBJ8crOKPgEwCQ6M6dO2fdZqYQIPWJ/d5fvXpVN27csDnNw+dcjEUbCCAx5MyZ07qdGgs+ObcEkNic25LU2K5yvgogOfDy8lLWrFklpc62WuI8GEDii21Lrl+/ruvXr9ucxl7MmAYASA6cl3TneAVnFHwCABLd1atXrdvp06e3MQkAOzh/769du2ZjEns4t4EZMmSwMQmAlIJ2lXNLAInL+RwtNbarzu+ZdhWAO4tto1JjWy1xHgwg8aX282BnFHwCAJIDjle4Ewo+AQCJLjo62rqdJk0aG5MAsIOnp6d1OyoqysYk9qANBJDYaFdpVwEkLud21bmNSS1oVwEkF7HtdWo8B5ZorwEkvtTev+DMecY0lsgFALgrjle4Ewo+AQAAkKgcDofdEQAgRaFdBQAAQGrEeTAAIKkwYxoAIDlwPl5R8AlnFHwCAAAAAAAAAAAAAIBUgRnTAADJQWzBZ8aMGeXr62tzGrgTCj4BAAAAAAAAAAAAAECqwAyfAAB3Z4yxBihwrMLtKPgEAAAAAAAAAAAAAACpAkvkAgDcXUhIiG7evCmJgk/ERcEnAAAAAAAAAAAAAABIFWJnTAsMDJSfn5/NaQAAiCv2WCUxOAFxUfAJAAAAAAAAAAAAAABSPGOMNcMnM6YBANyV82zUHK9wOwo+AQAAAAAAAAAAAABAihcaGqqwsDBJzJgGAHBfzgWfHK9wOwo+AQAAAAAAAAAAAABAiseMaQCA5MB5SXeOV7gdBZ8AAAAAAAAAAAAAACDFo+ATAJAccLzC3VDwCQAAAAAAAAAAAAAAUjznGdNYIhcA4K44XuFuKPgEAAAAAAAAAAAAAAApHjOmAQCSA+fjFQWfuB0FnwAAAAAAAAAAAAAAIMVjxjQAQHIQW/AZFBQkX19fm9PA3VDwCQAAAAAAAAAAAAAAUjxm+AQAuDtjjDVAgcEJiA8FnwAAAAAAAAAAAAAAIMVjiVwAgLsLCQnRzZs3JTE4AfGj4BMAAAAAAAAAAAAAAKR4sTOmBQYGys/Pz+Y0AADEFXuskhicgPhR8AkAAAAAAAAAAAAAAFI0Y4w1wyczpgEA3JXzbNQcrxAfCj4BAAAAAAAAAAAAAECKFhoaqrCwMEnMmAYAcF8UfOJeKPgEAAAAAAAAAAAAAAApGgU0AIDkgCXdcS8UfAIAAAAAAAAAAAAAgBTNuYCGgk8AgLtigALuhYJPAAAAAAAAAAAAAACQojkX0DBjGgDAXTHDJ+6Fgk8AAAAAAAAAAAAAAJCiMWMaACA5YIAC7oWCTwAAAAAAAAAAAAAAkKKxpDsAIDmILfgMCgqSr6+vzWngjij4BAAAAAAAAAAAAAAAKRozpgEA3J0xxhqgwLEKd0LBJwAAAAAAAAAAAAAASNGcZ/ikiAYA4I5CQkJ08+ZNScxGjTuj4BNIgE6dOsnhcMT55+fnp9KlS2v8+PGKioqyO6aL6dOny+FwaM2aNXZHAZBAnTp1Upo0af7z84wYMUIOh0OnTp36z8+1cuVKORwOzZw5U5J07NixeNtD53+ZMmX6z6+b2PLmzat69erZHQNAIjh06JD69u2rxx57TAEBAfLx8VHevHnVuXNnnThxQlLctiupPeh5F+drANwB7SoAPDzbtm1Tx44dlTdvXvn6+ip9+vQqX768Ro0apStXrjzw89aqVUuPPvqodT8pfwPf3ncR2wdxt38DBw5MkiwP6mEf1wDYK6na3nu5V1t8e9v9X1/rXm3xrl27EuW1Ekti9YUD9yt2hs/AwED5+fnZnAbu5E7tUkREhBo1aqT06dNrw4YN1nWyDBky6PTp0/E+V61atdSpU6f7ev0HPUeNPR8PCQm5637udp1s6dKlatasmbJlyyZvb29lz55d9erV08yZM2WMsfZLzGue9yu+fqaxY8cqY8aM8vb21rp16zieIUkwOAEJQcEnkECenp46c+aMy7+NGzeqRYsWGjhwoHr27Gl3xESxY8cOORwOu2MAcHODBg2K0ybG/tuzZ4/d8QCkUIcOHVK5cuW0adMmjR8/Xnv27NGOHTv09ttv67ffflPVqlX1zz//qEqVKjpz5oxat25td+Rkq0WLFhoxYoTdMQAkMdrVh4d2FcAnn3yiChUq6Nq1a5o6dar279+vTZs2qVu3bpo2bZpKly6tgwcPJspr/fnnn/r2228T5bkSauvWrXfsJxg+fPhDzQIAsR5m2/uw/PDDD8qbN2+c7dWrV79jO3zmzBkVLlz44YcF3Iwxxir4ZMY0JMStW7fUtm1brV69Wj/99JMqV65sPXb9+nX17t070V4rNfW99O3bV40bN1auXLn0/fff6+DBg5o/f74ee+wxdezYUa1bt1Z0dLTdMdW2bVudOXNGlSpVkiSFhoZq8ODBqly5sg4ePKiyZctqwoQJdyz8BR5U7LFK4niFO6PUHLgP2bJli3O/ZMmSOn36tKZNm6ZRo0YpS5YsNqVLHH/88YfdEQAkAwEBAXHaRABIap9//rlCQ0O1cOFCZc2a1dpeuHBhFS5cWF27dtXGjRvVpEkT2qj/wBijNWvWqFSpUnZHAZDEaFcfDtpVAKtXr1afPn30yiuvaOzYsS6PFS5cWM2bN1fFihXVqlUrbd++XR4e/22ehsyZM/+nv3/Q1+RYAcCdPOy292G50zUcb29v2mHgHkJDQxUWFiaJAhrcW3R0tDp27KilS5dqyZIlqlatmsvj/fr107hx4/T999+rRYsW//n1Uks7Pn36dE2cOFFTpkxR9+7dre158uRR1apVVaxYMb300kuaP3++nn76aRuTSn5+fi4zAV++fFnR0dGqWrWq8uTJI0ny9fVVhgwZ7IqIFIqCTyRE8vj1Ari50qVLyxhjLXcnxUy7Xr9+faVPn16+vr4qVKiQRo4cqVu3bkmSOnToEGe5jk8++UQOh0OjRo1y2V6xYkU99dRTd3z9rVu3qlq1avL19VWWLFn08ssvWz9YnC1YsEBVqlSRv7+/0qZNq+LFi+t///uf9XinTp3Up08fSZLD4bCmmr906ZJ69OihHDlyyMvLS9mzZ1fr1q11+PDh+/ugAPxnO3bsULNmzRQUFCRvb2/ly5dPr7zyiq5duxZn36NHj6phw4by9/dXhgwZ9Nxzzyk0NNRln2nTpqlChQpKnz69AgMD1bRp00SdoTNv3rzq1KmT5s2bpxIlSsjPz0/58+fXxIkTXfa7ePGiunXrpmzZssnf319ly5aNs2zFtm3b9OSTTyowMFDe3t569NFHNXToUEVERFj7REdHa8iQIcqePbt8fX1Vvnx5rVixIk6uqKgovf/++ypVqpQCAgKUKVMmtWvXzmVJiNilGpYsWaLixYvL29s70T4XAA8m9vzmxo0bcR6rWLGiduzYoSZNmsRZ/sZ56ZWmTZsqXbp0ypQpkwYNGqTw8HD169dPWbJkUcaMGfXMM8+4tJUOh0Ovvvqqxo8fr7x588rHx0fFihXTwoUL75r1r7/+UrNmzZQzZ075+fmpZMmS+uKLL+75Hh0Oh9544w2NHj1aOXPmVNq0aVWrVi2dPHlSCxcuVPHixZU2bVqVLl1aa9eutf6uU6dOypw5s7Zt26YqVarIz89PmTNnVr9+/VzaSYfDoRdffNHlNdesWSOHw6Hp06fr2LFj8vDw0IULF/TWW2/J4XDo2LFjCX5Pse3+a6+9pnTp0sU5rwXgXmhXaVcBPBzvvfeeMmXKpHfeeSfex7NkyaLRo0frr7/+0qJFi+76e/T29nPevHlxnu/25RodDodGjBihSZMmqWDBgvLz81ORIkU0d+5cl7+7V3/mfxV7PPnll1/Uu3dvZcuWTenSpVP16tW1bds2l33/+OMP1axZUwEBAcqSJYtatmypffv2uewzefJklShRQr6+vgoICFC1atW0ZMkSl32OHDmiRo0aKW3atMqYMaOee+45Xbp0KU62EydOqF27dtaSz4UKFdKYMWNcZhaqVauWatWqpQkTJigoKChO+w/AvTxo27t161a1b99ewcHBCgwMVKNGjXT06FGXv124cKGqV6+uoKAgpUuXTrVq1XI5l3xQy5cvV61atZQuXTr5+vqqaNGiGjdunLW0ba1atfThhx/q+PHjVtt+vzp16qS8efNqx44dqlWrlgICApQ9e3Z1797d5brSrVu39O6776pgwYLy9fXVo48+qjfffNPlXPj8+fPq2rWrHnnkEXl5eSlbtmx6/vnn48x0Nnv2bD322GPy8fFRgQIFNGnSpHiz3etzjV1GedKkSWrYsKF8fX21evXq+/4MkHo5F9CwRC7uxhij7t27a8GCBfrhhx9Uu3btOPs0adJEbdq00csvvxzn2lt87nU9Lr4l3X/99VeVLl1aPj4+yp07t8aOHavx48fHu8T52bNn1bJlS6VLl07+/v566qmn9M8//8TJMXv2bBUuXFg+Pj7Kly+fPv30U5fHE9K2xy6zvnLlSuXPn18FCxaUFPMd69ixo3LkyCEfHx9lz55dzz33nMt3791331Xp0qVdij2d9ejRQ4cPH75rsefUqVNVpkwZ+fn5KX369CpfvnycFQ727t2rli1bKlu2bPLx8VGuXLnUq1cvl/9WP/30k6pVq6agoCClTZtWRYsW1QcffGAdd537v6ZPn27NsD1s2DDr/ce3pDvHM/xXLOmOhKDgE0gEe/bskYeHh3WQP3HihBo2bKgMGTJo/fr12r9/v4YNG6a3335b7733niSpUaNGOnz4sMvJ2G+//abcuXNr+fLl1raQkBBt3bpVTz75ZLyvfeXKFTVo0EBXrlzRsmXL9Mcffyg4ODhOJ8aGDRvUunVrlS1bVtu2bdOuXbvUuXNnvfTSS9aJ44QJE9SuXTtJMQeRCRMmSJLat2+vhQsXasaMGTpy5Ii+//57HT58WI0bN1ZUVFTifIgA7unGjRuqW7euLl++rOXLl+vQoUOaOHGiPv/8c/Xr1y/O/r1791bHjh21Y8cOTZw4UfPnz1ePHj2sxz/88EN17dpVNWrU0ObNm/XLL7/oypUrqlGjhsuPr/9q48aNmj59ur788ktt375dZcqUUd++fbV582ZJUmRkpBo0aKDVq1dr1qxZ2rlzp1q0aKEOHTpYF58OHjyo6tWr6+rVq1qyZIn27t2rgQMHWu8h1rvvvqt3331Xffr00V9//aX3339fr7/+ui5fvuySqX///hoyZIjatWunHTt2aN68edq5c6dq1aoVp+Bh+PDhGj16tA4dOpRonwmAB9OkSRNJUo0aNfTJJ5/o+PHj9/X3/fv31/PPP6/t27frueee05gxY1SvXj1lyZJF69at06RJkzR37tw4Fx7mzZunHTt2aPHixVq/fr0eeeQRtWnTRrt27Yr3dY4eParq1avr9OnTmjNnjrZv367WrVurS5cumjp16j1zzpkzR+fOndPvv/+uBQsWaNOmTWrTpo0++eQTzZgxQ2vXrlVERIQ6d+7s8ndXrlxRnz59NHLkSO3cuVOvvfaaJk6cqDfffDPBn1GuXLm0detWSdKAAQN05swZ5cqV677e09q1a/X333/rzz//TNRljQAkPtpV2lUASS8qKkorVqzQE088cdeBhE2bNpWnp6d+/fVXa9vtv0dnzZqlV155Rc2aNdOOHTv02WefafLkydq7d+89c8ybN0+bNm2y2sHg4GB17NjR+v2fkP7MxPLaa68pd+7cWr16tX788UcdOHBAzz//vPX4xo0bVa9ePRUpUkTr16/XL7/8ogsXLqhu3boKCQmRJI0ePVovvfSSWrVqpW3btmnt2rXKkSOHmjZtavWtRkVFqUmTJtq1a5e+//57bdq0SRUrVtTAgQNd8oSEhKh69eratGmTpkyZol27dqlPnz4aNmyY3njjDZd9T5w4oV9++UUrV65M9M8FQOL5L21v9+7dVbt2bW3atElff/21Vq5caU2UIcVMrNGiRQurHYu9JlOvXj3t2LHjgTOvXr1aTzzxhIKCgrRixQrt3LlTzz33nF599VWrsHPBggWqXr26cubMqTNnzsRpzxLq6tWr6tWrlwYPHqydO3fq5Zdf1tSpU10mCBkwYIDeffddvfnmm9q9e7fee+89ffjhh1Y/dEREhOrWraulS5fqk08+0f79+/X555/rjz/+UJ06dRQeHi4pZjDUc889p9KlS2vLli369ttvtXz5cv32228ume7nc504caLq1aun/fv3q3z58g/0GSB1ci6gYcY03E3//v01Y8YMLViwQPXr17/jfhMmTNC1a9f0+uuv3/X5HuR63IEDB9S0aVOlTZtWf/zxh3744QetXLkyToFmrN69e+vZZ5/V9u3bNX78eC1atEhvvfWWyz579uzRF198oa+++krbtm1T9erV1aNHD+s4mNC2Pdbbb7+tL774QqtWrZIUU1OwZcsWzZs3T4cOHdK3336rffv2WXUOp0+f1oEDB6z+qPh4eHgof/78d3x87ty56t69u1q3bq3du3dry5Ytqlmzptq2besyC3bjxo116dIlLVmyRIcOHdLnn3+upUuXWr87Dh48qObNm6tMmTJat26d9uzZowEDBmjYsGFWjYSztm3batOmTZKkQYMG6cyZM6pSpUqc/TieITEwwycSxADGmBw5chhJJkeOHG79nHbp2LGj8fT0jLP92rVrZvr06cbHx8d06tTJ2n7z5k2zb98+ExIS4rJ/hQoVTKVKlYwxxly4cMF4eHiYGTNmGGOMiYyMNOnTpzdjx441vr6+JiwszBhjzIIFC4wkc+LEiXizffHFF0aS+eOPP1y2N2/e3Egyq1evtrLu3r3b3Lhxw2W/zJkzm7Zt21r3u3TpYm5vGk6cOGGOHj3qsu2TTz4xkszevXvjzZXc8B34b/7++2+zbds2Ex0dbYwxZtGiRUaSkWRGjRplc7rk405tTazIyEhz8OBBc/78eZftbdq0MVmzZrXuDx8+3EgyH3/8sct+L774ovHy8jJXr141kZGRJjAw0DRq1Mhln7///tt4e3ubIUOGGGOMWbFihZFkvv76a2OMMUePHjWSjLe3t/H394/336effmo9X548eUy6dOlc2sPNmze75Fu4cKGRZH777TeXLH369DHjx483xhjTs2dP4+PjYy5evOiyz4ABA4yHh4c5e/asMcaY3Llzmzp16rjss337diPJ1K1b1xhjzNmzZ42np6fp2bOny35btmwxkszUqVONMcZ8+eWXRpIZNmyYwf1p0aKF1Qb8/fffdsdJcrt37zbHjh2z7g8ePNh6/ytWrLAvWAr11VdfmWzZslmfcY4cOUy7du3MnDlzTEREhDEmbtsV+312PiadO3fOSIrTZhQpUsS0aNHCui/JZMuWzURGRlrbjhw5YiSZ119/3eX5Y8+7evfubdKkSWNOnTrl8txNmzY1OXLksI6Xt/9d7OsVKlTI2scYYxo1amQkmePHj1vb3n//fSPJXLlyxRgTcwyRZBYtWuTymjVr1jTZs2d3ef4uXbq47LN69WojyXz55ZfGGGNOnjxpJJnhw4db+yT0PeXJk8f4+fmZq1evGiSe119/3fp/fvny5XbHSXLHjh0zu3fvtv6/mj59uvX+J0+ebHO6lId2NQbtauqS2tqVS5cumY0bN5qoqChjjDEbNmyw3n/fvn3tDZcKnD171kgyb7zxxj33zZo1q2natOkdf4/WqFHDFChQwKVN++eff4yXl5cpUKCAtS1PnjzWb2BjYtqqfPnyubS98+fPd2nnEtKfaUzcvovYPoi0adPesZ/g2rVrxph/jycdOnRweY3evXsbSVZb17x5c5MrVy6X97l3717Trl078+eff5qIiAiTIUMG07p1a5fniYiIMNmyZTNPPvmkMcaY5cuXG0lW/2usfv36uRzXPvjgAyPJbNy40WW/l19+2fj4+JjQ0FBjTMwxQJI5fPiwwcNRrFgxI8kEBATYHeWh+PPPP136/Vq2bGm116dPn7YxWfKTmG1vkyZNTHBwsHW/ePHiplixYi5t1I0bN0yWLFlMu3btrG158uQxnp6ed2wbPTw8XNruRo0amezZs1vn4LFatWplMmTIYLXhdevWNXny5HHZ516v9dxzz1n7xp7n/v7779a26Ohokz59etOqVStjzL/HlqFDh7q8zuTJk02PHj1MVFSUmTt3rpFkFi9e7LJP7LWBb7/91hhjzPPPP2/8/f1drk2Fh4ebLFmyuBxPEvK5xvZNV69e3eDBOLcrt/8WSYlu77f9+uuvrff/0Ucf2ZgM7ij2PDe2H65UqVLm5s2bcfaLbYti+/6nTJliHA6HWbdunbVPzZo1TceOHY0x5oGvxw0dOtRIMkeOHLH+5ubNmyZ37txGkjl58qQx5t/z8dg+iFjFixc3pUqVsu7nyZPHeHt7u1xnCwsLMwEBAebZZ581xpgEt+2xr/n555+77Ofn52d69OgR531u3brVREVFWb9Fp02bFudzvZPY14p9vyEhIWbnzp3W71tjjLl+/bqRZAYNGmSM+beP6r333nN5rqNHj5pdu3a5vNcNGza47LN9+3arLuP2fqbY//YjR4609r/99xHHMySGNm3aWMcr5zYAcOY6tzBSrdgpuG9fZgH/ioqKUkBAgMu2GzduKEuWLOrXr59Gjhxpbffx8dHBgwf1yiuv6K+//tLly5dljFFYWJjy5csnSQoODlbFihW1YsUKdejQQZs2bVJ4eLh69OihkSNHat26dapTp45+//13lShRQrly5Yo3186dOyVJ5cqVc9leo0YNlyXx/P39tWXLFvXu3Vv79+9XaGiojDG6ceOGLly4cNf3Hh0drQ8++EDLli3TuXPnFBkZaS3ldK+/Tc1ilz85c+aMcubMaXOapBUeHq4LFy4oODhYbdq0UdasWe2OlCKlSZNG586d0+uvv67Nmzfr4sWLio6OVnh4uLW8gLPq1au73C9durSmTZumgwcPKk2aNAoJCVGDBg1c9smePbtKlixpzb55Jy+99JJ69eoV72OZM2d2uV+0aFFlyJDBup8lSxZJMcu4SzEzEEtSpUqVXP7OeQTdxo0bVaxYMQUFBbnsU7VqVY0bN05bt25VlSpVdOLECbVt29Zln1KlSil9+vTW/U2bNikqKirOey9btqwyZcqkzZs3u8waWrFixXjfJxKmXLly8vBI2ZPKh4aG6urVq8qdO7eee+45zqeS2PPPP69nn31Wq1at0qpVq7RmzRp99913mj17tooXL+4yK8ftnEfJxrZVZcuWddknc+bMcWYFfvzxx12WZcmXL5+Cg4N15MiReF9n3bp1Kl68uHLkyOGyvUGDBlq0aJHOnj1712U4ypYtK4fD4ZIpU6ZMyp07d5z8ly9fdmnjatSoEec9r1q1Sjdv3pSvr+8dX/Ne7uc9FS1aNM55MxLP008/LR8fH7tjJKmwsDBdunRJWbNmVdu2bVP8+7Ub7aprftrV1Of111/XqFGj7I6RpCIjI3X+/HllyJBBrVq10mOPPWZ3pFQltv1xXho8IftLcX+P7ty5U/Xr13fZJ1OmTCpSpIiuX79+1+etWLGiS9t7+2/zhPRn3s3SpUuVLVu2eB9Lmzaty/3bZ8JxzhIQEKANGzaoSpUqLu+zcOHCmjVrliTpr7/+smZEcubl5aWKFSta/Qx36zf96KOPrPvr1q1TYGBgnM+7QYMG+vjjj7Vr1y49/vjjkmL6dO824xCSxvXr11N8/6oUM+vi1atXVblyZTVt2lRXrlyxO1Ky9V/a3vjaqNi28urVq9q1a5f69evn8jd+fn7WrG3OKlWqpK+++ire12zfvr31vFJM/2etWrXk5eXlsl/VqlX13Xff6eDBgypSpMgd38PdXiu+c8nYdk2Kef+ZMmWy8mzZskWRkZFx+mudV4/auHGjpLjny1WrVpUk/fnnn2rdurV27typokWLys/Pz9rH29tblStX1pIlSyTd/+dKf23iKF++vDw9Pe2OkaSuXr2q0NBQq982dqZwiRnTEL+oqCh98cUX+vDDDzV48GC98MIL1jnonXTr1k1ff/21unbtqm3btsVpx/fu3ftA1+MOHTqkTJkyuZyL+/j4qGHDhvGudhLf8ev2fpaiRYu6XGfz9fVV4cKFtXv3bkkJb9tj3d4et27dWlOnTlVYWJiefPJJ1axZU9mzZ7f6N2Lb+PiuaSZUQECAVq5cqW7duuno0aO6du2a9Vhs3ULmzJlVo0YNjRgxQidPnlSDBg1Uo0YNa7VWSapWrZqyZcumli1bqlu3bqpdu7YqV66sUqVKPXA2jmdILM4zfLKkO+6Egk8ggTw9PbV9+3brfmhoqOrWravq1avHWb5n0aJFeuqpp9SgQQN9+eWXypkzpzw9PeP8gG/UqJG+/PJLSTHLuVepUkUBAQGqXr26li9frjp16mjZsmVq0aLFHXOFhobK4XDE6Th1vkAlSZMmTdLLL7+sdu3a6a233lLWrFnl4eGhWrVq3fV937hxQzVq1FBYWJjGjh2rsmXLys/PTwsWLNCgQYPu+rep3dWrVyXFdCqlluKfixcvatasWSpZsqTdUVKkbdu2qVatWipdurQmTZqk/Pnzy8vLS4MGDdIPP/wQZ/+MGTO63E+XLp0kuVwEGjRokIYOHeqy382bN1W4cOG7ZgkKCtKjjz6aoNy3dyje/oPu0qVL8e7n7MqVKy4X5GPFtnWhoaEKDQ294/M4t4mxneXPPPNMnA6tsLCwON/XwMDAO+bCvTkvk5PSnThxQl9++aV1sRJJx8vLS/Xq1VO9evUkxXyvx40bp5EjR2rIkCHq2LFjvH/n7+9v3Y5ti5y3xW6/vcMpvnYgICAgTgFTrCtXrujo0aNx2qOoqChJMYOs7vYjPb5M8W2TXDvHHA5HnHPA2AyXL1/+Tx0D9/OeaDeTVmoacHXu3DnNmDHjnucl+O9oV2lXU7OQkBCXC78p2ZUrV/TNN9/EKX5D0sqUKZPSpUt3x6L2WNeuXdM///zjUkx4+/c/NDT0jr9571Xwea/f5gntz7yTvHnzJrggLyH9BLF9GPGJ/V3vPLg0Vvr06a3+gTv1E9zetl+5ckVXrlyJs19soZhzPwFtsj2MMammf1WS1q9fr3/++cfuGMnaf2l779RGSf+2P5988ok+++wzl/0iIiLiLB/v5+d3xz5U5wLI2Oe+U7sm/dum3cndXut2np6ecV7f+bw9tr/2Xm2xw+GIs8/teUNDQ5UnT544fx9ff21CP1fa4sRx9uxZuyM8NLH9tsHBwdY2CmgQHw8PD23btk3Zs2dX+vTp9eKLL6pgwYIaMWLEHf/G4XBo6tSpKlOmjN5//3298cYbLo/HtnH3ez3u4sWL8bbDt0+6Euv2WoH4+mNuv24oxbT1J06csLImpG2PdXt7/OWXX6pGjRr6+uuv1b59e926dUs1atTQ2LFjVaFCBet4cPDgwXjfQ0IMGjRI48aNU58+ffTRRx8pKChIDodDBQsWtPZxOBz6+eefNXnyZM2bN0+TJ0+Wh4eHGjZsqA8//FAFCxbUI488oj///FPjx4/XzJkzNWLECKVPn17t27fXmDFjHmjgLcczJJbYgs+goKD/NOAcKRsFn8B9uP3H8tixY9W1a1fNmTNHzzzzjLX9q6++UkBAgBYuXOjSAN9+AaFRo0YaPny4jh07pl9//VWNGzeWJNWuXVvfffedTp8+rf3791vb4xMQECBjTJzZRWJ/kMeaPn26ChYsqJkzZ7qMbr19v9stX75cJ06c0MyZM9W+fXtre+xFKNxZunTpdOnSJXl4eKT4H44RERG6deuWXnrpJQ0bNky//vqrmjZtanesFGfWrFm6deuWFi5c6DITkPPoNWexRce375c+fXprVo8hQ4aoXbt2cf729hGISSm2OC4kJCTeH5tSzI+e+AoAYtvVwMBA68fXjRs3XPYxxrj8bezoxUmTJqlmzZpxnvP2zk78N9mzZ0/xM3zeuHFDHh4eevXVV/Xqq69q6NCh2rFjh92xUqRbt24pLCwsTodThgwZ9Pbbb2vRokXasmXLHQuTHtTt7WnsNudOYmdBQUHy9/fXd999F+/jt8/mlliMMbp+/bpLEVNsdueR27d39MX3/m5n13tCXJkyZUrxM16Gh4crOjpaffr00dChQzVr1ixrpi4kLtrVu6NdTR0CAwPjFACnNLdu3bJWlXnzzTe1c+dOVa5c2e5YqYaHh4fq1aunX375JU6b4mzx4sWKjo5Wo0aNXGbzcBYQEBDnN68Utx/wQSS0P/NhyJIlyx0HAUj/Xhi9Uz9B7ON36ie4/fMKCgpSUFDQHc83WMnGfg6HI1XMxBYZGaknnnhCQ4cO1WOPPabWrVvr0KFDdsdKlhKz7XWWMWNGORwOderUSa+99lqiZk5I/+fDEttfe6+22BgTp1D19rwJOXYl5eeKO8uWLVuKn+Hz9n7bZ599Vrt27ZLEDJ+In8PhsK7pdunSRTt37tRbb72lQoUKxXstLVbRokU1aNAgvfPOO3r66addHovtP7jf63E+Pj7xtp//ZTB4fP0V165dswo6E9q234mnp6defPFFvfjii7px44Z+++03DRkyRE888YSOHTumrFmzqkSJElqwYIFGjx59xzZo8uTJat68ebzX16dPn6569eq5rBIY38QjadOm1YABAzRgwACFhIRoyZIlGjRokBo0aKDDhw/L4XAoZ86cGjdunMaNG6cTJ05o9uzZGjFihMLCwqxJu+4HxzMkBmOM9f90Sq8xwX9DwSckxVxIOH36NBcU7lOXLl00a9Ys9e7dW7Vr17Y6/yIiIhQQEODSObpmzRodOHDAZaRo+fLllSVLFv3www/atGmTPvzwQ0kxBZ+DBw/Wjz/+qIwZM8aZgt1Z0aJFJcWM+q1du7a1feXKlS77RUREKDg42GU06jfffKOwsLB4p003xsjhcCgiIkJSzIXlWLdu3dKMGTOs/RC/2KKx7Nmz69SpUzanQUoQ3/fxyJEjWrlyZbzfxeXLl6tYsWLW/S1btsjHx0cFCxaUt7e3goODdfDgwTjF7Hv37o131HVSiZ0RdtWqVWrevLm1vVu3bvLx8dHHH3+sSpUq6bPPPtM///zjMnpx1apVSpMmjcqVK6eMGTMqe/bsWr9+vcvzb9682WWmkwoVKsjLy0vHjh1Tly5dXPbdtWsXS7Mlsi1btvCDBInixo0byp07t6pUqaIff/wxzuPh4eH6559//tOSK3eyZs0alxG4hw8f1qVLl6zzsNtVrVpVn3/+uTJlyuTSCfb333/L29s7SQvLly9f7jLoYtOmTSpQoIBVIBgYGBhnppg1a9bE+1zOxxY73xNczZs3z+W8H3hQtKsJQ7ua8r377rsuy5MCSSG2n2/AgAGaMmVKnMcvXLigoUOHqnLlynriiSc0ffr0eJ+naNGi2rhxo9VvJ8XMzrV//36X5QkfREL7Mx+GkiVLat26dbp165Y1YPXYsWN67rnnNGTIENWvX1+BgYFauXKl+vbta/1deHi4NmzYoGrVqkly7Td1njnp9n7TqlWrav78+ZJcB/xfuHBB4eHhd53hDg+Hv78//au4b4nV9jrz9/dXqVKltHfv3jh9qgcPHkzwTMfxqVSpktatWxdnBrBVq1YpODjYZeaypL4uU6xYMXl4eGjVqlUuK9BNnjxZ3377rX755RdrufeVK1eqWbNmLnklWYNLihYtqkWLFunatWtWIf7NmzddiuyT8nPFnW3evDnVXRd2LgqjzxoJ8eGHH2rv3r164YUXlDdv3rtesx86dKjmzp2r7t27u2x/7LHHHuh6XKFChbRkyRIdO3bMOtcPCwuLtw8nof766y+X62xhYWHas2ePWrVqJUkJbtvjc/HiRf38889q3ry5AgIClDZtWjVr1ky3bt1S69attW/fPlWqVElDhgzRs88+q7fffltvvfVWnOf57LPP1KtXL3l6eqpbt25xHo+IiHC5TipJX3zxhaR/j4+nTp3SihUr1L59e3l4eCgwMFDt27fX2bNnNXDgQJ0/f15nzpzR6dOn9eSTT0qScufOrcGDB2vt2rUPPPCc4xkSQ0hIiG7evCmJwQm4u5Q93RKQxBwOhz777DPduHHD5eStatWqOnv2rP73v//p2LFjmj17tl566SU1bdpUf//9t3bt2qXw8HA5HA41aNBA48ePl7+/v8qXLy9JKl26tAICAjRu3Dg1aNDgriPsWrVqpfTp06t///5av3699u3bp2HDhmn37t0u+1WtWlWbN2/Wd999p2PHjumTTz7R5MmTVblyZR04cECHDh1SVFSUNcro+++/1759+1ShQgV5e3vro48+0oEDB7Rp0yY98cQT1kXmNWvW3HWUJ4D7d/bs2Xj/Va1aVZI0cuRIHTt2TEuWLFGzZs3Utm1bRUdHa+XKlS6FjV988YW+++47HT58WNOmTdPMmTPVrl07+fn5ydPTU8OGDdM333yjkSNHas+ePdq/f7/eeecdFS9eXAsWLLhrxmvXrt0x59mzZ63i1IRo3ry5SpYsqT59+mjlypU6evSoxowZo2nTpunxxx+XJPXv31/e3t5q1aqVNm3apEOHDmnChAn69NNP1bNnT+vHXadOnbR69WqNHTtWhw4d0u+//65evXq5zMCUOXNmvfTSS/rwww/1ySef6MCBA9q1a5f69eun0qVLxykYBeAe0qZNq+HDh2vx4sVq0aKFli1bphMnTujQoUP68ccfVb9+fV2+fFlvvvlmor+2h4eHunTpor/++ktbt25Vt27d5OXlpeeeey7e/fv16ycPDw+1atVKa9eu1fHjx7Vo0SJVq1ZNHTp0SPR8sTw9PfXuu+/q119/1cGDB/Xee+9p7dq1euGFF6x9KleurGXLlmnx4sU6cuSIpk2bpqVLl7o8T+xI5PXr12vnzp26fPmybe8JQNKhXb032lUAiaVixYr63//+p2nTpqlx48b65ZdfdPz4ce3fv1+ff/65KlSoIB8fH82bN++uz9O5c2cdO3ZMAwcO1P79+7V+/Xq1adNG2bJl+88ZE9qfeSf//PPPHfsI7ndp6tdff10hISF6/vnndeDAAW3fvl1du3bV0aNHVbFiRXl5eWnw4MFauHCh3n77bR04cEBbt25V27ZtdeXKFQ0ePFhSzKD6vHnzasSIEVq2bJkOHjyoCRMm6Ndff3V5vU6dOil37txq06aNli1bpuPHj2v58uVq0KCBGjZsyEpHQDKVWG3v7YYPH661a9eqb9++2rFjhw4fPqzJkyerVKlSmjhx4gPnHTJkiC5evKhnn31WO3bs0L59+/Tmm29q0aJFGjJkiLWCTlBQkM6ePas//vhDhw8ftv4+IiLirv21d1olKj7ZsmVTt27dNHnyZE2fPl3Hjx/XwoULNWTIEGsygebNm6tEiRLq3bu3Fi9erKNHj2rhwoXq06ePypYtaxXQdO7cWdevX1f37t21e/duq72+fancpPpcAWexM/kGBgYyyA4J4unpqblz5yp37txq3ry5jhw5csd9fXx89Omnn2rlypUu15ke9Hpcu3bt5HA41K1bN23fvl07duxQ27Zt77g6SkIEBQXp+eef15YtW7R792698MILun79ujU5SkLb9jvp1auXOnTooE2bNunUqVPavHmzpkyZouzZs1uDsZ555hkNHDhQb7/9tp599lmtWrVKJ06c0MaNG9WrVy91795d/fr1i7fYU4r53fLzzz9r+fLlOnz4sN5++21t3rxZuXLl0s6dO3X8+HGFhoaqc+fO6tGjh7Zv365Tp05pzZo1mjlzpkqUKKEsWbJo06ZNatGihVUDceLECX333Xdas2aN6tWr98CfMccz/FcMTkCCGcAYkyNHDiPJ5MiRw62f0y4dO3Y0np6ed3z8/fffN5LMjBkzjDHGhIWFma5du5rg4GCTLl0607BhQ3Pw4EGzdu1akzVrVpMuXTqzc+dOY4wxs2fPNpLMU0895fKczZo1c3nOu1m9erWpUKGC8fb2NpkyZTK9evUyc+bMMZLM6tWrjTHGXLhwwbRu3dpkyJDBBAYGmqefftqcO3fOfPfddyZDhgwmKCjIXLhwwezfv98ULlzYeHl5WZnmzJljChYsaHx9fU2RIkXM119/bSIiIkzNmjWNt7e3eeONNx7oc3UnfAcS16JFi4wkI8mMGjXK7jjJRseOHa3PLb5/ERERZvDgwSZbtmwmbdq0pnr16mbTpk3mwIEDJl++fMbPz8/89NNPZvjw4UaS2bp1q6lfv75JmzatyZAhg+nUqZO5du2ay2t+8cUXpnTp0sbHx8f4+vqaihUrmrlz51qPr1ixwkgyX3/9tTHGmKNHj941Y+y/n3/+2RhjTJ48eUzdunVdXvPkyZNGkhk+fLi17dy5c6ZTp04mc+bMxs/Pz5QqVcrMmjXL5e+2bNliGjZsaNKnT2+8vLzMY489Zt5//30TFRVl7RMREWH69u1rMmXKZHx8fEzZsmXN77//bsqUKeOSIyoqyowZM8Y89thjxsvLy/j7+5vatWubZcuWWft8+eWXLu0oEq5FixbW/wt///233XEeusGDB1vvf8WKFXbHSXGWLVtm2rRpY/LmzWv8/PyMj4+PKVCggOnSpYvZu3evMSZu23Wn7/PtbZExxtSsWdPUrFnTZZ8uXbqYMWPGmDx58hhvb29TtGhR8+OPP1r7xPf8u3btMs2aNTMZM2Y0np6eJleuXGbgwIEu7XB8fxf7es46duxo8uTJ47It9m+PHj1q7ePp6Wk2bdpkHn/8cePr62syZcpk+vXrZyIjI62/O3z4sKlfv75Jly6dyZAhg3nmmWfM5s2bjSTz5ZdfWvsNHjzY+Pv7m/Tp01v5EvKe4mv38d+9/vrrVruyfPlyu+M8dNOnT7fe/+TJk+2Ok+LQrrr+Le1q6pDa25UNGzZY779v3752x0lVduzYYbVB3t7eJl26dKZChQpmzJgx5vr169Z+d/s9OnLkSPPII48YLy8vU6RIETN37lzTokULU6BAAWuf29uO+NrC1atXu7RVCe3PvL2fNLYP4m7/smbNaoyJezxxfk/ObbAxMcenKlWqmLRp05pMmTKZZs2amQMHDrj83aRJk0yxYsWsz7Ju3bpxPrPdu3eb2rVrG19fX5MhQwbz7LPPmuXLl8fJceLECfPcc8+ZzJkzG09PT5M1a1bTrVs3c+7cOWufmjVrunzOSHrFihUzkkxAQIDdUWzRsmVL63t0+vRpu+MkW/+17e3SpYu5/XLqjz/+aB5//HHj5+dnvL29TYkSJcz//vc/l33udR4XX5uybNkyU716dePv7298fHxMqVKlzLRp01z2WbNmjcmVK5fx9vY2vXv3tl7rXm3xoEGDjDF3vt5VoEABl/P2yMhIM2LECJMvXz7j7e1t8ufPb958800THh5u7XP+/HnTuXNnkzVrVpMmTRrzyCOPmB49epiLFy+6PPfUqVNN/vz5jZeXl8mXL5+ZOHGi6d+/f5wc9/pcY/umR44cecfPFXfn3K6cOnXK7jgPVXR0tPHz8zOSTNGiRe2OAzd0t3qAvXv3mgwZMpgiRYqYbdu23bXv/4UXXjCSTMeOHV223+/1OGOMmTlzpilYsKDx9vY2hQoVMlOnTjVvvPGGkWT++ecfY8y/5+MnT550eb26deu69H3kyZPHtGjRwnz99demUKFCxsvLy+TPn9+l78KYhLXtd3rNrVu3mieffNIEBwcbLy8v88gjj5inn37a6l9y9ttvv5nmzZubrFmzGi8vL5MzZ07TpEkT88svv7jsd/trHT161NSvX98EBASYzJkzm+7du5tr166ZiRMnGn9/f+s9L1u2zNSuXdsEBgYab29vkzt3btOlSxeXtm/SpEmmZMmSxt/f36RNm9YULlzYDB8+3ERERBhj4p4bxHcciu//G45n+C9+++0361g9ePBgu+PAjTmMYT1mSDlz5rSWdE+spVGS4jmBpMJ3IHEtXrzYWvZw1KhRGjp0qM2JADxMLVu21Pfffy8pZtR0ahuB9vrrr+u9996TJK1YsUK1atWyNxD+E4fDoS5dumjatGl2R7mrTp06aebMmbp165bdUZAEhgwZonfffVdSzPLSqW1J96+++kqdOnWSFLOEIEsvJ2+0q3AHqb1d2bhxo7UUX9++ffXRRx/ZGwgA7qB48eLavXu3AgICdPXqVbvjPHStWrWyZv06ffo0SzoC+M+c25VTp06lqiXdr1y5osDAQElSvXr19Ntvv9kbCEiACxcuKCAgQL6+vta2Z555RkuXLmUFTiCFmjFjhjp27ChJmjhxol5++WWbE8FdsaQ7AAAAAAAAAAAAAABIkWKXc5dYIhfJw+HDh/XII4/omWee0fbt23XkyBFNmTJF8+fPV69eveyOByCJsKQ7EiqN3QEAAAAAAAAAAAAAAACSgnMBDTMmIzkoUKCAli1bprfeekt16tTR1atXlTt3bg0ZMkTDhg2zOx6AJOI8QIHjFe6Ggk8AAAAAuANjjN0REmT69OmaPn263TEA4J5oVwEAAAAADxszfCI5qlGjhn7//Xe7YwB4iBiggIRiSXcAAAAAAAAAAAAAAJAiMWMaACA5cD5eZcuWzcYkcHcUfAIAAAAAAAAAAAAAgBTJecY0ZvgEALir2ILPoKAg+fr62pwG7oyCTwAAAAAAAAAAAAAAkCIxwycAwN0ZY6wBCgxOwL1Q8AkAAAAAAAAAAAAAAFIkZvgEALi7kJAQ3bx5UxKDE3BvFHwCAAAAAAAAAAAAAIAUKXaGz8DAQPn5+dmcBgCAuJwHJ1DwiXuh4BMAAAAAAAAAAAAAAKQ4xhir4JMCGgCAu4o9VknMRo17o+ATAAAAAAAAAAAAAACkOKGhoQoLC5NEAQ0AwH05F3wyQAH3QsEnAAAAAAAAAAAAAABIcSigAQAkB85LujNAAfdCwScAAAAAAAAAAAAAAEhxnAtoKPgEALgrBijgflDwCQAAAAAAAAAAAAAAUhznAhpmTAMAuCsGKOB+UPAJAAAAAAAAAAAAAABSHGZMAwAkB87Hq2zZstmYBMkBBZ8AAAAAAAAAAAAAACDFcZ4xjRk+AQDuKrbgMygoSL6+vjangbuj4BMAAAAAAAAAAAAAAKQ4zPAJAHB3xhhrgAKDE5AQFHwCAAAAAAAAAAAAAIAUhxk+AQDuLiQkRDdv3pTE4AQkDAWfAAAAAAAAAAAAAAAgxYmd4TMwMFB+fn42pwEAIC7nwQkUfCIhKPgEAAAAAAAAAAAAAAApijHGKvikgAYA4K5ij1USs1EjYSj4BAAAAAAAAAAAAAAAKUpoaKjCwsIkUUADAHBfzgWfDFBAQlDwCQAAAAAAAAAAAAAAUhQKaAAAyYHzku4MUEBCUPAJAAAAAAAAAAAAAABSFAo+AQDJAccr3C8KPgEAAAAAAAAAAAAAQIrCjGkAgOTA+XhFwScSgoJPAAAAAAAAAAAAAACQojBjGgAgOXA+XmXLls3GJEguKPgEAAAAAAAAAAAAAAApCjN8AgCSg9iCz6CgIPn6+tqcBskBBZ8AAAAAAAAAAAAAACBFYYZPAIC7M8ZYAxQYnICEouATAJCkoqOj7Y4A4CHje/8vPgsAiYG25F98FgASgzHG7ghug3YVgDujjfoXnwWAxJAaz4OdCz4pogEAuKOQkBDdvHlTEoMTkHAUfAIAEp2fn591OywszMYkAOzg/L13bg9SC9pAAImNdpV2FUDicm5LUuMyWc7vmXYVgDuLbaNS4zmwxHkwgMSXGvsXYmdMCwwMTDXvGQCQvMQeqyQKPpFwFHwCABJdcHCwdfv8+fM2JgFgh9jvfZo0aZQ+fXqb0zx8zm3guXPnbEwCIKVwbksyZcpkYxJ7cG4JILGl9nbV+T3TrgJwV8YYq41KjW21xHkwgMQXex7s6empDBky2Jwm6RljrBk+KaABALgrZqPGg6DgEwCQ6PLkyWPdPnz4sI1JADxsxhjre58rVy55eKS+003aQACJLbYtcTgcypkzp81pHj7aVQCJzbktcW5jUots2bLJy8tLEu0qAPd19uxZ3bhxQ5KUO3dum9PYw/kYdejQIRuTAEgJbu+39fT0tDlR0gsNDbVmNaWABgDgrpwLPhmggIRKfVfgAQBJLmPGjNaP5+3btys6OtrmRAAeliNHjujq1auSpGLFitmcxh7O73v79u32BQGQIkRGRmrXrl2SpAIFCqTKpYfz5ctnLbu2bds2m9MASAli2xJPT08VLFjQ5jQPn6enpwoXLixJ2r9/v1VQBQDuxPm8j/4F+hcA/HdHjx5VaGioJKlo0aI2p3k4KKABACQHzku6M0ABCUXBJwAgSVSsWFGSFBISYhUpAEj5Vq1aZd2ObQdSm7x58ypz5sySpLVr1+rWrVs2JwKQnP3555+6efOmJKlSpUo2p7GHp6enypUrJylmYMGpU6dsTgQgObtw4YJ2794tSSpdunSqLKSX/j2m3Lp1S+vXr7c5DQDE9ccff1i3U2v/Qvny5a3bzv0tAPAgnNvV1NK/wBK5AIDkgAEKeBAUfAIAkkTdunWt24sWLbIxCYCHyfn77twOpCYOh0N16tSRJF25ckVr1qyxORGA5My5XY1tW1Ij52PK4sWLbUwCILlbsmSJdZt2NQa/2QG4o9i2yeFwqHbt2jansUdwcLDKlCkjKWbGUwY+AfgvUmP/gvOMaRTQAADcFccrPAgKPgEASeKpp56ybs+aNUvGGBvTAHgYLl26pJ9//lmSlDVr1lQzUjw+zZo1s27PnDnTxiQAkrOoqCh98803kiQPDw89+eSTNieyD+0qgMQya9Ys67Zz25LaNGzYUF5eXpKkuXPnKjIy0uZEAPCv7du3a8+ePZKkxx9/XFmyZLE5kX2cj1WzZ8+2MQmA5Ozy5cvWwKfMmTPr8ccftznRw8GMaQCA5MD5eJUtWzYbkyA5oeATAJAk8uTJo+rVq0uS9u7dqxUrVticCEBSmzZtmsLDwyVJ7dq1k6enp82J7PPUU08pXbp0kqRvvvlGFy9etDkRgORoyZIlOn78uCSpQYMGypo1q82J7FO6dGkVK1ZMkrR27Vpt377d3kAAkqV9+/bpt99+kyTlz58/1Vzojk9gYKCaNm0qSTp79qwWLFhgcyIA+NekSZOs2x06dLAxif3at29v3Z4yZYpu3bplYxoAydXnn3+eKvttnWdMY0l3AIC7ii34DAoKkq+vr81pkFxQ8AkASDIvvfSSdXvkyJHM8gmkYNevX9eHH34oKWa5tR49eticyF7+/v7q1KmTJOnGjRsaP368vYEAJDvGGL3zzjvW/V69etmYxn4Oh8PlMxg1apSNaQAkV6NHj7Zu9+zZUx4eqbtr1Pk3++jRoxUdHW1jGgCIcfz4cc2YMUOSlD59erVr187mRPZ69NFH1aBBA0nS0aNHmeUTwH27ceOGxo0bZ91PTf22zPAJAHB3xhhrgALHKtyP1N2rCQBIUq1atdKjjz4qSVq5cqUWL15scyIASWXMmDE6d+6cpJjvfqFChWxOZL8BAwZYy2SOHz9eJ06csDkRgORkzpw52rRpkySpRIkSaty4sc2J7NepUydrltPvvvtOa9eutTkRgORky5YtmjlzpqSYGRO6detmcyL71a5dWxUrVpQk7dy5U9OnT7c3EABIGjx4sCIjIyVJvXv3Vvr06W1OZL/Bgwdbt9944w1dv37dxjQAkpuxY8fq7NmzkqSWLVuqcOHCNid6eJwLPpnhEwDgjkJCQnTz5k1JHKtwfyj4BAAkmTRp0rjMTPXSSy/pypUrNiYCkBR2796t9957T1LM937kyJE2J3IPefLksWaju3Hjhnr27MlMxwAS5MKFC+rfv791/7333kv1s9BJUtq0aTVixAjrfteuXa3OMAC4m4iICL344ovWudjQoUMpIFLM7Mmx5/GS9Oqrr7osewkAD9tPP/2kOXPmSJKCg4P16quv2pzIPdSqVUuNGjWSJJ08eVJvvPGGzYkAJBd79uyxZrn39PRMdatlxJ7bBgYGys/Pz+Y0AADE5dwPwwyfuB9cMQIAJKk2bdqoXr16kmI6JLt27UrBE5CCXL9+Xc8884wiIiIkxcxqmZpGid/LiBEjlC1bNkkxF64mTpxocyIA7i46OlqdOnWyZk1u1qwZs3s6efHFF1WuXDlJ0t69e10KYwHgTgYPHqzt27dLkooXL66XX37Z3kBupHbt2nrmmWckSZcuXVKHDh1069Ytm1MBSI1Onz6tzp07W/fHjBmjwMBA+wK5mQkTJsjHx0eS9NFHH2nJkiU2JwLg7m7vt33llVdUpEgRm1M9PMYYa4ZPCmgAAO6K2ajxoCj4BAAkKYfDoWnTpilDhgySpG+//ZbZ/4AUIioqSh06dNCuXbskScWKFXOZeQ0xo8enTZtm3R8wYIB++eUXGxMBcHevv/66dfE2U6ZMmjx5ss2J3EuaNGn01VdfydfXV5I0ZcoUffLJJzanAuDOvvjiC40fP16S5OXlpa+++kpeXl42p3IvH3/8sXVR4ffff1f//v0ZqAngobp27ZqaNWum8+fPS5IaN27sUvwJqWDBgi6zMrdr105//fWXjYkAuLOoqCg9//zzVjtRtGhRvfXWWzanerhCQ0MVFhYmiQIaAID7ci74ZIAC7gcFnwCAJJcnTx599dVX1v3hw4dbF9wAJE9RUVHq0qWLvv/+e0lSunTp9O2331oFOPjXk08+qUGDBkmK+dxatWqlFStW2JwKgDsaNWqUxowZI0ny8PDQ7NmzuSgRj2LFirkUwr788suaPn26fYEAuK05c+aoa9eu1v0JEyaobNmyNiZyT5kyZdKcOXOUJk0aSdKkSZP0xhtvUPQJ4KG4du2amjZtqi1btkj6tx/R4XDYnMz99O3bVy1btpQUU8j0xBNPaO/evTanAuBuoqKi9OKLL2rBggWSYvpt58+fn+qWNKeABgCQHLCkOx4UBZ8AgIeiWbNmGjt2rHX/lVde0ZAhQxQdHW1jKgAP4tq1a2rVqpVVyJ0mTRrNnz8/VS0JdL/eeecdtWrVSpJ048YNNWrUSPPmzbM5FQB3cevWLfXr10/Dhg2ztk2aNEn169e3MZV769SpkwYPHiwpZpm2zp07a8yYMRQnAZAU0y5MnDhR7dq1s35z9u3bVz179rQ5mfuqUaOGPvvsM+v+6NGj1bNnT0VGRtqYCkBKd/bsWdWtW1crV66UFLNKxuLFi5UpUyZ7g7kph8OhGTNmqEKFCpJiPr/q1atrzZo1NicD4C6uX7+uNm3aWIMi06RJo3nz5qXKfluWyAUAJAccr/CgKPgEADw0AwcOdFnu+d1331Xjxo119uxZ+0IBuC87d+5UpUqV9MMPP0iKWRZz7ty5euKJJ2xO5t48PT01a9YsNWnSRJIUHh6utm3b6pVXXtHNmzdtTgfATidPnlT9+vU1YcIEa9vYsWMpSkqA0aNHq0+fPtb9QYMG6emnn9alS5dsTAXAbleuXFGHDh3Ut29fqwi8a9eu+vDDD21O5v46deqkSZMmWfc//fRT1apVS8eOHbMvFIAU6/fff1fZsmW1adMmSTHFnkuXLlXx4sVtTube/P399fPPP6tMmTKSpIsXL6pOnToaN24cA+uBVO6vv/5SpUqVrBWZ0qRJozlz5qhhw4Y2J7MHM6YBAJIDjld4UBR8AgAequHDh+vjjz+Wh0fMIWjp0qUqWrSopkyZolu3btmcDsCdXL16VUOGDFH58uW1Z88eSVL69Om1ZMkSazkx3J2Pj48WLFigTp06WdvGjx+v0qVLa+nSpcxKB6QyERERmjBhgooXL27NaJQmTRpNmzZNAwcOtDdcMuFwOPTRRx9p5MiR1rb58+eraNGimjFjBhe8gVQmOjpac+bMUdGiRTVr1ixr+5AhQ/Tpp59av0Fxdy+99JJmzpwpb29vSdK6detUvHhxffDBBwoPD7c5HYCU4OzZs+rSpYvq1atnXdzMlSuXVq1apYoVK9qcLnkIDg7WihUrVK9ePUlSZGSkBg4cqGrVqmnLli02pwPwsF29elVDhw5VuXLltHv3bkkxy7gvWbLEWnEoNWJJdwBAcuB8vMqWLZuNSZDc0NMJAHjoevfurV9//VVZs2aVJF2+fFk9e/ZUkSJF9Omnn+ratWs2JwQQ69y5cxo5cqTy5cund99911rSsWTJktq0aRPLDd8nLy8vffHFF/r444+ti+j79+9Xw4YNVatWLf3444+KioqyOSWApBQaGqpJkybpscceU79+/RQaGipJypkzp1asWKEuXbrYnDB5cTgceuONN/T9998rY8aMkmKOXR07dlSpUqX01VdfKSwszOaUAJJSeHi4Zs+erXLlyunZZ5+1OsrTp0+vuXPn6p133pHD4bA5ZfLSvn17rV69Wnny5JEUszToq6++qoIFC+qjjz5SSEiIvQEBJEuHDx9W//79VaBAAX3xxRfW9nr16unPP/9UyZIlbUyX/GTIkEE///yzXnvtNWvb+vXrVb58ebVo0UJ//PEHA0uBFO7cuXMaNWqU8ufPr9GjR1v9tiVKlNCff/6Z6ldkcp4xjSVyAQDuKrYfKygoSL6+vjanQXLiMPzig2IuLp4+fVo5cuTQqVOn3PY5gaTCd8AeFy5cUP/+/TVz5kyX7f7+/mrSpIkaN26sKlWqKH/+/MzGAjwkkZGR2rt3r/744w8tXrxYy5YtcylA9PLy0qBBg/TGG2/Ix8fHxqTJ3+7du9W1a1etX7/eZXu2bNnUsmVL1a9fX5UrV2ZEH5DMRUdH69ChQ1q7dq1++uknLVmyJE4BYpcuXTR27FirYBEP5vTp0+rdu7cWLlzosj1Dhgx66qmn1KhRIz3++OPKkycPxV9AMmaM0cmTJ7V+/Xr98ssv+uGHH3T58mWXfRo3bqzJkycrd+7cNqVMGUJDQzV48GBNmTLFpWjIx8dHjRs3VuPGjVWtWjUVLFhQnp6eNiYF4I5u3rypHTt2aNWqVfrxxx+1du1al8fTp0+v0aNHq2fPnvT7/UerVq1St27ddODAAZftBQoUUMuWLVW3bl1VrFiR3xtAMhfbb7t69WotXrxYv/32W5x+29dee03Dhg2j31ZS27ZtNW/ePEkxgw7y589vcyIAAFwZY5Q2bVrdvHlTxYsX119//WV3JCQjFHxCEsVuAN8Be61fv15Dhw7VihUr4n08bdq0ypMnj4KDg+Xt7c0FeiCRGWMUFham8+fP68SJE9ZocGceHh569tln9dZbb6lAgQI2pEyZoqOjNW/ePI0YMUL79++Pd5+MGTMqV65cCgwMVJo0aWgDgWTAGKPw8HBdvHhRx48fv+MMkw0aNNCoUaNUvnz5h5wwZfv999/1xhtvaMOGDfE+HhAQoNy5cysoKIhzSyCZMMYoMjJSly5d0okTJ3T16tV49ytfvrxGjhyphg0bPuSEKdv27ds1bNgwLV68ON7HfX19lSdPHmXKlEk+Pj60q0AqFh0drRs3bujs2bM6efKkoqOj4+zj6+urbt26aejQocqSJYsNKVOmiIgIffrpp3rvvfdcloV0liVLFuXMmVPp0qWTp6cn7TWQDMT22/7zzz86fvz4Hfttn3nmGb311lt69NFHbUjpnqpXr641a9ZIkmrUqCEvLy+bEwEA4Co6Otqqj6hfv75+/fVXmxMhOaHgE5L+LUzz8PBItGntz5w5o+jo6ER9TiCpJMX/r7HPScFnwm3ZskVTp07Vt99+G2eGFgD2yJ07t9q3b69u3bopb968dsdJsaKjo/Xzzz9r2rRp+umnnxQREWF3JABJJFOmTHr66afVvXt3lq1MQsYYrVu3Tp999pkWLFhwx+IwAMmfv7+/mjdvrq5du6pGjRoUrySh3bt3a+rUqZozZ47Onz9vdxwAyUzRokX1/PPP64UXXlDmzJntjpNihYeHa/78+fryyy+1YsWKeItuAaQMsf22Xbt2Vb58+eyO43aKFy+u3bt32x0DAIAE6dSpk7788ku7YyAZoeATkqQiRYpo3759dscAUqTChQtr7969dsdIViIjI7V+/XqtXLlSW7Zs0b59+3Tq1CnduHHD7mhAipYhQwblzp1bRYsWVcWKFVWnTh2VKlWKi+YP2dWrV7VixQqtXr1a27dv18GDB/X333/HO4IfgHvz9/dXrly5VLhwYZUvX161atVSpUqVlCZNGrujpSrh4eFas2aNVq1apS1btujAgQM6deqUbt68aXc0APfJ19dXjzzyiB577DGVLVtWNWrUUI0aNeTr62t3tFQlKipKmzZt0sqVK7V582bt3btXJ0+e1LVr1+yOBsBNBAcHK2/evCpWrJgqV66sevXqqWDBgnbHSnUuXLigZcuWae3atdqxY4cOHz6sc+fOuSwBDSB5SJ8+vfLkyaOiRYuqQoUKqlOnjkqXLk2/7V28++67evPNN3Xr1i27owAAcFeZM2fWwoULVaVKFbujIBmh4BOSpPnz52vYsGGJOutJWFiYrl69qnTp0snPzy/RnhdICkn1/2u6dOk0cuRItW7dOtGeMzWLjIxk1jsgifj4+FCA5MaMMYqIiKCDEkhGvL29WS7MzUVERFBMDyQjXl5e8vb2tjsG7oLf7AAcDod8fX3l4eFhdxTcgTFGN2/eZOZPIBmh3/bBhYeH058KAHB7vr6+8vT0tDsGkhkKPgEAAAAAAAAAAAAAAAAAANwcwywBAAAAAAAAAAAAAAAAAADcHAWfAAAAAAAAAAAAAAAAAAAAbo6CTwAAAAAAAAAAAAAAAAAAADdHwScAAAAAAAAAAAAAAAAAAICbo+ATAAAAAAAAAAAAAAAAAADAzVHwCQAAAAAAAAAAAAAAAAAA4OYo+AQAAAAAAAAAAAAAAAAAAHBzFHwCAAAAAAAAAAAAAAAAAAC4OQo+AQAAAAAAAAAAAAAAAAAA3BwFnwAAAAAAAAAAAAAAAAAAAG6Ogk8AAAAAAAAAAAAAAAAAAAA3R8EnAAAAAAAAAAAAAAAAAACAm/s/Z2WE26/J874AAAAASUVORK5CYII=\n"
                },
                "metadata": {}
              }
            ]
          }
        },
        "caf8cb9295114c9d85d589da5ddce8c5": {
          "model_module": "@jupyter-widgets/base",
          "model_name": "LayoutModel",
          "model_module_version": "1.2.0",
          "state": {
            "_model_module": "@jupyter-widgets/base",
            "_model_module_version": "1.2.0",
            "_model_name": "LayoutModel",
            "_view_count": null,
            "_view_module": "@jupyter-widgets/base",
            "_view_module_version": "1.2.0",
            "_view_name": "LayoutView",
            "align_content": null,
            "align_items": null,
            "align_self": null,
            "border": null,
            "bottom": null,
            "display": null,
            "flex": null,
            "flex_flow": null,
            "grid_area": null,
            "grid_auto_columns": null,
            "grid_auto_flow": null,
            "grid_auto_rows": null,
            "grid_column": null,
            "grid_gap": null,
            "grid_row": null,
            "grid_template_areas": null,
            "grid_template_columns": null,
            "grid_template_rows": null,
            "height": null,
            "justify_content": null,
            "justify_items": null,
            "left": null,
            "margin": null,
            "max_height": null,
            "max_width": null,
            "min_height": null,
            "min_width": null,
            "object_fit": null,
            "object_position": null,
            "order": null,
            "overflow": null,
            "overflow_x": null,
            "overflow_y": null,
            "padding": null,
            "right": null,
            "top": null,
            "visibility": null,
            "width": null
          }
        },
        "585ce8e2872f479bb420a24afa0c8e9c": {
          "model_module": "@jupyter-widgets/base",
          "model_name": "LayoutModel",
          "model_module_version": "1.2.0",
          "state": {
            "_model_module": "@jupyter-widgets/base",
            "_model_module_version": "1.2.0",
            "_model_name": "LayoutModel",
            "_view_count": null,
            "_view_module": "@jupyter-widgets/base",
            "_view_module_version": "1.2.0",
            "_view_name": "LayoutView",
            "align_content": null,
            "align_items": null,
            "align_self": null,
            "border": null,
            "bottom": null,
            "display": null,
            "flex": null,
            "flex_flow": null,
            "grid_area": null,
            "grid_auto_columns": null,
            "grid_auto_flow": null,
            "grid_auto_rows": null,
            "grid_column": null,
            "grid_gap": null,
            "grid_row": null,
            "grid_template_areas": null,
            "grid_template_columns": null,
            "grid_template_rows": null,
            "height": null,
            "justify_content": null,
            "justify_items": null,
            "left": null,
            "margin": null,
            "max_height": null,
            "max_width": null,
            "min_height": null,
            "min_width": null,
            "object_fit": null,
            "object_position": null,
            "order": null,
            "overflow": null,
            "overflow_x": null,
            "overflow_y": null,
            "padding": null,
            "right": null,
            "top": null,
            "visibility": null,
            "width": null
          }
        },
        "87c1cce3598a410386807b6956a59012": {
          "model_module": "@jupyter-widgets/controls",
          "model_name": "ToggleButtonsStyleModel",
          "model_module_version": "1.5.0",
          "state": {
            "_model_module": "@jupyter-widgets/controls",
            "_model_module_version": "1.5.0",
            "_model_name": "ToggleButtonsStyleModel",
            "_view_count": null,
            "_view_module": "@jupyter-widgets/base",
            "_view_module_version": "1.2.0",
            "_view_name": "StyleView",
            "button_width": "",
            "description_width": "",
            "font_weight": ""
          }
        },
        "9f09b424b7ba4b7a9a65c785729439cf": {
          "model_module": "@jupyter-widgets/base",
          "model_name": "LayoutModel",
          "model_module_version": "1.2.0",
          "state": {
            "_model_module": "@jupyter-widgets/base",
            "_model_module_version": "1.2.0",
            "_model_name": "LayoutModel",
            "_view_count": null,
            "_view_module": "@jupyter-widgets/base",
            "_view_module_version": "1.2.0",
            "_view_name": "LayoutView",
            "align_content": null,
            "align_items": null,
            "align_self": null,
            "border": null,
            "bottom": null,
            "display": null,
            "flex": null,
            "flex_flow": null,
            "grid_area": null,
            "grid_auto_columns": null,
            "grid_auto_flow": null,
            "grid_auto_rows": null,
            "grid_column": null,
            "grid_gap": null,
            "grid_row": null,
            "grid_template_areas": null,
            "grid_template_columns": null,
            "grid_template_rows": null,
            "height": null,
            "justify_content": null,
            "justify_items": null,
            "left": null,
            "margin": null,
            "max_height": null,
            "max_width": null,
            "min_height": null,
            "min_width": null,
            "object_fit": null,
            "object_position": null,
            "order": null,
            "overflow": null,
            "overflow_x": null,
            "overflow_y": null,
            "padding": null,
            "right": null,
            "top": null,
            "visibility": null,
            "width": null
          }
        }
      }
    }
  },
  "nbformat": 4,
  "nbformat_minor": 5
}