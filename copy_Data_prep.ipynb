{
  "cells": [
    {
      "cell_type": "markdown",
      "metadata": {
        "id": "view-in-github",
        "colab_type": "text"
      },
      "source": [
        "<a href=\"https://colab.research.google.com/github/VivianeSouza923/Wproject_Iot/blob/main/copy_Data_prep.ipynb\" target=\"_parent\"><img src=\"https://colab.research.google.com/assets/colab-badge.svg\" alt=\"Open In Colab\"/></a>"
      ]
    },
    {
      "cell_type": "markdown",
      "metadata": {
        "id": "Grbzl6Hh_4GW"
      },
      "source": [
        "  \n",
        "***\n",
        "***\n",
        "# Written by Cooper Coldwell, June 23 2022\n",
        "This code's purpose is to read in '.pcapng' files from 3 sources--Normal-1UE, Normal-2UE, and Attacks--and parse the data to use for machine learning model training.  \n",
        "## Dataset Explanation\n",
        "### Normal-1UE\n",
        "The Normal-1UE sets represent normal 5G network traffic data collected on a simulated 5G Core connected to another computer simulating a Radio-Area-Network connected to a single User Equipment (UE, basically a 5G-capable device like a cellphone). Within the Normal-1UE directory are log files--containing the terminal logs for each Network Function (NF, the components of the 5G network)--and '.pcapng' files containing the captured 5G network packets.  \n",
        "The network traffic consisted of YouTube streaming, HTTP requests to popular websites, and data transfers to and from  FTP and SAMBA servers.\n",
        "### Normal-2UE\n",
        "The Normal-2UE captured data is very similar to the Normal-1UE data except with two simulated UEs. The network traffic was of the same type but divided between the two UEs. The goal here was to introduce more 'network regulation'-type data that was very weakly represented in the 1UE. Consider the following scenario:\n",
        "> A physical 5G network: a user with a 5G cellphone is moving, so the connection strength between the user and cell tower A weakens while connection strength to tower B is increasing. The network would detect this and make decisions whether to end the user's session with A and begin another with B.  \n",
        "\n",
        "With two UEs, we hope to see more of these types of intra-network communication packets.\n",
        "### Attacks\n",
        "The Attacks captured data were captured by executing 5G-specific attacks against the 5G Core from the 5G Core, i.e. a Bad Actor has gained access to the Core and is mucking around. There is very little internet traffic in this set because the attacks were run while the simulated UEs were idle. There might be some incidental traffic, but not much.\n",
        "## Data Handling\n",
        "The data is saved across many files. For the normal data, we are pulling the data from the 'allcap\\*.pcapng' files, which contains the combined data from all the network interfaces we recorded on; the allcap files represent the sum total of all the traffic inside the 5G Core as well as the data between the RAN and Core.\n",
        "When examining the captured packets with Wireshark and Scapy, we discovered that the packet layers containing the attacks were labelled as 'Raw' by Scapy, so we decided to discard the other layers. To convert the packets to a format usable for training ML models, this notebook performs the following:\n",
        "1. Read in the files with Scapy\n",
        "2. Convert the raw bytes for each to a string\n",
        "3. Add each successive packet to an array containing the other packets of the same classification (Normal-1UE, Normal-2UE, Attack)\n",
        "4. Combine subsets of the processed sets together to create a set containing normal data of both varieties and another set that is 50% attack, 50% normal. The packets in the mixed normal-and-attacks set are labelled according to whether they are normal or attack.\n",
        "    - These labels are not important for our training, because we use unsupervised learning to train a variational autoencoder on the normal data, but the labelled data is useful for comparing how well the VAE can differentiate between attacks and normal traffic.\n",
        "5. Shuffle each set, then normalize the length of each string of bytes\n",
        "6. Convert the strings of bytes to an array of bytes\n",
        "7. Save the datasets"
      ]
    },
    {
      "cell_type": "code",
      "execution_count": null,
      "metadata": {
        "id": "NoL9ROH2_4GY"
      },
      "outputs": [],
      "source": [
        "from __future__ import absolute_import, division, print_function, unicode_literals\n",
        "\n",
        "# import cupy as cp\n",
        "import numpy as np\n",
        "import pandas as pd\n",
        "# import cudf as cd\n",
        "\n",
        "import os, sys\n",
        "import glob as glob\n",
        "import binascii\n",
        "import csv\n",
        "import pickle\n",
        "from scapy.all import *\n",
        "from pathlib import Path\n",
        "from tqdm.auto import tqdm"
      ]
    },
    {
      "cell_type": "markdown",
      "metadata": {
        "id": "5fk1Kt4G_4Ga"
      },
      "source": [
        "### Set directory paths pointing towards the datasets\n",
        "The *processedPath* variable points to where the output files will be written. The *path\\**  variables point to the data sources."
      ]
    },
    {
      "cell_type": "code",
      "execution_count": null,
      "metadata": {
        "id": "c4LT04EP_4Ga"
      },
      "outputs": [],
      "source": [
        "pathToNormal = 'Normal-1UE/'\n",
        "pathToNormal2UE = 'Normal-2UE/'\n",
        "pathToAttack = 'Attacks/'\n",
        "!mkdir NEW-PREPPED-DATA_jupyter\n",
        "processedPath = 'NEW-PREPPED-DATA/'"
      ]
    },
    {
      "cell_type": "markdown",
      "metadata": {
        "id": "4KGDOl9C_4Gb"
      },
      "source": [
        "# Loading data from the .pcapng files"
      ]
    },
    {
      "cell_type": "markdown",
      "metadata": {
        "tags": [],
        "id": "4Aek5dYS_4Gc"
      },
      "source": [
        "## Let's first look at the structure of packets:"
      ]
    },
    {
      "cell_type": "code",
      "execution_count": null,
      "metadata": {
        "id": "b6i7UEaL_4Gc"
      },
      "outputs": [],
      "source": [
        "example = rdpcap(pathToAttack+'AMFLookingForUDM/allcap_AMFLookingForUDM_00001_20220609151247.pcapng')"
      ]
    },
    {
      "cell_type": "code",
      "execution_count": null,
      "metadata": {
        "id": "ndvZU771_4Gd",
        "outputId": "0aae70c2-bded-4139-e07b-02d7ae0f7a0d"
      },
      "outputs": [
        {
          "name": "stdout",
          "output_type": "stream",
          "text": [
            "###[ Ethernet ]### \n",
            "  dst       = 00:00:00:00:00:00\n",
            "  src       = 00:00:00:00:00:00\n",
            "  type      = IPv4\n",
            "###[ IP ]### \n",
            "     version   = 4\n",
            "     ihl       = 5\n",
            "     tos       = 0x0\n",
            "     len       = 197\n",
            "     id        = 22163\n",
            "     flags     = DF\n",
            "     frag      = 0\n",
            "     ttl       = 64\n",
            "     proto     = tcp\n",
            "     chksum    = 0xe594\n",
            "     src       = 127.0.0.1\n",
            "     dst       = 127.0.0.10\n",
            "     \\options   \\\n",
            "###[ TCP ]### \n",
            "        sport     = 37364\n",
            "        dport     = irdmi\n",
            "        seq       = 3683835274\n",
            "        ack       = 4293697932\n",
            "        dataofs   = 8\n",
            "        reserved  = 0\n",
            "        flags     = PA\n",
            "        window    = 512\n",
            "        chksum    = 0xfec2\n",
            "        urgptr    = 0\n",
            "        options   = [('NOP', None), ('NOP', None), ('Timestamp', (3708803956, 3529532140))]\n",
            "###[ Raw ]### \n",
            "           load      = 'GET /nnrf-disc/v1/nf-instances?requester-nf-type=AMF&target-nf-type=UDM HTTP/1.1\\r\\nHost: 127.0.0.10:8000\\r\\nUser-Agent: curl/7.68.0\\r\\nAccept: */*\\r\\n\\r\\n'\n",
            "\n"
          ]
        }
      ],
      "source": [
        "example[6].show()"
      ]
    },
    {
      "cell_type": "markdown",
      "metadata": {
        "id": "SK7YnBQ-_4Gd"
      },
      "source": [
        "What ScaPy shows as 'Raw' for this packet is everything after the IP and TCP headers, which turns out to be HTTP.  \n",
        "\n",
        "This specific packet is an attack packet that pretends to be the AMF network function asking for information about the UDM network function. The attack itself is contained in the HTTP data. All of our attacks occur in HTTP or PFCP data; luckily for us, Scapy labels those portions as 'Raw'. The IP and TCP headers aren't part of the attack, but they might tip off the model based on commonalities between the attacks, so we will strip off those layers and only keep the 'Raw' portion."
      ]
    },
    {
      "cell_type": "markdown",
      "metadata": {
        "id": "DQIl2TI1_4Ge"
      },
      "source": [
        "## Open the Normal-1UE data and append it all together"
      ]
    },
    {
      "cell_type": "markdown",
      "metadata": {
        "id": "G0QkZg2V_4Gf"
      },
      "source": [
        "### Close any running tqdm instances\n",
        "The `tqdm` library provides a handy progress bar. The below section of code is only useful if you're rerunning cells in Jupyter because Jupyter maintains variables in memory, so rerunning a cell can open new instances of `tqdm`, causing the progress bar to not update in-line."
      ]
    },
    {
      "cell_type": "code",
      "execution_count": null,
      "metadata": {
        "id": "hFiRfXVF_4Gf",
        "outputId": "db86b6bd-a2e4-4a67-c7e3-00e3a0321249"
      },
      "outputs": [
        {
          "name": "stdout",
          "output_type": "stream",
          "text": [
            "Made it past clearing instances\n"
          ]
        }
      ],
      "source": [
        "while len(tqdm._instances) > 0:\n",
        "    tqdm._instances.pop().close()\n",
        "print(\"Made it past clearing instances\")"
      ]
    },
    {
      "cell_type": "markdown",
      "metadata": {
        "id": "ELKb4REZ_4Gf"
      },
      "source": [
        "The Normal-1UE data is spread across several 'allcap*' files, so we need to iterate through the files, process them with Scapy, and combine the data into one array.\n",
        "- we gather a list of .pcapng files (in the Normal-1UE directory) starting with 'allcap' using the `glob` function\n",
        "- the `sniff` function is a Scapy method for reading capture files. Another possible method to use is `rdpcap`, but I found sniff to be faster for large sets.\n",
        "- The Raw data output by Scapy is ugly, and not especially useful in its initial form. It will look like individual bytes represented in hexadecimal and separated by '\\'\n",
        "    - To remedy this, we use `binascii.hexlify`, which converts converts each byte of the binary output of sniff() to its 2-digit hex representation, which is output as a string.\n",
        "    \n",
        "**NOTE: Reading in these pcapng files is not a quick process, so expect this section to take 10+ minutes with a decently fast CPU**"
      ]
    },
    {
      "cell_type": "code",
      "execution_count": null,
      "metadata": {
        "id": "ZYOL2mTv_4Gg",
        "outputId": "734e379c-d331-4ff2-ce89-815eab4a7c7a",
        "colab": {
          "referenced_widgets": [
            "9b42ff90fb78456aa8f088f14565e2f8"
          ]
        }
      },
      "outputs": [
        {
          "name": "stdout",
          "output_type": "stream",
          "text": [
            "['Normal-1UE/allcap_00006_20220607091008.pcapng', 'Normal-1UE/allcap_00003_20220606211007.pcapng', 'Normal-1UE/allcap_00001_20220606131007.pcapng', 'Normal-1UE/allcap_00002_20220606171007.pcapng', 'Normal-1UE/allcap_00005_20220607051008.pcapng', 'Normal-1UE/allcap_00001_20220606102554.pcapng', 'Normal-1UE/allcap_00004_20220607011007.pcapng']\n"
          ]
        },
        {
          "data": {
            "application/vnd.jupyter.widget-view+json": {
              "model_id": "9b42ff90fb78456aa8f088f14565e2f8",
              "version_major": 2,
              "version_minor": 0
            },
            "text/plain": [
              "  0%|          | 0/7 [00:00<?, ?it/s]"
            ]
          },
          "metadata": {},
          "output_type": "display_data"
        },
        {
          "name": "stdout",
          "output_type": "stream",
          "text": [
            "9339618\n"
          ]
        }
      ],
      "source": [
        "datasets = glob(pathToNormal+'allcap*.pcapng')\n",
        "print(datasets)\n",
        "payloads = []\n",
        "for file in tqdm(datasets):\n",
        "    pcap = sniff(offline=str(file))\n",
        "    for packet in pcap:\n",
        "        if not Raw in packet:\n",
        "            continue\n",
        "        payload = binascii.hexlify(packet[Raw].original)\n",
        "        payloads.append(payload)\n",
        "print(len(payloads))"
      ]
    },
    {
      "cell_type": "markdown",
      "metadata": {
        "id": "ZqD9uxNO_4Gg"
      },
      "source": [
        "### Add labels to the data and save it as a CSV\n",
        "We take the payloads pulled from the pcap files and put them into a `pandas` DataFrame. The DataFrame is convenient for both shuffling the data (done with `.sample(frac=1)`) and writing it to a CSV. Before we write the payloads to a CSV, we add a \"label\" column filled with 'normal' to simplify creating a mixed set later. The CSV makes the payloads human-readable in a way that a pickled or numpy-saved file would not be."
      ]
    },
    {
      "cell_type": "code",
      "execution_count": null,
      "metadata": {
        "id": "x6QSs3rn_4Gg",
        "outputId": "639d73a5-861a-4989-e6a9-f817d547b131"
      },
      "outputs": [
        {
          "name": "stdout",
          "output_type": "stream",
          "text": [
            "                                                 raw   label\n",
            "0  b'5497e16da1b9130133e5e732e67c0047910ac5fcee6b...  normal\n",
            "1  b'5445177f2e2747f98c8e1bbf79528d030a242a515814...  normal\n",
            "2  b'4eccbad439a0903d62084b152dc51a3e9c21bdc05ef5...  normal\n",
            "3  b'34ff00c0000000010000008501000900456000b80000...  normal\n",
            "4  b'0a061f1bbb205a0a14a33dc41faa033103ab6cf44fc6...  normal\n"
          ]
        }
      ],
      "source": [
        "data = {'raw':payloads}\n",
        "df = pd.DataFrame(data=data).sample(frac=1).reset_index(drop=True)\n",
        "df.loc[:,'label'] = 'normal'\n",
        "df.to_csv(f\"{processedPath}normal_data.csv\", index=False)\n",
        "print(df.head(5))"
      ]
    },
    {
      "cell_type": "markdown",
      "metadata": {
        "id": "f_wDjH8W_4Gh"
      },
      "source": [
        "## Open the 2UE normal data and append it together\n",
        "The process used to handle the Normal-1UE data applies here as well, with a notable exception: speed.  \n",
        "**Reading in the 2UE files is MUCH slower than the 1UE files because 2UE has 23M packets vs. 1UE's 9M.**"
      ]
    },
    {
      "cell_type": "code",
      "execution_count": null,
      "metadata": {
        "id": "YqAxT6oA_4Gh",
        "outputId": "f1288d46-d701-4561-9b2a-13c3aa683938"
      },
      "outputs": [
        {
          "name": "stdout",
          "output_type": "stream",
          "text": [
            "Made it past clearing instances\n",
            "24851445\n"
          ]
        }
      ],
      "source": [
        "# Close tqdm instances:\n",
        "while len(tqdm._instances) > 0:\n",
        "    tqdm._instances.pop().close()\n",
        "print(\"Made it past clearing instances\")\n",
        "\n",
        "datasets = glob(pathToNormal2UE+'allcap*.pcapng')\n",
        "payloads = []\n",
        "for pcap in datasets:\n",
        "    pcap = sniff(offline=str(file))\n",
        "    for packet in pcap:\n",
        "        if not Raw in packet:\n",
        "            continue\n",
        "        payload = binascii.hexlify(packet[Raw].original)\n",
        "        payloads.append(payload)\n",
        "print(len(payloads))"
      ]
    },
    {
      "cell_type": "markdown",
      "metadata": {
        "id": "CBWdzNVN_4Gh"
      },
      "source": [
        "The 2UE data is ***massive***, so it's important to save at this point to avoid accidental loss. We experienced memory overloads, which crashed the program while trying to save to either a .npy or CSV (though, when the crashes occured, we were running the notebook cells out of order. YMMV). I discovered that saving as a pickle file used up less memory and helped to avoid crashes. *You don't want to crash before saving and have to rerun the 2 hour processing time.*"
      ]
    },
    {
      "cell_type": "code",
      "execution_count": null,
      "metadata": {
        "id": "6ICgj2zv_4Gh"
      },
      "outputs": [],
      "source": [
        "with open('2ue.p','wb') as file:\n",
        "    pickle.dump(payloads,file)"
      ]
    },
    {
      "cell_type": "code",
      "execution_count": null,
      "metadata": {
        "id": "c1kY1Xxj_4Gh"
      },
      "outputs": [],
      "source": [
        "with open('2ue.p','rb') as file:\n",
        "    payloads = pickle.load(file)"
      ]
    },
    {
      "cell_type": "code",
      "execution_count": null,
      "metadata": {
        "id": "YYjLxqbG_4Gi"
      },
      "outputs": [],
      "source": [
        "data = {'raw':payloads,'label':['normal']*len(payloads)}\n",
        "# print(data['label'][0])\n",
        "df = pd.DataFrame(data=data).sample(frac=1).reset_index(drop=True)\n",
        "df.to_csv(f\"{processedPath}normal_data_2ue.csv\", index=False)"
      ]
    },
    {
      "cell_type": "markdown",
      "metadata": {
        "tags": [],
        "id": "ix5dhjCa_4Gi"
      },
      "source": [
        "## Open the malicious data and append it all together\n",
        "The total data collected while running the attacks is much smaller than the collected normal datas. The size of the isolated attack data is even smaller because we used Wireshark to filter out and export the packets performing the attacks. The filtered pcap files are labelled beginning with \"Attacks_\".  \n",
        "Also of note is that each attack is within its own subdirectory of the Attacks directory. The folders are named for the attack type, and each pcap file is also named for the attack type."
      ]
    },
    {
      "cell_type": "markdown",
      "metadata": {
        "id": "1Qvt-qmc_4Gj"
      },
      "source": [
        "<!-- one packet attack, contents of packet trigger attack\n",
        "run multiple times in capture\n",
        "rest of packet is normal traffic -->"
      ]
    },
    {
      "cell_type": "code",
      "execution_count": null,
      "metadata": {
        "id": "gqPgA68b_4Gj",
        "outputId": "b8183bee-1f4b-43ee-b5e2-14b306aeb2f7"
      },
      "outputs": [
        {
          "name": "stdout",
          "output_type": "stream",
          "text": [
            "Failed to find 'Attacks*.pcapng' file in folder:  Attacks/.ipynb_checkpoints\n",
            "24174\n"
          ]
        }
      ],
      "source": [
        "## Remove previously-used variables from memory if they exist. This helps to reduce memory usage, and perhaps equally as important, prevent variables remaining in memory from causing unintended behavior.\n",
        "## This step isn't important if the notebook is run sequentially, but in our workflow, we would re-run certain sections as needed.\n",
        "try:\n",
        "    del dataset, payload, payloads, data, df\n",
        "except:\n",
        "    pass\n",
        "\n",
        "sets = []\n",
        "# print(os.listdir(pathToAttack))\n",
        "for i in os.listdir(pathToAttack):\n",
        "    dataset = glob(pathToAttack+i+'/Attacks*.pcapng')\n",
        "    try:\n",
        "        # print(dataset[0])\n",
        "        sets.append(str(dataset[0]))\n",
        "    except:\n",
        "        print(\"Failed to find 'Attacks*.pcapng' file in folder: \", str(pathToAttack+i))\n",
        "\n",
        "# print(sets)\n",
        "payloads = []\n",
        "for file in sets:\n",
        "    pcap = sniff(offline=str(file))\n",
        "\n",
        "    for packet in pcap[Raw]:\n",
        "        if not Raw in packet:\n",
        "            continue\n",
        "        payload = binascii.hexlify(packet[Raw].original)\n",
        "        payloads.append(payload)\n",
        "    # print(file,len(payloads)\n",
        "print(len(payloads))"
      ]
    },
    {
      "cell_type": "code",
      "execution_count": null,
      "metadata": {
        "id": "nfToR4UC_4Gj"
      },
      "outputs": [],
      "source": [
        "data = {'raw':payloads}\n",
        "df = pd.DataFrame(data=data)\n",
        "df.loc[:,'label'] = 'attack'\n",
        "df.to_csv(f\"{processedPath}malicious_data.csv\", index=False)\n",
        "\n",
        "try:\n",
        "    del dataset, payload, payloads, data, df\n",
        "except:\n",
        "    pass"
      ]
    },
    {
      "cell_type": "markdown",
      "metadata": {
        "id": "10sVMAfq_4Gj"
      },
      "source": [
        "## Import the data from the CSVs\n",
        "Using cuDF and cuPy should increase the processing speed (by orders of magnitude) over using pandas and numpy because these new libraries use Nvidia CUDA cores for the processing. The documentation says cuDF and cuPy should implement most methods from pandas and numpy, but I had difficulty using the CUDA accelerated libraries by importing them under the same alias as pandas and numpy.\n",
        "\n",
        "The issue I encounter was cuDF and cuPY expecting *very specific* data-types as function parameters, which I unsuccessfully tried to provide. You, the reader, may be able to figure it out if it piques your interest.\n",
        "\n",
        "Back to pandas and numpy...  \n",
        "### Importing CSVs..."
      ]
    },
    {
      "cell_type": "code",
      "execution_count": null,
      "metadata": {
        "id": "5cOEThX2_4Gj"
      },
      "outputs": [],
      "source": [
        "# import cudf as pd\n",
        "# import cupy as np"
      ]
    },
    {
      "cell_type": "code",
      "execution_count": null,
      "metadata": {
        "id": "ziKgZPqJ_4Gj"
      },
      "outputs": [],
      "source": [
        "normal = pd.read_csv(f\"{processedPath}normal_data.csv\")\n",
        "normal2UE = pd.read_csv(f\"{processedPath}normal_data_2ue.csv\")\n",
        "malicious = pd.read_csv(f\"{processedPath}malicious_data.csv\")"
      ]
    },
    {
      "cell_type": "code",
      "execution_count": null,
      "metadata": {
        "id": "uxky1Ul9_4Gk",
        "outputId": "999c57d8-058e-49ae-e24a-082e797da632"
      },
      "outputs": [
        {
          "name": "stdout",
          "output_type": "stream",
          "text": [
            "Normal: \n"
          ]
        },
        {
          "data": {
            "text/html": [
              "<div>\n",
              "<style scoped>\n",
              "    .dataframe tbody tr th:only-of-type {\n",
              "        vertical-align: middle;\n",
              "    }\n",
              "\n",
              "    .dataframe tbody tr th {\n",
              "        vertical-align: top;\n",
              "    }\n",
              "\n",
              "    .dataframe thead th {\n",
              "        text-align: right;\n",
              "    }\n",
              "</style>\n",
              "<table border=\"1\" class=\"dataframe\">\n",
              "  <thead>\n",
              "    <tr style=\"text-align: right;\">\n",
              "      <th></th>\n",
              "      <th>raw</th>\n",
              "      <th>label</th>\n",
              "    </tr>\n",
              "  </thead>\n",
              "  <tbody>\n",
              "    <tr>\n",
              "      <th>0</th>\n",
              "      <td>b'5497e16da1b9130133e5e732e67c0047910ac5fcee6b...</td>\n",
              "      <td>normal</td>\n",
              "    </tr>\n",
              "    <tr>\n",
              "      <th>1</th>\n",
              "      <td>b'5445177f2e2747f98c8e1bbf79528d030a242a515814...</td>\n",
              "      <td>normal</td>\n",
              "    </tr>\n",
              "    <tr>\n",
              "      <th>2</th>\n",
              "      <td>b'4eccbad439a0903d62084b152dc51a3e9c21bdc05ef5...</td>\n",
              "      <td>normal</td>\n",
              "    </tr>\n",
              "    <tr>\n",
              "      <th>3</th>\n",
              "      <td>b'34ff00c0000000010000008501000900456000b80000...</td>\n",
              "      <td>normal</td>\n",
              "    </tr>\n",
              "  </tbody>\n",
              "</table>\n",
              "</div>"
            ],
            "text/plain": [
              "                                                 raw   label\n",
              "0  b'5497e16da1b9130133e5e732e67c0047910ac5fcee6b...  normal\n",
              "1  b'5445177f2e2747f98c8e1bbf79528d030a242a515814...  normal\n",
              "2  b'4eccbad439a0903d62084b152dc51a3e9c21bdc05ef5...  normal\n",
              "3  b'34ff00c0000000010000008501000900456000b80000...  normal"
            ]
          },
          "execution_count": 7,
          "metadata": {},
          "output_type": "execute_result"
        }
      ],
      "source": [
        "print('Normal: ')\n",
        "normal.head(4)"
      ]
    },
    {
      "cell_type": "code",
      "execution_count": null,
      "metadata": {
        "id": "R7uGb7ts_4Gk",
        "outputId": "4a73acdf-839d-4d82-b6cc-926cffd5024a"
      },
      "outputs": [
        {
          "name": "stdout",
          "output_type": "stream",
          "text": [
            "Normal-2UE: \n"
          ]
        },
        {
          "data": {
            "text/html": [
              "<div>\n",
              "<style scoped>\n",
              "    .dataframe tbody tr th:only-of-type {\n",
              "        vertical-align: middle;\n",
              "    }\n",
              "\n",
              "    .dataframe tbody tr th {\n",
              "        vertical-align: top;\n",
              "    }\n",
              "\n",
              "    .dataframe thead th {\n",
              "        text-align: right;\n",
              "    }\n",
              "</style>\n",
              "<table border=\"1\" class=\"dataframe\">\n",
              "  <thead>\n",
              "    <tr style=\"text-align: right;\">\n",
              "      <th></th>\n",
              "      <th>raw</th>\n",
              "      <th>label</th>\n",
              "    </tr>\n",
              "  </thead>\n",
              "  <tbody>\n",
              "    <tr>\n",
              "      <th>0</th>\n",
              "      <td>b'34ff027d000000010000008501100900450002750000...</td>\n",
              "      <td>normal</td>\n",
              "    </tr>\n",
              "    <tr>\n",
              "      <th>1</th>\n",
              "      <td>b'591d7435daee582a77fab1fbf19331c573956854543c...</td>\n",
              "      <td>normal</td>\n",
              "    </tr>\n",
              "    <tr>\n",
              "      <th>2</th>\n",
              "      <td>b'34ff00440000000100000085010009004580003c50dc...</td>\n",
              "      <td>normal</td>\n",
              "    </tr>\n",
              "    <tr>\n",
              "      <th>3</th>\n",
              "      <td>b'34ff009100000001000000850110090045000089125e...</td>\n",
              "      <td>normal</td>\n",
              "    </tr>\n",
              "    <tr>\n",
              "      <th>4</th>\n",
              "      <td>b'34ff0030000000010000008501100900452000280000...</td>\n",
              "      <td>normal</td>\n",
              "    </tr>\n",
              "  </tbody>\n",
              "</table>\n",
              "</div>"
            ],
            "text/plain": [
              "                                                 raw   label\n",
              "0  b'34ff027d000000010000008501100900450002750000...  normal\n",
              "1  b'591d7435daee582a77fab1fbf19331c573956854543c...  normal\n",
              "2  b'34ff00440000000100000085010009004580003c50dc...  normal\n",
              "3  b'34ff009100000001000000850110090045000089125e...  normal\n",
              "4  b'34ff0030000000010000008501100900452000280000...  normal"
            ]
          },
          "execution_count": 8,
          "metadata": {},
          "output_type": "execute_result"
        }
      ],
      "source": [
        "print('Normal-2UE: ')\n",
        "normal2UE.head()"
      ]
    },
    {
      "cell_type": "code",
      "execution_count": null,
      "metadata": {
        "id": "YOM1kiWN_4Gk",
        "outputId": "24463156-1476-4eb7-f0b6-5b792774dbd2"
      },
      "outputs": [
        {
          "name": "stdout",
          "output_type": "stream",
          "text": [
            "Malicious: \n"
          ]
        },
        {
          "data": {
            "text/html": [
              "<div>\n",
              "<style scoped>\n",
              "    .dataframe tbody tr th:only-of-type {\n",
              "        vertical-align: middle;\n",
              "    }\n",
              "\n",
              "    .dataframe tbody tr th {\n",
              "        vertical-align: top;\n",
              "    }\n",
              "\n",
              "    .dataframe thead th {\n",
              "        text-align: right;\n",
              "    }\n",
              "</style>\n",
              "<table border=\"1\" class=\"dataframe\">\n",
              "  <thead>\n",
              "    <tr style=\"text-align: right;\">\n",
              "      <th></th>\n",
              "      <th>raw</th>\n",
              "      <th>label</th>\n",
              "    </tr>\n",
              "  </thead>\n",
              "  <tbody>\n",
              "    <tr>\n",
              "      <th>0</th>\n",
              "      <td>b'474554202f6e6e72662d646973632f76312f6e662d69...</td>\n",
              "      <td>attack</td>\n",
              "    </tr>\n",
              "    <tr>\n",
              "      <th>1</th>\n",
              "      <td>b'474554202f6e6e72662d646973632f76312f6e662d69...</td>\n",
              "      <td>attack</td>\n",
              "    </tr>\n",
              "    <tr>\n",
              "      <th>2</th>\n",
              "      <td>b'474554202f6e6e72662d646973632f76312f6e662d69...</td>\n",
              "      <td>attack</td>\n",
              "    </tr>\n",
              "    <tr>\n",
              "      <th>3</th>\n",
              "      <td>b'474554202f6e6e72662d646973632f76312f6e662d69...</td>\n",
              "      <td>attack</td>\n",
              "    </tr>\n",
              "  </tbody>\n",
              "</table>\n",
              "</div>"
            ],
            "text/plain": [
              "                                                 raw   label\n",
              "0  b'474554202f6e6e72662d646973632f76312f6e662d69...  attack\n",
              "1  b'474554202f6e6e72662d646973632f76312f6e662d69...  attack\n",
              "2  b'474554202f6e6e72662d646973632f76312f6e662d69...  attack\n",
              "3  b'474554202f6e6e72662d646973632f76312f6e662d69...  attack"
            ]
          },
          "execution_count": 9,
          "metadata": {},
          "output_type": "execute_result"
        }
      ],
      "source": [
        "print('Malicious: ')\n",
        "malicious.head(4)"
      ]
    },
    {
      "cell_type": "markdown",
      "metadata": {
        "id": "BHu7Dpj9_4Gk"
      },
      "source": [
        "## Create new sets from the old for training models\n",
        "We want to have a set that is 50% attacks, 50% normal and a set of the two types of normal traffic. Let's look at the size of the sets so we can determine how best to make the 25-25-50 (1UE-2UE-Attack) dataset."
      ]
    },
    {
      "cell_type": "code",
      "execution_count": null,
      "metadata": {
        "id": "68k6pNW3_4Gl",
        "outputId": "7f491f5f-dca8-4dba-a989-971c04128565"
      },
      "outputs": [
        {
          "name": "stdout",
          "output_type": "stream",
          "text": [
            "Normal size: (9339618, 2)\n",
            "Normal2UE size: (24851445, 2)\n",
            "Malicious size: (24174, 2)\n"
          ]
        }
      ],
      "source": [
        "print(f'Normal size: {normal.shape}')\n",
        "print(f'Normal2UE size: {normal2UE.shape}')\n",
        "print(f'Malicious size: {malicious.shape}')"
      ]
    },
    {
      "cell_type": "markdown",
      "metadata": {
        "id": "YxIGssai_4Gl"
      },
      "source": [
        "### Create a mixed set of both attack and normal\n",
        "We want a 50/50 split of normal/attack data, and the malicious set is significantly smaller than either of the normal sets. Therefore, we take **all** of malicious and then half as many samples each for Normal-1IU and normal2UE. To avoid some kind of data bias, normal and normal2UE are shuffled before sampling.\n",
        "\n",
        "Also, delete variables from memory as we go to avoid crashes."
      ]
    },
    {
      "cell_type": "code",
      "execution_count": null,
      "metadata": {
        "id": "_KrVPMU__4Gl",
        "outputId": "e24737d2-4d58-4199-f214-45521ff8288b"
      },
      "outputs": [
        {
          "name": "stdout",
          "output_type": "stream",
          "text": [
            "Packets in malicious:  24174\n",
            "Packets in mixed:  48349\n",
            "Mixed set is of the expected size:  False\n"
          ]
        }
      ],
      "source": [
        "mixed = malicious.sample(frac=1,random_state=100) #take all the malicious\n",
        "mixed = pd.concat([mixed, normal.sample(frac=1,random_state=100)[0:len(malicious)//2]]) #append the first {half the length of malicious} packets from normal-1ue\n",
        "mixed = pd.concat([mixed, normal2UE.sample(frac=1,random_state=100)[0:len(malicious)//2]]) #append the first {half the length of malicious} packets from normal-2ue\n",
        "mixed = mixed.sample(frac=1,random_state=1) #shuffle the data before processing\n",
        "## Separate the labels (important for using the mixed data to evaluate an autoencoder)\n",
        "mixed_labels = mixed.pop('label')\n",
        "np.save(f'{processedPath}mixed_labels.npy',mixed_labels)\n",
        "del mixed_labels\n",
        "print('Packets in malicious: ',len(malicious))\n",
        "print('Packets in mixed: ',len(mixed))\n",
        "print('Mixed set is of the expected size: ',len(malicious)*2==len(mixed))"
      ]
    },
    {
      "cell_type": "markdown",
      "metadata": {
        "id": "Tw7V5Ixy_4Gl"
      },
      "source": [
        "## Normalize the packet lengths and reshape each packet's string of bytes to an array of bytes\n",
        "- The length of the payloads can vary widely, from a few bytes to several thousand bytes. I checked a few dozen attack packets, and those usually weren't much longer (+/- 20%) than 1000 bytes. We have to use a square number for the length because our FPGAs don't like performing convolutions unless the inputs are square, i.e. 10x10, 25x25, 32x32, etc. If this is not desired, set the `reshape` argument to `False`\n",
        "    - to normalize the payload length, append zeros to the ends of packets shorter than the desired size and truncate longer packets to the desired size\n",
        "    - to convert from byte string to byte array, we use the numpy function `frombuffer`"
      ]
    },
    {
      "cell_type": "markdown",
      "metadata": {
        "id": "Zwpo7qEF_4Gm"
      },
      "source": [
        "#### Declare the desired, normalized size for the packets:"
      ]
    },
    {
      "cell_type": "code",
      "execution_count": null,
      "metadata": {
        "id": "ua3hOn01_4Gm"
      },
      "outputs": [],
      "source": [
        "max_packet_length = 1024"
      ]
    },
    {
      "cell_type": "code",
      "execution_count": null,
      "metadata": {
        "id": "s_iIi3am_4Gm"
      },
      "outputs": [],
      "source": [
        "def ReshapePackets(dataFrame, saveToFilename, max_packet_length, reshape=True):\n",
        "    '''Converts from byte strings in a DataFrame to a numpy array of bytes'''\n",
        "    array = np.array(dataFrame['raw'])\n",
        "    array = np.ascontiguousarray(array)\n",
        "    payloads = []\n",
        "    array.shape\n",
        "    for i in range(array.shape[0]):\n",
        "#         print(array[i])\n",
        "        # Standardize the length of the strings:\n",
        "        payloadStr = array[i].split('\\'')[1]\n",
        "        payloadStr = payloadStr.ljust(max_packet_length+2, u'0')\n",
        "        payloadStr = payloadStr[0:max_packet_length]\n",
        "        array[i] = payloadStr.encode('utf8')\n",
        "        # Convert to array:\n",
        "        array[i] = np.frombuffer(array[i],dtype=np.uint8,count=max_packet_length)\n",
        "        if(reshape=True):\n",
        "            payloads.append(np.reshape(array[i],(array[i].shape[0],1,1)))\n",
        "        else:\n",
        "            payloads.append(array[i])\n",
        "    payloads = np.array(payloads)\n",
        "    print('New data shape: ',payloads.shape)\n",
        "    np.save(saveToFilename,payloads)"
      ]
    },
    {
      "cell_type": "markdown",
      "metadata": {
        "id": "3S0AsVCp_4Gn"
      },
      "source": [
        "### Normalize and reshape the mixed data\n",
        "Also delete it to free memory"
      ]
    },
    {
      "cell_type": "code",
      "execution_count": null,
      "metadata": {
        "id": "a7y9aISM_4Gn",
        "outputId": "21599df9-3c52-44ec-8503-5236c40a014f"
      },
      "outputs": [
        {
          "name": "stdout",
          "output_type": "stream",
          "text": [
            "New data shape:  (48349, 1024, 1, 1)\n"
          ]
        }
      ],
      "source": [
        "ReshapePackets(mixed,f'{processedPath}mixed.npy',max_packet_length)\n",
        "del mixed"
      ]
    },
    {
      "cell_type": "markdown",
      "metadata": {
        "id": "tGbTwLvq_4Gn"
      },
      "source": [
        "### Create a 50/50 split of the two types of normal data:\n",
        "As before, delete the variables after we're done with them"
      ]
    },
    {
      "cell_type": "code",
      "execution_count": null,
      "metadata": {
        "id": "NPrwAMHN_4Go",
        "outputId": "e549d839-ce9d-4d5c-f627-9980c0d693ac"
      },
      "outputs": [
        {
          "name": "stdout",
          "output_type": "stream",
          "text": [
            "New data shape:  (9339618, 1024, 1, 1)\n",
            "New data shape:  (24851445, 1024, 1, 1)\n",
            "New data shape:  (18679236, 1024, 1, 1)\n"
          ]
        }
      ],
      "source": [
        "totalNormal = pd.concat([normal.sample(frac=1,random_state=2022),\n",
        "                         normal2UE.sample(frac=1,random_state=100)[0:len(normal)]\n",
        "                         ])\n",
        "totalNormal = totalNormal.sample(frac=1,random_state=2022)\n",
        "ReshapePackets(normal,f'{processedPath}normal.npy',max_packet_length)\n",
        "del normal\n",
        "ReshapePackets(normal2UE,f'{processedPath}normal2UE.npy',max_packet_length)\n",
        "del normal2UE\n",
        "ReshapePackets(totalNormal,f'{processedPath}total_normal.npy',max_packet_length)\n",
        "del totalNormal"
      ]
    },
    {
      "cell_type": "code",
      "execution_count": null,
      "metadata": {
        "id": "anjESAoF_4Go",
        "outputId": "a38639b7-c281-435c-c30a-b888b87da94e"
      },
      "outputs": [
        {
          "name": "stdout",
          "output_type": "stream",
          "text": [
            "[[[52]]\n",
            "\n",
            " [[97]]\n",
            "\n",
            " [[97]]\n",
            "\n",
            " ...\n",
            "\n",
            " [[48]]\n",
            "\n",
            " [[48]]\n",
            "\n",
            " [[48]]]\n",
            "['normal' 'normal' 'normal' 'attack' 'normal']\n"
          ]
        }
      ],
      "source": [
        "mixed = np.load(f'{processedPath}mixed.npy',allow_pickle=True)\n",
        "labels = np.load(f'{processedPath}mixed_labels.npy',allow_pickle=True)\n",
        "print(mixed[0:5][1])\n",
        "print(labels[0:5])"
      ]
    },
    {
      "cell_type": "code",
      "execution_count": null,
      "metadata": {
        "id": "xScn6OYK_4Go"
      },
      "outputs": [],
      "source": []
    }
  ],
  "metadata": {
    "kernelspec": {
      "display_name": "Python 3 (ipykernel)",
      "language": "python",
      "name": "python3"
    },
    "language_info": {
      "codemirror_mode": {
        "name": "ipython",
        "version": 3
      },
      "file_extension": ".py",
      "mimetype": "text/x-python",
      "name": "python",
      "nbconvert_exporter": "python",
      "pygments_lexer": "ipython3",
      "version": "3.9.13"
    },
    "colab": {
      "provenance": [],
      "include_colab_link": true
    }
  },
  "nbformat": 4,
  "nbformat_minor": 0
}